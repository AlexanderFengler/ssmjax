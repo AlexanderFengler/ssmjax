{
 "cells": [
  {
   "cell_type": "code",
   "execution_count": 3,
   "id": "aee1a6a5-c200-4663-94b2-e30a82b481f4",
   "metadata": {},
   "outputs": [],
   "source": [
    "import jax\n",
    "import jax.numpy as jnp\n",
    "from jax import grad, jit, vmap\n",
    "from jax import random\n",
    "#jax.config.update('jax_platform_name', 'cpu')\n",
    "#jax.default_device(jax.devices(\"cpu\")[0])"
   ]
  },
  {
   "cell_type": "code",
   "execution_count": 2,
   "id": "da0e49fc",
   "metadata": {},
   "outputs": [
    {
     "data": {
      "text/plain": [
       "<contextlib._GeneratorContextManager at 0x7f0ae4db8310>"
      ]
     },
     "execution_count": 2,
     "metadata": {},
     "output_type": "execute_result"
    }
   ],
   "source": [
    "jax.default_device()"
   ]
  },
  {
   "cell_type": "code",
   "execution_count": 3,
   "id": "6bd1fdcf",
   "metadata": {},
   "outputs": [
    {
     "name": "stderr",
     "output_type": "stream",
     "text": [
      "WARNING: All log messages before absl::InitializeLog() is called are written to STDERR\n",
      "I0000 00:00:1695952485.766221   17179 tfrt_cpu_pjrt_client.cc:349] TfrtCpuClient created.\n"
     ]
    },
    {
     "data": {
      "text/plain": [
       "'gpu'"
      ]
     },
     "execution_count": 3,
     "metadata": {},
     "output_type": "execute_result"
    }
   ],
   "source": [
    "jax.default_backend()"
   ]
  },
  {
   "cell_type": "code",
   "execution_count": 4,
   "id": "c763a56f",
   "metadata": {},
   "outputs": [
    {
     "data": {
      "text/plain": [
       "'gpu'"
      ]
     },
     "execution_count": 4,
     "metadata": {},
     "output_type": "execute_result"
    }
   ],
   "source": [
    "jax.default_backend()"
   ]
  },
  {
   "cell_type": "code",
   "execution_count": 5,
   "id": "e81a614b-1016-4829-a439-12315cd0f6b5",
   "metadata": {},
   "outputs": [
    {
     "name": "stdout",
     "output_type": "stream",
     "text": [
      "[-0.3721109   0.26423115 -0.18252768 -0.7368197  -0.44030377 -0.1521442\n",
      " -0.67135346 -0.5908641   0.73168886  0.5673026 ]\n"
     ]
    }
   ],
   "source": [
    "key = random.PRNGKey(0)\n",
    "x = random.normal(key, (10, ))\n",
    "print(x)"
   ]
  },
  {
   "cell_type": "code",
   "execution_count": 6,
   "id": "1646dad1-18ff-4371-847a-e66a8e3d5379",
   "metadata": {},
   "outputs": [
    {
     "name": "stdout",
     "output_type": "stream",
     "text": [
      "216 µs ± 77.2 µs per loop (mean ± std. dev. of 7 runs, 1 loop each)\n"
     ]
    }
   ],
   "source": [
    "size = 150\n",
    "x = random.normal(key, (size, size), dtype = jnp.float32)\n",
    "%timeit jnp.dot(x, x.T).block_until_ready()  # runs on the GPU"
   ]
  },
  {
   "cell_type": "code",
   "execution_count": 7,
   "id": "82e63dc0-7f5f-4d58-a205-222d90a12c90",
   "metadata": {},
   "outputs": [
    {
     "name": "stdout",
     "output_type": "stream",
     "text": [
      "87 µs ± 772 ns per loop (mean ± std. dev. of 7 runs, 10,000 loops each)\n"
     ]
    }
   ],
   "source": [
    "import numpy as np\n",
    "x = np.random.normal(size = (size, size)).astype(np.float32)\n",
    "%timeit jnp.dot(x, x.T).block_until_ready()"
   ]
  },
  {
   "cell_type": "code",
   "execution_count": 33,
   "id": "a8ec7918",
   "metadata": {},
   "outputs": [],
   "source": [
    "key = random.PRNGKey(0)\n",
    "dt = jnp.float32(0.001)\n",
    "dt_sqrt = jnp.sqrt(dt)\n",
    "drift = jnp.float32(2)\n",
    "drift_increment = drift * dt\n",
    "bound = jnp.float32(2)\n",
    "\n",
    "# x = jnp.cumsum((random.normal(key, (10000, 20000)).astype(jnp.float32) * dt_sqrt) + drift, axis = 1)\n",
    "\n",
    "x = (random.normal(key, (10000, 20000), dtype=jnp.float32))\n",
    "\n",
    "# @jax.jit\n",
    "# def prod_rts_from_rng(x, bound, dt, drift):\n",
    "#     dt_sqrt = jnp.sqrt(dt)\n",
    "#     drift_increment = drift * dt\n",
    "#     y = jnp.cumsum((x * dt_sqrt) + drift_increment, axis = 1)\n",
    "    \n",
    "#     rt_ids = jnp.argmax((y > bound) | (y < -bound), axis = 1)\n",
    "#     rt_signs = jnp.sign(y[jnp.arange(y.shape[0]), rt_ids])\n",
    "#     rts = rt_ids * rt_signs * dt\n",
    "#     return rts\n",
    "#     # return rts\n",
    "\n",
    "\n",
    "@jax.jit\n",
    "def prod_rts_from_rng(x, bound, dt, drift):\n",
    "    dt_sqrt = jnp.sqrt(dt)\n",
    "    drift_increment = drift * dt\n",
    "    y = jnp.cumsum(x + drift_increment, axis = 1)\n",
    "    rt_ids = jnp.argmax((y > bound) | (y < -bound), axis = 1)\n",
    "    rt_signs = jnp.sign(y[jnp.arange(y.shape[0]), rt_ids])\n",
    "    rts = rt_ids * rt_signs * dt\n",
    "    return rts\n",
    "    # return rts"
   ]
  },
  {
   "cell_type": "code",
   "execution_count": 11,
   "id": "bb01f545",
   "metadata": {},
   "outputs": [],
   "source": [
    "\n",
    "key = random.PRNGKey(0)\n",
    "def test_func(min_num, max_num, key, pos_init, bound):\n",
    "    @jax.jit\n",
    "    def body_fun(n, carry):\n",
    "        key, pos, mask, bound, rts, dec, step_counter = carry\n",
    "        step_counter = step_counter + 1\n",
    "        key, subkey = random.split(key)\n",
    "        ran_val = random.normal(key, (200000,), dtype=jnp.float32)\n",
    "        pos = pos + ran_val\n",
    "        ok_mask = (pos < bound) | (pos > -bound) * mask\n",
    "        rts = jnp.min(rts, step_counter * ok_mask)\n",
    "        dec = jnp.sign(pos) * ok_mask\n",
    "        return (subkey, pos, ok_mask, bound, rts, dec, step_counter)\n",
    "    subkey, pos = jax.lax.fori_loop(min_num, max_num, body_fun, (key, pos_init,\n",
    "                                                                 jnp.array([True]*pos_init.shape[0]), bound, jnp.zeros(pos_init.shape, dtype = jnp.float32), \n",
    "                                                                 jnp.zeros(pos_init.shape, dtype = jnp.float32),\n",
    "                                                                 0))\n",
    "    return pos"
   ]
  },
  {
   "cell_type": "code",
   "execution_count": 102,
   "id": "ebb9b94a",
   "metadata": {},
   "outputs": [],
   "source": [
    "\n",
    "key = random.PRNGKey(0)\n",
    "def test_func(min_num, max_num, key, pos_init, bound):\n",
    "    @jax.jit\n",
    "    def body_fun(n, carry):\n",
    "        key, pos, mask, bound, mask_int, rts = carry\n",
    "        #step_counter = step_counter + 1\n",
    "        key, subkey = random.split(key)\n",
    "        ran_val = random.normal(key, (200000,), dtype=jnp.float32) * jnp.sqrt(0.001)\n",
    "        pos = pos + ran_val\n",
    "        mask = ((pos < bound) & (pos > -bound)) * mask\n",
    "        mask_int = jnp.float32(n * mask)\n",
    "        rts = jnp.maximum(rts, mask_int)\n",
    "        dec.at\n",
    "        # dec = jnp.sign(pos) * ok_mask\n",
    "        return (subkey, pos, mask, bound, mask_int, rts)\n",
    "    subkey, pos, ok_mask, bound, mask_int, rts = jax.lax.fori_loop(min_num, max_num, body_fun, (key, \n",
    "                                                                                                pos_init,\n",
    "                                                                                                jnp.array([True]*pos_init.shape[0]), \n",
    "                                                                                                bound, jnp.array([0.]*pos_init.shape[0]),\n",
    "                                                                                                jnp.array([0.]*pos_init.shape[0])))\n",
    "    return pos, ok_mask, mask_int, rts"
   ]
  },
  {
   "cell_type": "code",
   "execution_count": 5,
   "id": "af4a50d4",
   "metadata": {},
   "outputs": [],
   "source": [
    "key = random.PRNGKey(0)\n",
    "def test_func(min_num, max_num, key, pos_init, bound):\n",
    "    @jax.jit\n",
    "    def body_fun(n, carry):\n",
    "        key, pos, mask, bound, mask_int, rts, dec = carry\n",
    "        #step_counter = step_counter + 1\n",
    "        key, subkey = random.split(key)\n",
    "        ran_val = random.normal(key, (200000,), dtype=jnp.float32) * jnp.sqrt(0.001)\n",
    "        pos = pos + ran_val\n",
    "        mask = ((pos < bound) & (pos > -bound)) * mask\n",
    "        mask_int = jnp.float32(n * mask)\n",
    "        rts = jnp.maximum(rts, mask_int)\n",
    "        dec = jnp.where(rts == mask_int, jnp.sign(pos), dec)\n",
    "        return (subkey, pos, mask, bound, mask_int, rts, dec)\n",
    "    subkey, pos, ok_mask, bound, mask_int, rts, dec  = jax.lax.fori_loop(min_num, max_num, body_fun, (key, \n",
    "                                                                                                      pos_init,\n",
    "                                                                                                      jnp.array([True]*pos_init.shape[0]), \n",
    "                                                                                                      bound, jnp.array([0.]*pos_init.shape[0]),\n",
    "                                                                                                      jnp.array([0.]*pos_init.shape[0]),\n",
    "                                                                                                      jnp.array([0.]*pos_init.shape[0])))\n",
    "    return pos, ok_mask, mask_int, rts, dec"
   ]
  },
  {
   "cell_type": "code",
   "execution_count": 65,
   "id": "a383d6f6",
   "metadata": {},
   "outputs": [],
   "source": [
    "key = random.PRNGKey(0)\n",
    "def test_func(min_num, max_num, key, dt, ndt, pos_init, bounds, drifts, biases): # bias ignored for now\n",
    "    keys = random.split(key, 20000)\n",
    "    drifts_internal = drifts * dt\n",
    "    n_bounds = jnp.max(jnp.array(bounds.shape))\n",
    "    n_drifts = jnp.max(jnp.array(drifts.shape))\n",
    "    n_particles = jnp.max(jnp.array(pos_init.shape))\n",
    "    n_biases = jnp.max(jnp.array(biases.shape))\n",
    "\n",
    "    #pos_init = pos_init.at[:, :, :, :].set( biases)\n",
    "    #print(pos_init[0, :, :, :])\n",
    "\n",
    "    pos_init = (-bounds + (2 * bounds * biases)) + pos_init\n",
    "\n",
    "    #pos_init_internal = -bound[0]\n",
    "    #ndt = 0.\n",
    "    \n",
    "    @jax.jit\n",
    "    def body_fun(n, carry):\n",
    "        # Stuff that carries across loop evals\n",
    "        pos, mask, bounds, drifts, biases, mask_int, rts, dec, keys = carry\n",
    "\n",
    "        # Shape of ran_val is (n_particles, 1, 1, 1)\n",
    "        ran_val = random.normal(keys[n], (pos_init.shape[0], 1, 1, 1), dtype=jnp.float32) * jnp.sqrt(dt)\n",
    "        \n",
    "        # pos = jax.vamp(lambda x: pos + ran_val + x, axes_out = -1)(drift_internal)\n",
    "        # Shape of pos is (n_particles, n_drifts, n_bounds, n_biases)\n",
    "        # Shape of drift is (1, n_drifts, 1, 1)\n",
    "        # Shape of bias  is (1, 1, 1, n_biases)\n",
    "        # Shape of bounds is (1, 1, n_bounds, 1)\n",
    "        \n",
    "        # Shape of pos is (n_particles, n_drifts, n_bounds, n_biases) + (n_particles, 1, 1, 1) + (1, n_drifts, 1, 1)\n",
    "        pos = pos + ran_val + drifts_internal\n",
    "\n",
    "        # Shape of mask is (n_particles, n_drifts, n_bounds)\n",
    "        # mask = jax.vmap(lambda x: (pos < x) & (pos > -x) , out_axes = -1)(bound)\n",
    "        mask = ((pos < bounds) & (pos > -bounds)) * mask\n",
    "        \n",
    "        # From here dimensions clear\n",
    "        mask_int = jnp.float32(n * mask)\n",
    "\n",
    "        # Shape of rts (n_particles, n_drifts, n_bounds)\n",
    "        rts = jnp.maximum(rts, mask_int)\n",
    "\n",
    "        # Shape of dec (n_particles, n_dirfts, n_bounds)\n",
    "        #tmp = rts == mask_int\n",
    "        dec = jnp.where(rts == mask_int, jnp.sign(pos), dec)\n",
    "        \n",
    "        return (pos, mask, bounds, drifts, biases, mask_int, rts, dec, keys)\n",
    "    \n",
    "    pos, ok_mask, bounds, drifts, biases, mask_int, rts, dec, keys,  = jax.lax.fori_loop(min_num, max_num, body_fun, (pos_init,\n",
    "                                                                                                           jnp.full((n_particles, n_drifts, n_bounds, n_biases), True), # ok_mask\n",
    "                                                                                                           bounds,\n",
    "                                                                                                           drifts,\n",
    "                                                                                                           biases,\n",
    "                                                                                                           jnp.full((n_particles, n_drifts, n_bounds, n_biases), 1.),\n",
    "                                                                                                           jnp.full((n_particles, n_drifts, n_bounds, n_biases), 0.),\n",
    "                                                                                                           jnp.full((n_particles, n_drifts, n_bounds, n_biases), 0.),\n",
    "                                                                                                           keys))\n",
    "    return pos, ok_mask, mask_int, (rts * dt) + ndt, dec"
   ]
  },
  {
   "cell_type": "code",
   "execution_count": 10,
   "id": "df2ad716",
   "metadata": {},
   "outputs": [],
   "source": [
    "# Allow any drift and any boundary\n",
    "\n",
    "key = random.PRNGKey(0)\n",
    "def test_func(min_num, max_num, key, dt, ndt, pos_init, bounds, drifts, biases): # bias ignored for now\n",
    "    keys = random.split(key, max_num)\n",
    "    drifts_internal = drifts * dt\n",
    "    n_bounds = jnp.max(jnp.array(bounds.shape[1:]))\n",
    "    n_drifts = jnp.max(jnp.array(drifts.shape[1:]))\n",
    "    n_particles = jnp.max(jnp.array(pos_init.shape))\n",
    "    n_biases = jnp.max(jnp.array(biases.shape[1:]))\n",
    "\n",
    "    print(n_bounds)\n",
    "    \n",
    "    #pos_init = pos_init.at[:, :, :, :].set( biases)\n",
    "    #print(pos_init[0, :, :, :])\n",
    "\n",
    "    pos_init = (-bounds[0] + (2 * bounds[0] * biases)) + pos_init\n",
    "    print(pos_init.shape)\n",
    "\n",
    "    #pos_init_internal = -bound[0]\n",
    "    #ndt = 0.\n",
    "\n",
    "    @jax.jit\n",
    "    def propagation_kernel(pos, random_displacements, drift):\n",
    "        return pos + random_displacements + drift\n",
    "    \n",
    "    @jax.jit\n",
    "    def body_fun(n, carry):\n",
    "        # Stuff that carries across loop evals\n",
    "        pos, mask, bounds, drifts, biases, mask_int, rts, dec, keys = carry\n",
    "\n",
    "        # Shape of ran_val is (n_particles, 1, 1, 1)\n",
    "        ran_val = random.normal(keys[n], (pos_init.shape[0], 1, 1, 1), dtype=jnp.float32) * jnp.sqrt(dt)\n",
    "        \n",
    "        # pos = jax.vamp(lambda x: pos + ran_val + x, axes_out = -1)(drift_internal)\n",
    "        # Shape of pos is (n_particles, n_drifts, n_bounds, n_biases)\n",
    "        # Shape of drift is (1, n_drifts, 1, 1)\n",
    "        # Shape of bias  is (1, 1, 1, n_biases)\n",
    "        # Shape of bounds is (1, 1, n_bounds, 1)\n",
    "        \n",
    "        # Shape of pos is (n_particles, n_drifts, n_bounds, n_biases) + (n_particles, 1, 1, 1) + (1, n_drifts, 1, 1)\n",
    "        pos = propagation_kernel(pos, ran_val, drifts_internal[n])\n",
    "        #pos = pos + ran_val + drifts_internal[n]\n",
    "        #print(pos.shape)\n",
    "\n",
    "        # Shape of mask is (n_particles, n_drifts, n_bounds)\n",
    "        # mask = jax.vmap(lambda x: (pos < x) & (pos > -x) , out_axes = -1)(bound)\n",
    "        mask = ((pos < bounds[n]) & (pos > -bounds[n])) * mask\n",
    "        \n",
    "        # From here dimensions clear\n",
    "        mask_int = jnp.float32(n * mask)\n",
    "\n",
    "        # Shape of rts (n_particles, n_drifts, n_bounds)\n",
    "        rts = jnp.maximum(rts, mask_int)\n",
    "\n",
    "        # Shape of dec (n_particles, n_dirfts, n_bounds)\n",
    "        #tmp = rts == mask_int\n",
    "        dec = jnp.where(rts == mask_int, jnp.sign(pos), dec)\n",
    "        \n",
    "        return (pos, mask, bounds, drifts, biases, mask_int, rts, dec, keys)\n",
    "    \n",
    "    pos, ok_mask, bounds, drifts, biases, mask_int, rts, dec, keys,  = jax.lax.fori_loop(min_num, max_num, body_fun, (pos_init,\n",
    "                                                                                                                      jnp.full((n_particles, n_drifts, n_bounds, n_biases), True), # ok_mask\n",
    "                                                                                                                      bounds,\n",
    "                                                                                                                      drifts,\n",
    "                                                                                                                      biases,\n",
    "                                                                                                                      jnp.full((n_particles, n_drifts, n_bounds, n_biases), 1.),\n",
    "                                                                                                                      jnp.full((n_particles, n_drifts, n_bounds, n_biases), 0.),\n",
    "                                                                                                                      jnp.full((n_particles, n_drifts, n_bounds, n_biases), 0.),\n",
    "                                                                                                                      keys))\n",
    "    return pos, ok_mask, mask_int, (rts * dt) + ndt, dec"
   ]
  },
  {
   "cell_type": "code",
   "execution_count": null,
   "id": "fbf37c5a",
   "metadata": {},
   "outputs": [],
   "source": [
    "# Allow random drift and boundary across particles\n",
    "\n",
    "key = random.PRNGKey(0)\n",
    "def test_func(min_num, max_num, key, dt, ndt, pos_init, bounds, drifts, biases): # bias ignored for now\n",
    "    keys = random.split(key, max_num)\n",
    "    drifts_internal = drifts * dt\n",
    "    n_bounds = jnp.max(jnp.array(bounds.shape[1:]))\n",
    "    n_drifts = jnp.max(jnp.array(drifts.shape[1:]))\n",
    "    n_particles = jnp.max(jnp.array(pos_init.shape))\n",
    "    n_biases = jnp.max(jnp.array(biases.shape[1:]))\n",
    "\n",
    "    print(n_bounds)\n",
    "    \n",
    "    #pos_init = pos_init.at[:, :, :, :].set( biases)\n",
    "    #print(pos_init[0, :, :, :])\n",
    "\n",
    "    pos_init = (-bounds[0] + (2 * bounds[0] * biases)) + pos_init\n",
    "    print(pos_init.shape)\n",
    "\n",
    "    #pos_init_internal = -bound[0]\n",
    "    #ndt = 0.\n",
    "\n",
    "    @jax.jit\n",
    "    def propagation_kernel(pos, random_displacements, drift):\n",
    "        return pos + random_displacements + drift\n",
    "\n",
    "    @jax.jit\n",
    "    def my_bound(a, t):\n",
    "        bound = jnp.ones(t.shape[0]) * a\n",
    "        return jnp.array(bound, dtype = jnp.float32)\n",
    "\n",
    "    @jax.jit\n",
    "    def my_drift(v, t):\n",
    "        drift = jnp.ones(t.shape[0]) * v\n",
    "        return jnp.array(drift, dtype = jnp.float32)\n",
    "\n",
    "\n",
    "    @jax.jit\n",
    "    def drift_fun(v, t):\n",
    "        jnp.\n",
    "        return v\n",
    "\n",
    "\n",
    "    @jax.jit\n",
    "    def bound_fun()\n",
    "    \n",
    "    @jax.jit\n",
    "    def body_fun(n, carry):\n",
    "        # Stuff that carries across loop evals\n",
    "        pos, mask, bounds, drifts, biases, mask_int, rts, dec, keys = carry\n",
    "\n",
    "        # Shape of ran_val is (n_particles, 1, 1, 1)\n",
    "        ran_val = random.normal(keys[n], (pos_init.shape[0], 1, 1, 1), dtype=jnp.float32) * jnp.sqrt(dt)\n",
    "        \n",
    "        # pos = jax.vamp(lambda x: pos + ran_val + x, axes_out = -1)(drift_internal)\n",
    "        # Shape of pos is (n_particles, n_drifts, n_bounds, n_biases)\n",
    "        # Shape of drift is (1, n_drifts, 1, 1)\n",
    "        # Shape of bias  is (1, 1, 1, n_biases)\n",
    "        # Shape of bounds is (1, 1, n_bounds, 1)\n",
    "        \n",
    "        # Shape of pos is (n_particles, n_drifts, n_bounds, n_biases) + (n_particles, 1, 1, 1) + (1, n_drifts, 1, 1)\n",
    "        pos = propagation_kernel(pos, ran_val, drifts_internal[n])\n",
    "        #pos = pos + ran_val + drifts_internal[n]\n",
    "        #print(pos.shape)\n",
    "\n",
    "        # Shape of mask is (n_particles, n_drifts, n_bounds)\n",
    "        # mask = jax.vmap(lambda x: (pos < x) & (pos > -x) , out_axes = -1)(bound)\n",
    "        mask = ((pos < bounds[n]) & (pos > -bounds[n])) * mask\n",
    "        \n",
    "        # From here dimensions clear\n",
    "        mask_int = jnp.float32(n * mask)\n",
    "\n",
    "        # Shape of rts (n_particles, n_drifts, n_bounds)\n",
    "        rts = jnp.maximum(rts, mask_int)\n",
    "\n",
    "        # Shape of dec (n_particles, n_dirfts, n_bounds)\n",
    "        #tmp = rts == mask_int\n",
    "        dec = jnp.where(rts == mask_int, jnp.sign(pos), dec)\n",
    "        \n",
    "        return (pos, mask, bounds, drifts, biases, mask_int, rts, dec, keys)\n",
    "    \n",
    "    pos, ok_mask, bounds, drifts, biases, mask_int, rts, dec, keys,  = jax.lax.fori_loop(min_num, max_num, body_fun, (pos_init,\n",
    "                                                                                                                      jnp.full((n_particles, n_drifts, n_bounds, n_biases), True), # ok_mask\n",
    "                                                                                                                      bounds,\n",
    "                                                                                                                      drifts,\n",
    "                                                                                                                      biases,\n",
    "                                                                                                                      jnp.full((n_particles, n_drifts, n_bounds, n_biases), 1.),\n",
    "                                                                                                                      jnp.full((n_particles, n_drifts, n_bounds, n_biases), 0.),\n",
    "                                                                                                                      jnp.full((n_particles, n_drifts, n_bounds, n_biases), 0.),\n",
    "                                                                                                                      keys))\n",
    "    return pos, ok_mask, mask_int, (rts * dt) + ndt, dec"
   ]
  },
  {
   "cell_type": "code",
   "execution_count": 11,
   "id": "2712c965",
   "metadata": {},
   "outputs": [],
   "source": [
    "from functools import partial\n",
    "\n",
    "@jax.jit\n",
    "def my_bound(a, t):\n",
    "    bound = jnp.ones(t.shape[0]) * a\n",
    "    return jnp.array(bound, dtype = jnp.float32)\n",
    "\n",
    "def bound_with_t(func, t):\n",
    "    new_func = jax.jit(partial(func, t = t))\n",
    "    return new_func\n",
    "\n",
    "@jax.jit\n",
    "def my_drift(v, t):\n",
    "    drift = jnp.ones(t.shape[0]) * v\n",
    "    return jnp.array(drift, dtype = jnp.float32)\n",
    "\n",
    "def drift_with_t(func, t):\n",
    "    new_func = jax.jit(partial(func, t = t))\n",
    "    return new_func"
   ]
  },
  {
   "cell_type": "code",
   "execution_count": 16,
   "id": "3d79bed9",
   "metadata": {},
   "outputs": [
    {
     "name": "stdout",
     "output_type": "stream",
     "text": [
      "10\n",
      "(200000, 1, 10, 1)\n"
     ]
    }
   ],
   "source": [
    "#test_func(min_num = 0, max_num = 20000, key, dt, ndt, pos_init, bound, drift, bias # bias ignored for now\n",
    "n_particles = 200000\n",
    "dt = 0.001\n",
    "n_drifts = 1\n",
    "n_bounds = 10\n",
    "n_biases = 1\n",
    "\n",
    "my_new_bound = bound_with_t(my_bound, t = jnp.arange(20000))\n",
    "my_bounds = jax.vmap(my_new_bound, in_axes=0, out_axes = -1)(jnp.linspace(1,3,n_bounds))\n",
    "bounds = jnp.reshape(my_bounds, (20000, 1, 1, n_bounds, 1))\n",
    "\n",
    "\n",
    "my_new_drift = drift_with_t(my_drift, t = jnp.arange(20000))\n",
    "my_drifts = jax.vmap(my_new_drift, in_axes = 0, out_axes = -1)(jnp.linspace(-2, 2, n_drifts))\n",
    "drifts = jnp.reshape(my_drifts, (20000, 1, n_drifts, 1, 1))\n",
    "\n",
    "#drifts = jnp.reshape(jnp.linspace(-2, 2, n_drifts), (1, n_drifts, 1, 1))\n",
    "\n",
    "biases = jnp.reshape(jnp.linspace(0.1, 0.9, n_biases), (1, 1, 1, n_biases))\n",
    "\n",
    "out = test_func(0, 20000, key, dt, 2, jnp.zeros((n_particles, n_drifts, n_bounds, n_biases)), \n",
    "                               bounds,\n",
    "                               drifts,\n",
    "                               jnp.reshape(jnp.linspace(0.1, 0.9, n_biases), (1, 1, 1, n_biases)))"
   ]
  },
  {
   "cell_type": "code",
   "execution_count": 81,
   "id": "211b76e9",
   "metadata": {},
   "outputs": [],
   "source": [
    "jax.vmap(my_new_drift, in_axes = 0, out_axes = -1)(jnp.linspace(-2, 2, n_drifts))"
   ]
  },
  {
   "cell_type": "code",
   "execution_count": 50,
   "id": "268b0629",
   "metadata": {},
   "outputs": [
    {
     "data": {
      "text/plain": [
       "(1, 1, 10, 1)"
      ]
     },
     "execution_count": 50,
     "metadata": {},
     "output_type": "execute_result"
    }
   ],
   "source": [
    "bounds[0].shape"
   ]
  },
  {
   "cell_type": "code",
   "execution_count": 36,
   "id": "71adbefe",
   "metadata": {},
   "outputs": [],
   "source": [
    "b = jnp.reshape(jnp.linspace(0.1, 0.9, n_biases), (1, 1, 1, n_biases)) # nbiases\n",
    "a = jnp.reshape(jnp.linspace(1, 3, n_bounds), (1, 1, n_bounds, 1)) # bounds"
   ]
  },
  {
   "cell_type": "code",
   "execution_count": 11,
   "id": "3bf1f23c",
   "metadata": {},
   "outputs": [],
   "source": [
    "@jax.jit\n",
    "def my_bound(a, t):\n",
    "    bound = jnp.ones(t.shape[0]) * a\n",
    "    return jnp.array(bound, dtype = jnp.float32)\n",
    "\n",
    "def bound_with_t(func, t):\n",
    "    new_func = jax.jit(partial(func, t = t))\n",
    "    return new_func\n",
    "\n"
   ]
  },
  {
   "cell_type": "code",
   "execution_count": 32,
   "id": "48b35cea",
   "metadata": {},
   "outputs": [],
   "source": [
    "from functools import partial\n",
    "my_new_bound = bound_with_t(my_bound, t = jnp.arange(20000))\n",
    "#my_new_bound = partial(my_bound, t = jnp.arange(20000))\n",
    "my_bounds = jax.vmap(my_new_bound, in_axes=0, out_axes = -1)(jnp.linspace(1,3,10))\n",
    "bounds = jnp.reshape(my_bounds, (20000, 1, 1, n_bounds, 1))"
   ]
  },
  {
   "cell_type": "code",
   "execution_count": 64,
   "id": "5cbbc842",
   "metadata": {},
   "outputs": [
    {
     "data": {
      "text/plain": [
       "(100000, 1, 10, 1)"
      ]
     },
     "execution_count": 64,
     "metadata": {},
     "output_type": "execute_result"
    }
   ],
   "source": [
    "out[-1].shape"
   ]
  },
  {
   "cell_type": "code",
   "execution_count": 62,
   "id": "9bfb3be0",
   "metadata": {},
   "outputs": [
    {
     "data": {
      "text/plain": [
       "(array([2.32720816e-04, 0.00000000e+00, 0.00000000e+00, 0.00000000e+00,\n",
       "        0.00000000e+00, 3.49081224e-04, 1.16359763e-04, 0.00000000e+00,\n",
       "        2.32720816e-04, 3.49081224e-04, 1.16359763e-04, 2.32720816e-04,\n",
       "        3.49081224e-04, 9.30883265e-04, 3.49079288e-04, 9.30883265e-04,\n",
       "        1.04724367e-03, 2.90900213e-03, 2.09448735e-03, 3.14172230e-03,\n",
       "        3.83989347e-03, 6.16708452e-03, 7.09798490e-03, 9.54152700e-03,\n",
       "        9.89063469e-03, 1.40796094e-02, 1.67558523e-02, 2.28066400e-02,\n",
       "        2.83918608e-02, 4.34024322e-02, 5.82964028e-02, 7.74960318e-02,\n",
       "        1.06818558e-01, 1.61275526e-01, 2.35745533e-01, 3.70840621e-01,\n",
       "        6.16126652e-01, 1.18373443e+00, 2.59890251e+00, 6.05050850e+00,\n",
       "        3.49080740e-04, 0.00000000e+00, 0.00000000e+00, 0.00000000e+00,\n",
       "        0.00000000e+00, 0.00000000e+00, 0.00000000e+00, 0.00000000e+00,\n",
       "        0.00000000e+00, 0.00000000e+00, 0.00000000e+00, 0.00000000e+00,\n",
       "        0.00000000e+00, 0.00000000e+00, 0.00000000e+00, 0.00000000e+00,\n",
       "        0.00000000e+00, 0.00000000e+00, 0.00000000e+00, 0.00000000e+00,\n",
       "        0.00000000e+00, 0.00000000e+00, 0.00000000e+00, 0.00000000e+00,\n",
       "        0.00000000e+00, 0.00000000e+00, 0.00000000e+00, 0.00000000e+00,\n",
       "        0.00000000e+00, 0.00000000e+00, 0.00000000e+00, 0.00000000e+00,\n",
       "        0.00000000e+00, 0.00000000e+00, 0.00000000e+00, 0.00000000e+00,\n",
       "        0.00000000e+00, 0.00000000e+00, 0.00000000e+00, 0.00000000e+00,\n",
       "        0.00000000e+00, 0.00000000e+00, 0.00000000e+00, 0.00000000e+00,\n",
       "        0.00000000e+00, 0.00000000e+00, 0.00000000e+00, 0.00000000e+00,\n",
       "        0.00000000e+00, 0.00000000e+00, 0.00000000e+00, 0.00000000e+00,\n",
       "        0.00000000e+00, 0.00000000e+00, 1.16360085e-04, 0.00000000e+00,\n",
       "        0.00000000e+00, 1.16360408e-04, 1.16360085e-04, 2.32720816e-04]),\n",
       " array([-5.44099998, -5.3550601 , -5.26912022, -5.18317986, -5.09723997,\n",
       "        -5.01130009, -4.9253602 , -4.83941984, -4.75347996, -4.66754007,\n",
       "        -4.58160019, -4.49565983, -4.40971994, -4.32378006, -4.23784018,\n",
       "        -4.15189981, -4.06595993, -3.98002005, -3.89407992, -3.80814004,\n",
       "        -3.72219992, -3.63626003, -3.55031991, -3.46438003, -3.3784399 ,\n",
       "        -3.29250002, -3.20656013, -3.12062001, -3.03468013, -2.94874001,\n",
       "        -2.86280012, -2.77686   , -2.69092011, -2.60497999, -2.51904011,\n",
       "        -2.43309999, -2.3471601 , -2.26121998, -2.17528009, -2.08933997,\n",
       "        -2.00340009, -1.91746008, -1.83152008, -1.74558008, -1.65964007,\n",
       "        -1.57370007, -1.48776007, -1.40182006, -1.31588006, -1.22994006,\n",
       "        -1.14400005, -1.05806005, -0.97212005, -0.88618004, -0.80024004,\n",
       "        -0.71430004, -0.62836003, -0.54242009, -0.45648006, -0.37054005,\n",
       "        -0.28460008, -0.19866008, -0.11272007, -0.02678007,  0.05915993,\n",
       "         0.14509992,  0.23103993,  0.31697991,  0.40291992,  0.48885992,\n",
       "         0.5747999 ,  0.6607399 ,  0.7466799 ,  0.83261991,  0.91855991,\n",
       "         1.00449991,  1.09043992,  1.17637992,  1.26231992,  1.34825993,\n",
       "         1.43419993,  1.52013993,  1.60607994,  1.69201994,  1.77795994,\n",
       "         1.86389995,  1.94983995,  2.03577995,  2.12171984,  2.20765996,\n",
       "         2.29359984,  2.37953997,  2.46547985,  2.55141997,  2.63735986,\n",
       "         2.72329998,  2.80923986,  2.89517999,  2.98111987,  3.06705999,\n",
       "         3.15299988]),\n",
       " <BarContainer object of 100 artists>)"
      ]
     },
     "execution_count": 62,
     "metadata": {},
     "output_type": "execute_result"
    },
    {
     "data": {
      "image/png": "[encoded data removed]",
      "text/plain": [
       "<Figure size 640x480 with 1 Axes>"
      ]
     },
     "metadata": {},
     "output_type": "display_data"
    }
   ],
   "source": [
    "from matplotlib import pyplot as plt\n",
    "import numpy as np\n",
    "# plt.hist(np.array(out[-2][:,4, 4, 0] * out[-1][:,4, 4, 0]), bins = 100, alpha = 0.3, color = 'blue')\n",
    "# plt.hist(np.array(out[-2][:,4, 4, 9] * out[-1][:,4, 4, 9]), bins = 100, alpha = 0.3, color = 'green')\n",
    "#plt.hist(np.array(out[-2][:,:] * out[-1][:,:]), bins = 100, alpha = 0.3, color = 'red')\n",
    "\n",
    "# plt.hist(np.array(out[-2][:,0, 0, 4] * out[-1][:,0, 0, 4]), bins = 100, alpha = 0.3, color = 'blue')\n",
    "# plt.hist(np.array(out[-2][:,0, 9, 4] * out[-1][:,0, 9, 4]), bins = 100, alpha = 0.3, color = 'green')\n",
    "\n",
    "# drift, bound, bias\n",
    "plt.hist(np.array(out[-2][:,2, 2, 0] * out[-1][:,2, 2, 0]), bins = 100, alpha = 0.3, color = 'blue', density = True)\n",
    "plt.hist(np.array(out[-2][:,2, 2, 4] * out[-1][:,2, 2, 4]), bins = 100, alpha = 0.3, color = 'green', density = True)\n",
    "\n",
    "# plt.hist(np.array(out[-2][:,0, 2, 2] * out[-1][:,0, 2, 2]), bins = 100, alpha = 0.3, color = 'orange')\n",
    "# plt.hist(np.array(out[-2][:,4, 2, 2] * out[-1][:,4, 2, 2]), bins = 100, alpha = 0.3, color = 'red')"
   ]
  },
  {
   "cell_type": "code",
   "execution_count": 174,
   "id": "266d84fb",
   "metadata": {},
   "outputs": [],
   "source": [
    "starting_points = jnp.reshape(jnp.linspace(1, 3, n_bounds), (1, 1, n_bounds)) + ((2 * jnp.reshape(jnp.linspace(1, 3, n_bounds), (1, 1, n_bounds)) * 0.5))"
   ]
  },
  {
   "cell_type": "code",
   "execution_count": 13,
   "id": "d64e4c14",
   "metadata": {},
   "outputs": [
    {
     "data": {
      "text/plain": [
       "(200000, 10, 10, 10)"
      ]
     },
     "execution_count": 13,
     "metadata": {},
     "output_type": "execute_result"
    }
   ],
   "source": [
    "out[-1].shape"
   ]
  },
  {
   "cell_type": "code",
   "execution_count": 14,
   "id": "cbfa186f",
   "metadata": {},
   "outputs": [
    {
     "data": {
      "text/plain": [
       "(200000, 10, 10, 10)"
      ]
     },
     "execution_count": 14,
     "metadata": {},
     "output_type": "execute_result"
    }
   ],
   "source": [
    "out[-2].shape"
   ]
  },
  {
   "cell_type": "code",
   "execution_count": 188,
   "id": "48f41f2a",
   "metadata": {},
   "outputs": [],
   "source": [
    "n_biases = 10\n",
    "biases = jnp.linspace(0.1, 0.9, n_biases)\n",
    "my_starting_points = jax.vmap(lambda x: jnp.reshape(jnp.linspace(1, 3, n_bounds), (1, 1, n_bounds)) + ((2 * jnp.reshape(jnp.linspace(1, 3, n_bounds), (1, 1, n_bounds)) * x)), out_axes = -2)(biases)\n",
    "#jnp.stack(jnp.linspace(0.1, 0.9, n_biases), (1, n_bounds, n_biases))"
   ]
  },
  {
   "cell_type": "code",
   "execution_count": 189,
   "id": "77326897",
   "metadata": {},
   "outputs": [
    {
     "data": {
      "text/plain": [
       "(1, 1, 10, 100)"
      ]
     },
     "execution_count": 189,
     "metadata": {},
     "output_type": "execute_result"
    }
   ],
   "source": [
    "my_starting_points.shape"
   ]
  },
  {
   "cell_type": "code",
   "execution_count": 191,
   "id": "57c38b7d",
   "metadata": {},
   "outputs": [
    {
     "data": {
      "text/plain": [
       "Array([[[[1.2      , 1.2242424, 1.2484848, 1.2727274, 1.2969698,\n",
       "          1.321212 , 1.3454546, 1.369697 , 1.3939393, 1.4181818,\n",
       "          1.4424242, 1.4666667, 1.4909091, 1.5151515, 1.539394 ,\n",
       "          1.5636364, 1.587879 , 1.6121212, 1.6363636, 1.6606061,\n",
       "          1.6848485, 1.7090908, 1.7333333, 1.7575759, 1.7818182,\n",
       "          1.8060607, 1.8303031, 1.8545456, 1.878788 , 1.9030303,\n",
       "          1.9272728, 1.9515152, 1.9757576, 2.       , 2.0242424,\n",
       "          2.048485 , 2.0727272, 2.0969698, 2.1212122, 2.1454546,\n",
       "          2.169697 , 2.1939394, 2.2181816, 2.2424242, 2.2666667,\n",
       "          2.290909 , 2.3151517, 2.339394 , 2.3636365, 2.387879 ,\n",
       "          2.4121213, 2.4363637, 2.460606 , 2.4848485, 2.5090911,\n",
       "          2.5333333, 2.557576 , 2.5818183, 2.6060605, 2.6303031,\n",
       "          2.6545455, 2.6787877, 2.7030303, 2.727273 , 2.7515154,\n",
       "          2.7757576, 2.8      , 2.8242426, 2.8484848, 2.8727274,\n",
       "          2.89697  , 2.9212122, 2.9454546, 2.9696972, 2.9939394,\n",
       "          3.0181818, 3.0424244, 3.066667 , 3.0909092, 3.1151516,\n",
       "          3.1393943, 3.1636364, 3.1878788, 3.212121 , 3.2363634,\n",
       "          3.2606063, 3.2848487, 3.309091 , 3.3333335, 3.357576 ,\n",
       "          3.381818 , 3.4060607, 3.4303033, 3.4545455, 3.4787881,\n",
       "          3.5030305, 3.5272727, 3.5515153, 3.5757577, 3.6      ],\n",
       "         [1.3777778, 1.4056118, 1.4334457, 1.4612795, 1.4891135,\n",
       "          1.5169473, 1.5447812, 1.5726151, 1.6004488, 1.6282828,\n",
       "          1.6561167, 1.6839507, 1.7117846, 1.7396184, 1.7674524,\n",
       "          1.7952863, 1.8231202, 1.850954 , 1.8787879, 1.9066218,\n",
       "          1.9344558, 1.9622896, 1.9901235, 2.0179574, 2.0457911,\n",
       "          2.073625 , 2.101459 , 2.129293 , 2.157127 , 2.1849608,\n",
       "          2.2127948, 2.2406287, 2.2684624, 2.2962961, 2.32413  ,\n",
       "          2.3519642, 2.379798 , 2.4076319, 2.4354658, 2.4632998,\n",
       "          2.4911337, 2.5189674, 2.546801 , 2.5746353, 2.6024692,\n",
       "          2.630303 , 2.658137 , 2.685971 , 2.7138047, 2.7416387,\n",
       "          2.7694726, 2.7973063, 2.8251405, 2.8529742, 2.8808084,\n",
       "          2.908642 , 2.9364762, 2.96431  , 2.9921436, 3.0199778,\n",
       "          3.0478115, 3.0756452, 3.1034794, 3.1313133, 3.1591473,\n",
       "          3.186981 , 3.2148147, 3.2426488, 3.2704825, 3.2983167,\n",
       "          3.3261507, 3.3539844, 3.3818183, 3.4096522, 3.4374862,\n",
       "          3.4653199, 3.493154 , 3.520988 , 3.548822 , 3.5766556,\n",
       "          3.6044896, 3.6323233, 3.6601572, 3.687991 , 3.7158246,\n",
       "          3.743659 , 3.771493 , 3.799327 , 3.8271608, 3.8549943,\n",
       "          3.8828282, 3.9106622, 3.9384964, 3.96633  , 3.9941642,\n",
       "          4.021998 , 4.049832 , 4.077666 , 4.1054997, 4.133333 ],\n",
       "         [1.5555556, 1.586981 , 1.6184063, 1.6498318, 1.6812572,\n",
       "          1.7126824, 1.7441077, 1.7755332, 1.8069584, 1.8383838,\n",
       "          1.8698092, 1.9012346, 1.93266  , 1.9640853, 1.9955108,\n",
       "          2.026936 , 2.0583615, 2.0897868, 2.1212122, 2.1526375,\n",
       "          2.184063 , 2.2154882, 2.2469134, 2.2783391, 2.3097644,\n",
       "          2.3411899, 2.372615 , 2.4040406, 2.4354658, 2.4668913,\n",
       "          2.4983165, 2.529742 , 2.5611672, 2.5925927, 2.624018 ,\n",
       "          2.6554437, 2.6868687, 2.7182941, 2.7497196, 2.781145 ,\n",
       "          2.8125703, 2.8439956, 2.8754208, 2.9068465, 2.9382718,\n",
       "          2.969697 , 3.0011225, 3.032548 , 3.0639732, 3.0953984,\n",
       "          3.126824 , 3.1582491, 3.1896749, 3.2210999, 3.2525256,\n",
       "          3.2839508, 3.3153763, 3.3468015, 3.3782268, 3.4096522,\n",
       "          3.4410777, 3.4725027, 3.5039282, 3.535354 , 3.5667791,\n",
       "          3.5982044, 3.6296296, 3.661055 , 3.6924803, 3.723906 ,\n",
       "          3.7553315, 3.7867568, 3.818182 , 3.8496075, 3.8810327,\n",
       "          3.912458 , 3.9438834, 3.9753091, 4.0067344, 4.0381594,\n",
       "          4.069585 , 4.1010103, 4.132436 , 4.163861 , 4.195286 ,\n",
       "          4.2267118, 4.258137 , 4.2895627, 4.3209877, 4.352413 ,\n",
       "          4.3838387, 4.415264 , 4.4466896, 4.4781146, 4.5095406,\n",
       "          4.5409656, 4.5723906, 4.603816 , 4.6352415, 4.666667 ],\n",
       "         [1.7333333, 1.7683502, 1.8033671, 1.8383839, 1.8734008,\n",
       "          1.9084175, 1.9434344, 1.9784513, 2.0134678, 2.0484848,\n",
       "          2.0835016, 2.1185186, 2.1535354, 2.1885524, 2.2235692,\n",
       "          2.258586 , 2.293603 , 2.3286195, 2.3636365, 2.3986533,\n",
       "          2.43367  , 2.4686868, 2.5037036, 2.5387206, 2.5737374,\n",
       "          2.6087542, 2.6437712, 2.6787882, 2.713805 , 2.7488217,\n",
       "          2.7838383, 2.8188553, 2.8538723, 2.8888888, 2.9239058,\n",
       "          2.9589229, 2.9939394, 3.0289564, 3.0639732, 3.09899  ,\n",
       "          3.134007 , 3.1690235, 3.2040403, 3.2390573, 3.274074 ,\n",
       "          3.3090909, 3.344108 , 3.3791249, 3.4141417, 3.4491582,\n",
       "          3.4841752, 3.5191917, 3.554209 , 3.5892258, 3.6242428,\n",
       "          3.6592593, 3.6942763, 3.729293 , 3.76431  , 3.799327 ,\n",
       "          3.8343434, 3.8693602, 3.9043772, 3.9393945, 3.974411 ,\n",
       "          4.0094275, 4.044444 , 4.0794616, 4.114478 , 4.149495 ,\n",
       "          4.184512 , 4.219529 , 4.2545457, 4.2895627, 4.3245792,\n",
       "          4.3595963, 4.3946133, 4.4296303, 4.464647 , 4.4996634,\n",
       "          4.5346804, 4.5696974, 4.604714 , 4.6397305, 4.6747475,\n",
       "          4.7097645, 4.7447815, 4.7797985, 4.814815 , 4.8498316,\n",
       "          4.8848486, 4.9198656, 4.9548826, 4.989899 , 5.0249166,\n",
       "          5.0599327, 5.0949497, 5.1299667, 5.1649833, 5.2      ],\n",
       "         [1.9111111, 1.9497194, 1.9883277, 2.026936 , 2.0655446,\n",
       "          2.1041527, 2.142761 , 2.1813693, 2.2199774, 2.258586 ,\n",
       "          2.297194 , 2.3358026, 2.3744106, 2.4130192, 2.4516275,\n",
       "          2.4902358, 2.528844 , 2.5674524, 2.6060605, 2.644669 ,\n",
       "          2.6832774, 2.7218854, 2.7604938, 2.7991023, 2.8377104,\n",
       "          2.876319 , 2.914927 , 2.9535356, 2.9921439, 3.030752 ,\n",
       "          3.0693603, 3.1079688, 3.146577 , 3.185185 , 3.2237935,\n",
       "          3.262402 , 3.3010101, 3.3396184, 3.3782268, 3.4168353,\n",
       "          3.4554434, 3.4940517, 3.5326598, 3.5712683, 3.6098766,\n",
       "          3.6484847, 3.6870933, 3.7257018, 3.76431  , 3.8029182,\n",
       "          3.8415265, 3.8801346, 3.9187431, 3.9573512, 3.9959598,\n",
       "          4.034568 , 4.0731764, 4.111785 , 4.1503925, 4.1890016,\n",
       "          4.2276096, 4.2662177, 4.3048263, 4.343435 , 4.382043 ,\n",
       "          4.420651 , 4.459259 , 4.4978676, 4.536476 , 4.5750847,\n",
       "          4.613693 , 4.652301 , 4.6909094, 4.729518 , 4.7681255,\n",
       "          4.806734 , 4.8453426, 4.883951 , 4.9225593, 4.9611673,\n",
       "          4.999776 , 5.038384 , 5.076992 , 5.1156006, 5.154208 ,\n",
       "          5.1928177, 5.2314253, 5.270034 , 5.3086424, 5.3472505,\n",
       "          5.3858585, 5.424467 , 5.4630756, 5.5016837, 5.5402923,\n",
       "          5.5789003, 5.617509 , 5.6561174, 5.694725 , 5.7333336],\n",
       "         [2.088889 , 2.1310887, 2.1732883, 2.2154884, 2.257688 ,\n",
       "          2.2998877, 2.3420875, 2.3842874, 2.426487 , 2.4686866,\n",
       "          2.5108867, 2.5530863, 2.5952864, 2.637486 , 2.6796858,\n",
       "          2.7218857, 2.7640855, 2.806285 , 2.848485 , 2.8906846,\n",
       "          2.9328845, 2.975084 , 3.017284 , 3.059484 , 3.1016836,\n",
       "          3.1438832, 3.1860833, 3.228283 , 3.2704828, 3.3126824,\n",
       "          3.3548822, 3.3970819, 3.439282 , 3.4814816, 3.5236812,\n",
       "          3.5658813, 3.6080809, 3.6502807, 3.6924806, 3.7346802,\n",
       "          3.7768803, 3.8190796, 3.8612792, 3.9034793, 3.9456792,\n",
       "          3.9878788, 4.030079 , 4.0722785, 4.114478 , 4.156678 ,\n",
       "          4.198878 , 4.2410774, 4.2832775, 4.325477 , 4.3676767,\n",
       "          4.409877 , 4.452077 , 4.494276 , 4.536476 , 4.578676 ,\n",
       "          4.6208754, 4.663075 , 4.705275 , 4.747475 , 4.7896748,\n",
       "          4.8318744, 4.874074 , 4.916274 , 4.958473 , 5.0006733,\n",
       "          5.0428734, 5.0850735, 5.1272726, 5.1694727, 5.211673 ,\n",
       "          5.253872 , 5.296072 , 5.338272 , 5.3804717, 5.4226713,\n",
       "          5.4648714, 5.507071 , 5.5492706, 5.59147  , 5.63367  ,\n",
       "          5.67587  , 5.71807  , 5.76027  , 5.8024693, 5.844669 ,\n",
       "          5.8868685, 5.9290686, 5.9712687, 6.0134683, 6.0556684,\n",
       "          6.097868 , 6.140067 , 6.182267 , 6.2244673, 6.2666664],\n",
       "         [2.2666667, 2.312458 , 2.3582492, 2.4040406, 2.449832 ,\n",
       "          2.4956229, 2.5414143, 2.5872054, 2.6329966, 2.6787877,\n",
       "          2.7245789, 2.7703705, 2.8161616, 2.8619528, 2.9077442,\n",
       "          2.9535356, 2.9993267, 3.0451179, 3.090909 , 3.1367004,\n",
       "          3.1824918, 3.2282827, 3.274074 , 3.3198657, 3.3656566,\n",
       "          3.411448 , 3.4572392, 3.5030303, 3.5488217, 3.5946128,\n",
       "          3.6404042, 3.6861954, 3.7319865, 3.7777777, 3.823569 ,\n",
       "          3.8693604, 3.9151516, 3.9609427, 4.006734 , 4.0525255,\n",
       "          4.0983167, 4.144108 , 4.1898985, 4.23569  , 4.2814817,\n",
       "          4.3272724, 4.373064 , 4.4188557, 4.4646463, 4.510438 ,\n",
       "          4.556229 , 4.6020203, 4.647812 , 4.6936026, 4.739394 ,\n",
       "          4.7851853, 4.8309765, 4.876768 , 4.922559 , 4.9683504,\n",
       "          5.0141416, 5.0599327, 5.1057243, 5.151516 , 5.1973066,\n",
       "          5.2430973, 5.288889 , 5.3346806, 5.380471 , 5.426263 ,\n",
       "          5.4720545, 5.517845 , 5.563637 , 5.609428 , 5.655219 ,\n",
       "          5.7010098, 5.7468014, 5.792593 , 5.838384 , 5.8841753,\n",
       "          5.929967 , 5.9757576, 6.0215487, 6.06734  , 6.1131306,\n",
       "          6.158923 , 6.204714 , 6.2505054, 6.2962966, 6.3420877,\n",
       "          6.3878784, 6.43367  , 6.4794617, 6.525253 , 6.571044 ,\n",
       "          6.6168356, 6.6626263, 6.708418 , 6.754209 , 6.8      ],\n",
       "         [2.4444444, 2.4938273, 2.54321  , 2.5925927, 2.6419754,\n",
       "          2.691358 , 2.7407408, 2.7901235, 2.839506 , 2.8888888,\n",
       "          2.9382715, 2.9876542, 3.037037 , 3.0864198, 3.1358025,\n",
       "          3.1851854, 3.234568 , 3.2839506, 3.3333335, 3.3827162,\n",
       "          3.4320989, 3.4814816, 3.530864 , 3.5802472, 3.6296296,\n",
       "          3.6790123, 3.7283952, 3.7777781, 3.8271606, 3.876543 ,\n",
       "          3.9259257, 3.9753087, 4.0246916, 4.074074 , 4.123457 ,\n",
       "          4.1728396, 4.2222223, 4.271605 , 4.3209877, 4.3703704,\n",
       "          4.419753 , 4.4691358, 4.5185184, 4.5679016, 4.6172843,\n",
       "          4.6666665, 4.7160497, 4.7654324, 4.8148146, 4.8641977,\n",
       "          4.9135804, 4.962963 , 5.012346 , 5.0617285, 5.1111116,\n",
       "          5.160494 , 5.209877 , 5.259259 , 5.308642 , 5.358025 ,\n",
       "          5.4074078, 5.45679  , 5.506173 , 5.5555563, 5.6049385,\n",
       "          5.6543207, 5.7037034, 5.7530866, 5.8024693, 5.851852 ,\n",
       "          5.901235 , 5.950618 , 6.       , 6.049383 , 6.0987654,\n",
       "          6.148148 , 6.1975307, 6.246914 , 6.2962966, 6.3456793,\n",
       "          6.3950624, 6.4444447, 6.493827 , 6.5432096, 6.5925922,\n",
       "          6.6419754, 6.691358 , 6.7407413, 6.790124 , 6.839506 ,\n",
       "          6.8888884, 6.9382715, 6.9876547, 7.0370374, 7.0864205,\n",
       "          7.135803 , 7.1851854, 7.234568 , 7.283951 , 7.333333 ],\n",
       "         [2.6222222, 2.6751964, 2.7281706, 2.7811449, 2.8341193,\n",
       "          2.887093 , 2.9400673, 2.9930415, 3.0460155, 3.0989897,\n",
       "          3.151964 , 3.2049382, 3.2579124, 3.3108869, 3.3638608,\n",
       "          3.4168353, 3.4698093, 3.5227833, 3.5757575, 3.6287317,\n",
       "          3.681706 , 3.7346802, 3.7876542, 3.8406289, 3.8936026,\n",
       "          3.946577 , 3.999551 , 4.0525255, 4.1054997, 4.1584735,\n",
       "          4.2114477, 4.264422 , 4.317396 , 4.3703704, 4.4233446,\n",
       "          4.4763193, 4.529293 , 4.5822673, 4.6352415, 4.6882157,\n",
       "          4.74119  , 4.7941637, 4.8471375, 4.900112 , 4.9530864,\n",
       "          5.0060606, 5.059035 , 5.112009 , 5.1649833, 5.2179575,\n",
       "          5.2709317, 5.3239055, 5.37688  , 5.4298544, 5.4828286,\n",
       "          5.535803 , 5.588777 , 5.6417513, 5.694725 , 5.7476997,\n",
       "          5.8006735, 5.853647 , 5.906622 , 5.9595966, 6.0125704,\n",
       "          6.065544 , 6.118518 , 6.1714926, 6.224467 , 6.277441 ,\n",
       "          6.3304157, 6.3833895, 6.4363637, 6.4893384, 6.5423117,\n",
       "          6.595286 , 6.6482606, 6.7012353, 6.7542095, 6.807183 ,\n",
       "          6.8601575, 6.9131317, 6.9661055, 7.019079 , 7.0720534,\n",
       "          7.1250286, 7.1780024, 7.230977 , 7.283951 , 7.3369246,\n",
       "          7.3898983, 7.442873 , 7.4958477, 7.548822 , 7.601796 ,\n",
       "          7.65477  , 7.707744 , 7.760719 , 7.813693 , 7.866667 ],\n",
       "         [2.8      , 2.8565657, 2.9131312, 2.969697 , 3.0262628,\n",
       "          3.082828 , 3.1393938, 3.1959596, 3.252525 , 3.3090906,\n",
       "          3.3656564, 3.4222221, 3.478788 , 3.5353537, 3.5919192,\n",
       "          3.6484852, 3.7050507, 3.761616 , 3.818182 , 3.8747475,\n",
       "          3.931313 , 3.9878788, 4.044444 , 4.1010103, 4.1575756,\n",
       "          4.2141414, 4.270707 , 4.327273 , 4.3838387, 4.440404 ,\n",
       "          4.4969697, 4.5535355, 4.610101 , 4.6666665, 4.7232323,\n",
       "          4.7797985, 4.836364 , 4.8929296, 4.9494953, 5.0060606,\n",
       "          5.0626264, 5.119192 , 5.1757574, 5.232323 , 5.288889 ,\n",
       "          5.345454 , 5.4020205, 5.458586 , 5.5151515, 5.5717173,\n",
       "          5.628283 , 5.6848483, 5.741414 , 5.79798  , 5.8545456,\n",
       "          5.911111 , 5.967677 , 6.0242424, 6.0808077, 6.137374 ,\n",
       "          6.193939 , 6.250505 , 6.3070707, 6.363637 , 6.4202023,\n",
       "          6.4767675, 6.533333 , 6.589899 , 6.6464643, 6.7030306,\n",
       "          6.7595963, 6.816162 , 6.8727274, 6.929293 , 6.985859 ,\n",
       "          7.042424 , 7.09899  , 7.155556 , 7.212122 , 7.268687 ,\n",
       "          7.325253 , 7.381819 , 7.4383836, 7.4949493, 7.5515146,\n",
       "          7.608081 , 7.6646466, 7.721213 , 7.7777777, 7.8343434,\n",
       "          7.890909 , 7.9474745, 8.004041 , 8.060606 , 8.117172 ,\n",
       "          8.173738 , 8.230303 , 8.286869 , 8.343434 , 8.4      ]]]],      dtype=float32)"
      ]
     },
     "execution_count": 191,
     "metadata": {},
     "output_type": "execute_result"
    }
   ],
   "source": [
    "my_starting_points"
   ]
  },
  {
   "cell_type": "code",
   "execution_count": null,
   "id": "351ce38f",
   "metadata": {},
   "outputs": [],
   "source": [
    "jnp.reshape(jnp.linspace(1, 3, n_bounds), (1, 1, n_bounds)) - jnp.reshape(jnp.linspace(1, 3, n_bounds), (1, 1, n_bounds))"
   ]
  },
  {
   "cell_type": "code",
   "execution_count": null,
   "id": "caed69c3",
   "metadata": {},
   "outputs": [],
   "source": [
    "from matplotlib import pyplot as plt\n",
    "import numpy as np\n",
    "plt.hist(np.array(out[-2][0,:] * out[-1][0,:]), bins = 100, alpha = 0.3, color = 'blue')\n",
    "plt.hist(np.array(out[-2][50,:] * out[-1][50,:]), bins = 100, alpha = 0.3, color = 'green')\n",
    "plt.hist(np.array(out[-2][99,:] * out[-1][99,:]), bins = 100, alpha = 0.3, color = 'red')"
   ]
  },
  {
   "cell_type": "code",
   "execution_count": null,
   "id": "27ea1699",
   "metadata": {},
   "outputs": [],
   "source": [
    "mask = jax.vmap(lambda x: (pos < x) & (pos > -x) , out_axes = -1)(bound)\n"
   ]
  },
  {
   "cell_type": "code",
   "execution_count": 117,
   "id": "51a6cd34",
   "metadata": {},
   "outputs": [],
   "source": [
    "barray1 = random.normal(key, (100,))\n",
    "barray2 = jnp.ones((10))\n",
    "\n",
    "\n",
    "barray_out = jax.vmap(lambda x: barray1 + x, out_axes=-1)(barray2)"
   ]
  },
  {
   "cell_type": "code",
   "execution_count": 164,
   "id": "b9535692",
   "metadata": {},
   "outputs": [
    {
     "data": {
      "text/plain": [
       "Array(100, dtype=int32)"
      ]
     },
     "execution_count": 164,
     "metadata": {},
     "output_type": "execute_result"
    }
   ],
   "source": [
    "jnp.max(jnp.array(barray_out.shape))"
   ]
  },
  {
   "cell_type": "code",
   "execution_count": 160,
   "id": "8b761bc7",
   "metadata": {},
   "outputs": [
    {
     "data": {
      "text/plain": [
       "Array(2, dtype=int32)"
      ]
     },
     "execution_count": 160,
     "metadata": {},
     "output_type": "execute_result"
    }
   ],
   "source": [
    "jnp.max(barray_out.shape)"
   ]
  },
  {
   "cell_type": "code",
   "execution_count": 135,
   "id": "9ace2e90",
   "metadata": {},
   "outputs": [],
   "source": [
    "b = random.normal(key, (100,10)) + (random.normal(key, (100,1)) + jnp.ones((1, 10)))"
   ]
  },
  {
   "cell_type": "code",
   "execution_count": 150,
   "id": "b317e689",
   "metadata": {},
   "outputs": [],
   "source": [
    "b = random.normal(key, (100,10, 10))"
   ]
  },
  {
   "cell_type": "code",
   "execution_count": 86,
   "id": "ab56f240",
   "metadata": {},
   "outputs": [
    {
     "data": {
      "text/plain": [
       "(1, 100, 10)"
      ]
     },
     "execution_count": 86,
     "metadata": {},
     "output_type": "execute_result"
    }
   ],
   "source": [
    "(b < jnp.zeros((1, 1, 10))).shape"
   ]
  },
  {
   "cell_type": "code",
   "execution_count": 151,
   "id": "073aff77",
   "metadata": {},
   "outputs": [
    {
     "data": {
      "text/plain": [
       "(100, 10, 10)"
      ]
     },
     "execution_count": 151,
     "metadata": {},
     "output_type": "execute_result"
    }
   ],
   "source": [
    "(b < jnp.zeros((1 , 1 , 10))).shape"
   ]
  },
  {
   "cell_type": "code",
   "execution_count": 70,
   "id": "80e16c8b",
   "metadata": {},
   "outputs": [
    {
     "data": {
      "text/plain": [
       "(array([1.0000e+00, 2.0000e+00, 0.0000e+00, 0.0000e+00, 3.0000e+00,\n",
       "        0.0000e+00, 2.0000e+00, 4.0000e+00, 2.0000e+00, 2.0000e+00,\n",
       "        5.0000e+00, 3.0000e+00, 6.0000e+00, 6.0000e+00, 1.7000e+01,\n",
       "        7.0000e+00, 9.0000e+00, 1.9000e+01, 2.2000e+01, 2.1000e+01,\n",
       "        1.7000e+01, 3.2000e+01, 4.4000e+01, 4.7000e+01, 4.9000e+01,\n",
       "        5.8000e+01, 3.0000e+01, 2.2000e+01, 2.0000e+00, 0.0000e+00,\n",
       "        0.0000e+00, 0.0000e+00, 0.0000e+00, 0.0000e+00, 0.0000e+00,\n",
       "        0.0000e+00, 0.0000e+00, 0.0000e+00, 0.0000e+00, 0.0000e+00,\n",
       "        0.0000e+00, 0.0000e+00, 1.0000e+00, 4.8700e+02, 5.6380e+03,\n",
       "        1.4304e+04, 2.0457e+04, 2.2131e+04, 2.1724e+04, 1.9539e+04,\n",
       "        1.6784e+04, 1.4348e+04, 1.2107e+04, 9.8840e+03, 7.9750e+03,\n",
       "        6.5060e+03, 5.3480e+03, 4.3180e+03, 3.3800e+03, 2.8010e+03,\n",
       "        2.2520e+03, 1.8660e+03, 1.4760e+03, 1.2060e+03, 9.3300e+02,\n",
       "        7.8000e+02, 6.4000e+02, 5.1200e+02, 4.1700e+02, 3.3100e+02,\n",
       "        2.6400e+02, 2.2600e+02, 1.8100e+02, 1.6000e+02, 1.2700e+02,\n",
       "        1.0400e+02, 7.9000e+01, 5.3000e+01, 5.4000e+01, 3.3000e+01,\n",
       "        2.1000e+01, 2.4000e+01, 1.6000e+01, 1.5000e+01, 1.1000e+01,\n",
       "        1.7000e+01, 7.0000e+00, 4.0000e+00, 9.0000e+00, 3.0000e+00,\n",
       "        4.0000e+00, 3.0000e+00, 2.0000e+00, 4.0000e+00, 0.0000e+00,\n",
       "        0.0000e+00, 0.0000e+00, 0.0000e+00, 0.0000e+00, 2.0000e+00]),\n",
       " array([-12.33600044, -11.99571037, -11.6554203 , -11.31513023,\n",
       "        -10.97484016, -10.63455009, -10.29426003,  -9.95396996,\n",
       "         -9.61367989,  -9.27339077,  -8.9331007 ,  -8.59281063,\n",
       "         -8.25252056,  -7.91223049,  -7.57194042,  -7.23165035,\n",
       "         -6.89136028,  -6.55107021,  -6.21078014,  -5.87049007,\n",
       "         -5.5302    ,  -5.18991041,  -4.84962034,  -4.50933027,\n",
       "         -4.1690402 ,  -3.82875013,  -3.48846006,  -3.14816999,\n",
       "         -2.80788016,  -2.46759009,  -2.12730002,  -1.78701007,\n",
       "         -1.44672   ,  -1.10643005,  -0.76614004,  -0.42585   ,\n",
       "         -0.08555999,   0.25473002,   0.59502006,   0.93531007,\n",
       "          1.27560008,   1.61589003,   1.9561801 ,   2.29647017,\n",
       "          2.63676   ,   2.97705007,   3.31734014,   3.65763021,\n",
       "          3.99792004,   4.33821011,   4.67850018,   5.01879025,\n",
       "          5.35908031,   5.69937038,   6.03966045,   6.37995005,\n",
       "          6.72024012,   7.06053019,   7.40082026,   7.74111032,\n",
       "          8.08139992,   8.42168999,   8.76198006,   9.10227013,\n",
       "          9.4425602 ,   9.78285027,  10.12314034,  10.4634304 ,\n",
       "         10.80372047,  11.14401054,  11.48430061,  11.82459068,\n",
       "         12.16488075,  12.50517082,  12.84546089,  13.18575096,\n",
       "         13.52604008,  13.86633015,  14.20662022,  14.54691029,\n",
       "         14.88720036,  15.22749043,  15.56778049,  15.90807056,\n",
       "         16.24835968,  16.58864975,  16.92893982,  17.26922989,\n",
       "         17.60951996,  17.94981003,  18.2901001 ,  18.63039017,\n",
       "         18.97068024,  19.31097031,  19.65126038,  19.99155045,\n",
       "         20.33184052,  20.67213058,  21.01242065,  21.35271072,\n",
       "         21.69300079]),\n",
       " <BarContainer object of 100 artists>)"
      ]
     },
     "execution_count": 70,
     "metadata": {},
     "output_type": "execute_result"
    },
    {
     "data": {
      "image/png": "[encoded data removed]",
      "text/plain": [
       "<Figure size 640x480 with 1 Axes>"
      ]
     },
     "metadata": {},
     "output_type": "display_data"
    }
   ],
   "source": [
    "from matplotlib import pyplot as plt\n",
    "import numpy as np\n",
    "plt.hist(np.array(out[-2][0,:] * out[-1][0,:]), bins = 100, alpha = 0.3, color = 'blue')\n",
    "plt.hist(np.array(out[-2][50,:] * out[-1][50,:]), bins = 100, alpha = 0.3, color = 'green')\n",
    "plt.hist(np.array(out[-2][99,:] * out[-1][99,:]), bins = 100, alpha = 0.3, color = 'red')"
   ]
  },
  {
   "cell_type": "code",
   "execution_count": 108,
   "id": "d3732555",
   "metadata": {},
   "outputs": [],
   "source": [
    "array1 = random.normal(key, (100, 10))\n",
    "array2 = random.normal(key, (10,))\n",
    "\n",
    "comparison = jax.vmap(lambda x: array1 < x, out_axes = -1)(array2)"
   ]
  },
  {
   "cell_type": "code",
   "execution_count": 113,
   "id": "b7b0ef64",
   "metadata": {},
   "outputs": [
    {
     "data": {
      "text/plain": [
       "Array([[ True,  True,  True,  True,  True,  True,  True,  True,  True,\n",
       "         True],\n",
       "       [ True,  True,  True, False,  True,  True, False, False,  True,\n",
       "         True]], dtype=bool)"
      ]
     },
     "execution_count": 113,
     "metadata": {},
     "output_type": "execute_result"
    }
   ],
   "source": [
    "comparison[0, :2, :10]"
   ]
  },
  {
   "cell_type": "code",
   "execution_count": 29,
   "id": "27e48a16",
   "metadata": {},
   "outputs": [
    {
     "data": {
      "text/plain": [
       "Array([[1.       ],\n",
       "       [1.020202 ],\n",
       "       [1.0404041],\n",
       "       [1.0606061],\n",
       "       [1.0808082],\n",
       "       [1.1010101],\n",
       "       [1.1212121],\n",
       "       [1.1414142],\n",
       "       [1.1616161],\n",
       "       [1.1818181],\n",
       "       [1.2020202],\n",
       "       [1.2222222],\n",
       "       [1.2424242],\n",
       "       [1.2626263],\n",
       "       [1.2828283],\n",
       "       [1.3030304],\n",
       "       [1.3232324],\n",
       "       [1.3434343],\n",
       "       [1.3636364],\n",
       "       [1.3838384],\n",
       "       [1.4040405],\n",
       "       [1.4242424],\n",
       "       [1.4444444],\n",
       "       [1.4646466],\n",
       "       [1.4848485],\n",
       "       [1.5050505],\n",
       "       [1.5252526],\n",
       "       [1.5454546],\n",
       "       [1.5656567],\n",
       "       [1.5858586],\n",
       "       [1.6060606],\n",
       "       [1.6262627],\n",
       "       [1.6464647],\n",
       "       [1.6666666],\n",
       "       [1.6868687],\n",
       "       [1.7070708],\n",
       "       [1.7272727],\n",
       "       [1.7474748],\n",
       "       [1.7676768],\n",
       "       [1.7878789],\n",
       "       [1.8080809],\n",
       "       [1.8282828],\n",
       "       [1.8484848],\n",
       "       [1.8686869],\n",
       "       [1.888889 ],\n",
       "       [1.9090909],\n",
       "       [1.929293 ],\n",
       "       [1.9494951],\n",
       "       [1.969697 ],\n",
       "       [1.989899 ],\n",
       "       [2.010101 ],\n",
       "       [2.030303 ],\n",
       "       [2.0505052],\n",
       "       [2.070707 ],\n",
       "       [2.0909092],\n",
       "       [2.1111112],\n",
       "       [2.1313133],\n",
       "       [2.1515152],\n",
       "       [2.1717172],\n",
       "       [2.1919193],\n",
       "       [2.2121212],\n",
       "       [2.2323232],\n",
       "       [2.2525253],\n",
       "       [2.2727275],\n",
       "       [2.2929294],\n",
       "       [2.3131313],\n",
       "       [2.3333333],\n",
       "       [2.3535354],\n",
       "       [2.3737373],\n",
       "       [2.3939395],\n",
       "       [2.4141417],\n",
       "       [2.4343436],\n",
       "       [2.4545455],\n",
       "       [2.4747477],\n",
       "       [2.4949496],\n",
       "       [2.5151515],\n",
       "       [2.5353537],\n",
       "       [2.5555558],\n",
       "       [2.5757577],\n",
       "       [2.5959597],\n",
       "       [2.6161618],\n",
       "       [2.6363637],\n",
       "       [2.6565657],\n",
       "       [2.6767676],\n",
       "       [2.6969695],\n",
       "       [2.717172 ],\n",
       "       [2.7373738],\n",
       "       [2.757576 ],\n",
       "       [2.777778 ],\n",
       "       [2.7979798],\n",
       "       [2.8181818],\n",
       "       [2.838384 ],\n",
       "       [2.858586 ],\n",
       "       [2.878788 ],\n",
       "       [2.8989902],\n",
       "       [2.919192 ],\n",
       "       [2.939394 ],\n",
       "       [2.9595962],\n",
       "       [2.979798 ],\n",
       "       [3.       ]], dtype=float32)"
      ]
     },
     "execution_count": 29,
     "metadata": {},
     "output_type": "execute_result"
    }
   ],
   "source": [
    "jnp.reshape(jnp.linspace(1, 3, 100), (100, 1))"
   ]
  },
  {
   "cell_type": "code",
   "execution_count": 73,
   "id": "55b77ce2",
   "metadata": {},
   "outputs": [],
   "source": [
    "a = random.normal(key, (100, 1), dtype=jnp.float32)"
   ]
  },
  {
   "cell_type": "code",
   "execution_count": 75,
   "id": "118e1648",
   "metadata": {},
   "outputs": [
    {
     "data": {
      "text/plain": [
       "(10, 100, 1)"
      ]
     },
     "execution_count": 75,
     "metadata": {},
     "output_type": "execute_result"
    }
   ],
   "source": [
    "(a < jnp.zeros((10, 1, 1))).shape"
   ]
  },
  {
   "cell_type": "code",
   "execution_count": 27,
   "id": "d005d6dd",
   "metadata": {},
   "outputs": [
    {
     "data": {
      "text/plain": [
       "Array([-1.9810703 ,  1.0481724 ,  0.8898191 ,  0.035166  , -0.9473585 ,\n",
       "        0.85125655,  0.0312455 , -0.38968593,  0.01320801, -0.42052191,\n",
       "       -1.2335656 , -1.2524313 ,  0.98738754,  0.80595386, -0.41083032,\n",
       "        0.9738211 , -0.6879051 , -0.79305184, -1.973272  ,  0.15538813,\n",
       "       -0.5808592 ,  1.5863018 ,  0.28492707,  0.63823265,  0.06069284,\n",
       "        0.39795223, -0.22721659, -0.7053813 ,  0.6570658 , -1.8061262 ,\n",
       "        1.0407923 , -1.9712908 , -0.06924485,  0.60396975, -0.38382423,\n",
       "        0.32502025,  0.28134054, -1.5120755 ,  0.874926  , -0.79578525,\n",
       "        0.37597522, -0.4551476 ,  0.13549148,  1.2002596 ,  1.7405769 ,\n",
       "        0.98859143, -0.02708917, -1.184509  , -0.9568104 ,  0.9804613 ,\n",
       "        0.2211316 ,  0.48654258,  1.6977485 ,  0.20131212, -0.58212173,\n",
       "       -0.39210144,  0.05007881,  2.0786808 ,  0.1626376 , -0.6914365 ,\n",
       "        0.48800626,  1.7702677 , -0.05003558,  1.2240386 ,  0.54848504,\n",
       "        1.6315418 ,  0.46113688, -0.14762828, -0.33743805,  1.6594526 ,\n",
       "       -0.49842522,  0.5507005 ,  1.1503136 ,  0.27862296,  0.2728574 ,\n",
       "       -0.75051147,  0.09124698,  1.7738531 , -1.3945004 ,  0.06694868,\n",
       "        1.0768479 ,  0.3806326 , -0.08591544, -0.47825667, -0.16346626,\n",
       "       -0.04134207, -0.22019544,  0.6280466 , -1.0250261 ,  0.44145223,\n",
       "       -1.3748066 , -1.6925108 , -0.8037043 , -0.08673664,  0.63225734,\n",
       "       -0.7307739 , -0.76817393,  2.3627229 ,  1.1683888 , -0.2267956 ],      dtype=float32)"
      ]
     },
     "execution_count": 27,
     "metadata": {},
     "output_type": "execute_result"
    }
   ],
   "source": [
    "a"
   ]
  },
  {
   "cell_type": "code",
   "execution_count": 26,
   "id": "7c048cee",
   "metadata": {},
   "outputs": [
    {
     "data": {
      "text/plain": [
       "Array([[ True, False, False, False,  True, False, False,  True, False,\n",
       "         True,  True,  True, False, False,  True, False,  True,  True,\n",
       "         True, False,  True, False, False, False, False, False,  True,\n",
       "         True, False,  True, False,  True,  True, False,  True, False,\n",
       "        False,  True, False,  True, False,  True, False, False, False,\n",
       "        False,  True,  True,  True, False, False, False, False, False,\n",
       "         True,  True, False, False, False,  True, False, False,  True,\n",
       "        False, False, False, False,  True,  True, False,  True, False,\n",
       "        False, False, False,  True, False, False,  True, False, False,\n",
       "        False,  True,  True,  True,  True,  True, False,  True, False,\n",
       "         True,  True,  True,  True, False,  True,  True, False, False,\n",
       "         True],\n",
       "       [ True, False, False, False,  True, False, False,  True, False,\n",
       "         True,  True,  True, False, False,  True, False,  True,  True,\n",
       "         True, False,  True, False, False, False, False, False,  True,\n",
       "         True, False,  True, False,  True,  True, False,  True, False,\n",
       "        False,  True, False,  True, False,  True, False, False, False,\n",
       "        False,  True,  True,  True, False, False, False, False, False,\n",
       "         True,  True, False, False, False,  True, False, False,  True,\n",
       "        False, False, False, False,  True,  True, False,  True, False,\n",
       "        False, False, False,  True, False, False,  True, False, False,\n",
       "        False,  True,  True,  True,  True,  True, False,  True, False,\n",
       "         True,  True,  True,  True, False,  True,  True, False, False,\n",
       "         True],\n",
       "       [ True, False, False, False,  True, False, False,  True, False,\n",
       "         True,  True,  True, False, False,  True, False,  True,  True,\n",
       "         True, False,  True, False, False, False, False, False,  True,\n",
       "         True, False,  True, False,  True,  True, False,  True, False,\n",
       "        False,  True, False,  True, False,  True, False, False, False,\n",
       "        False,  True,  True,  True, False, False, False, False, False,\n",
       "         True,  True, False, False, False,  True, False, False,  True,\n",
       "        False, False, False, False,  True,  True, False,  True, False,\n",
       "        False, False, False,  True, False, False,  True, False, False,\n",
       "        False,  True,  True,  True,  True,  True, False,  True, False,\n",
       "         True,  True,  True,  True, False,  True,  True, False, False,\n",
       "         True],\n",
       "       [ True, False, False, False,  True, False, False,  True, False,\n",
       "         True,  True,  True, False, False,  True, False,  True,  True,\n",
       "         True, False,  True, False, False, False, False, False,  True,\n",
       "         True, False,  True, False,  True,  True, False,  True, False,\n",
       "        False,  True, False,  True, False,  True, False, False, False,\n",
       "        False,  True,  True,  True, False, False, False, False, False,\n",
       "         True,  True, False, False, False,  True, False, False,  True,\n",
       "        False, False, False, False,  True,  True, False,  True, False,\n",
       "        False, False, False,  True, False, False,  True, False, False,\n",
       "        False,  True,  True,  True,  True,  True, False,  True, False,\n",
       "         True,  True,  True,  True, False,  True,  True, False, False,\n",
       "         True],\n",
       "       [ True, False, False, False,  True, False, False,  True, False,\n",
       "         True,  True,  True, False, False,  True, False,  True,  True,\n",
       "         True, False,  True, False, False, False, False, False,  True,\n",
       "         True, False,  True, False,  True,  True, False,  True, False,\n",
       "        False,  True, False,  True, False,  True, False, False, False,\n",
       "        False,  True,  True,  True, False, False, False, False, False,\n",
       "         True,  True, False, False, False,  True, False, False,  True,\n",
       "        False, False, False, False,  True,  True, False,  True, False,\n",
       "        False, False, False,  True, False, False,  True, False, False,\n",
       "        False,  True,  True,  True,  True,  True, False,  True, False,\n",
       "         True,  True,  True,  True, False,  True,  True, False, False,\n",
       "         True],\n",
       "       [ True, False, False, False,  True, False, False,  True, False,\n",
       "         True,  True,  True, False, False,  True, False,  True,  True,\n",
       "         True, False,  True, False, False, False, False, False,  True,\n",
       "         True, False,  True, False,  True,  True, False,  True, False,\n",
       "        False,  True, False,  True, False,  True, False, False, False,\n",
       "        False,  True,  True,  True, False, False, False, False, False,\n",
       "         True,  True, False, False, False,  True, False, False,  True,\n",
       "        False, False, False, False,  True,  True, False,  True, False,\n",
       "        False, False, False,  True, False, False,  True, False, False,\n",
       "        False,  True,  True,  True,  True,  True, False,  True, False,\n",
       "         True,  True,  True,  True, False,  True,  True, False, False,\n",
       "         True],\n",
       "       [ True, False, False, False,  True, False, False,  True, False,\n",
       "         True,  True,  True, False, False,  True, False,  True,  True,\n",
       "         True, False,  True, False, False, False, False, False,  True,\n",
       "         True, False,  True, False,  True,  True, False,  True, False,\n",
       "        False,  True, False,  True, False,  True, False, False, False,\n",
       "        False,  True,  True,  True, False, False, False, False, False,\n",
       "         True,  True, False, False, False,  True, False, False,  True,\n",
       "        False, False, False, False,  True,  True, False,  True, False,\n",
       "        False, False, False,  True, False, False,  True, False, False,\n",
       "        False,  True,  True,  True,  True,  True, False,  True, False,\n",
       "         True,  True,  True,  True, False,  True,  True, False, False,\n",
       "         True],\n",
       "       [ True, False, False, False,  True, False, False,  True, False,\n",
       "         True,  True,  True, False, False,  True, False,  True,  True,\n",
       "         True, False,  True, False, False, False, False, False,  True,\n",
       "         True, False,  True, False,  True,  True, False,  True, False,\n",
       "        False,  True, False,  True, False,  True, False, False, False,\n",
       "        False,  True,  True,  True, False, False, False, False, False,\n",
       "         True,  True, False, False, False,  True, False, False,  True,\n",
       "        False, False, False, False,  True,  True, False,  True, False,\n",
       "        False, False, False,  True, False, False,  True, False, False,\n",
       "        False,  True,  True,  True,  True,  True, False,  True, False,\n",
       "         True,  True,  True,  True, False,  True,  True, False, False,\n",
       "         True],\n",
       "       [ True, False, False, False,  True, False, False,  True, False,\n",
       "         True,  True,  True, False, False,  True, False,  True,  True,\n",
       "         True, False,  True, False, False, False, False, False,  True,\n",
       "         True, False,  True, False,  True,  True, False,  True, False,\n",
       "        False,  True, False,  True, False,  True, False, False, False,\n",
       "        False,  True,  True,  True, False, False, False, False, False,\n",
       "         True,  True, False, False, False,  True, False, False,  True,\n",
       "        False, False, False, False,  True,  True, False,  True, False,\n",
       "        False, False, False,  True, False, False,  True, False, False,\n",
       "        False,  True,  True,  True,  True,  True, False,  True, False,\n",
       "         True,  True,  True,  True, False,  True,  True, False, False,\n",
       "         True],\n",
       "       [ True, False, False, False,  True, False, False,  True, False,\n",
       "         True,  True,  True, False, False,  True, False,  True,  True,\n",
       "         True, False,  True, False, False, False, False, False,  True,\n",
       "         True, False,  True, False,  True,  True, False,  True, False,\n",
       "        False,  True, False,  True, False,  True, False, False, False,\n",
       "        False,  True,  True,  True, False, False, False, False, False,\n",
       "         True,  True, False, False, False,  True, False, False,  True,\n",
       "        False, False, False, False,  True,  True, False,  True, False,\n",
       "        False, False, False,  True, False, False,  True, False, False,\n",
       "        False,  True,  True,  True,  True,  True, False,  True, False,\n",
       "         True,  True,  True,  True, False,  True,  True, False, False,\n",
       "         True]], dtype=bool)"
      ]
     },
     "execution_count": 26,
     "metadata": {},
     "output_type": "execute_result"
    }
   ],
   "source": [
    "(a < jnp.zeros((10, 1)))"
   ]
  },
  {
   "cell_type": "code",
   "execution_count": 136,
   "id": "26960d32",
   "metadata": {},
   "outputs": [],
   "source": [
    "from time import time\n",
    "time_total = 0\n",
    "keys = random.split(key, 10000)\n",
    "for i in range(10000):\n",
    "    start = time()\n",
    "    key, subkey = random.split(key)\n",
    "    random.uniform(subkey, (200000,))\n",
    "    end = time()\n",
    "    time_total += (end - start) / 10000\n",
    "\n",
    "\n"
   ]
  },
  {
   "cell_type": "code",
   "execution_count": 156,
   "id": "a8d1c894",
   "metadata": {},
   "outputs": [],
   "source": [
    "from time import time\n",
    "time_total = 0\n",
    "keys = random.split(key, 10000)\n",
    "for i in range(10000):\n",
    "    start = time()\n",
    "    #key, subkey = random.split(keys[i])\n",
    "    random.normal(keys[i, :], (200000,))\n",
    "    end = time()\n",
    "    time_total += (end - start) / 10000\n"
   ]
  },
  {
   "cell_type": "code",
   "execution_count": 162,
   "id": "0c1021fe",
   "metadata": {},
   "outputs": [
    {
     "data": {
      "text/plain": [
       "Array([1., 1., 1., 1., 1., 1., 1., 1., 1., 1., 1., 1., 1., 1., 1., 1., 1.,\n",
       "       1., 1., 1., 1., 1., 1., 1., 1., 1., 1., 1., 1., 1., 1., 1., 1., 1.,\n",
       "       1., 1., 1., 1., 1., 1., 1., 1., 1., 1., 1., 1., 1., 1., 1., 1., 1.,\n",
       "       1., 1., 1., 1., 1., 1., 1., 1., 1., 1., 1., 1., 1., 1., 1., 1., 1.,\n",
       "       1., 1., 1., 1., 1., 1., 1., 1., 1., 1., 1., 1., 1., 1., 1., 1., 1.,\n",
       "       1., 1., 1., 1., 1., 1., 1., 1., 1., 1., 1., 1., 1., 1., 1., 1., 1.,\n",
       "       1., 1., 1., 1., 1., 1., 1., 1., 1., 1., 1., 1., 1., 1., 1., 1., 1.,\n",
       "       1., 1., 1., 1., 1., 1., 1., 1., 1., 1., 1., 1., 1., 1., 1., 1., 1.,\n",
       "       1., 1., 1., 1., 1., 1., 1., 1., 1., 1., 1., 1., 1., 1., 1., 1., 1.,\n",
       "       1., 1., 1., 1., 1., 1., 1., 1., 1., 1., 1., 1., 1., 1., 1., 1., 1.,\n",
       "       1., 1., 1., 1., 1., 1., 1., 1., 1., 1., 1., 1., 1., 1., 1., 1., 1.,\n",
       "       1., 1., 1., 1., 1., 1., 1., 1., 1., 1., 1., 1., 1., 1., 1., 1., 1.,\n",
       "       1., 1., 1., 1., 1., 1., 1., 1., 1., 1., 1., 1., 1., 1., 1., 1., 1.,\n",
       "       1., 1., 1., 1., 1., 1., 1., 1., 1., 1., 1., 1., 1., 1., 1., 1., 1.,\n",
       "       1., 1., 1., 1., 1., 1., 1., 1., 1., 1., 1., 1., 1., 1., 1., 1., 1.,\n",
       "       1., 1., 1., 1., 1., 1., 1., 1., 1., 1., 1., 1., 1., 1., 1., 1., 1.,\n",
       "       1., 1., 1., 1., 1., 1., 1., 1., 1., 1., 1., 1., 1., 1., 1., 1., 1.,\n",
       "       1., 1., 1., 1., 1., 1., 1., 1., 1., 1., 1., 1., 1., 1., 1., 1., 1.,\n",
       "       1., 1., 1., 1., 1., 1., 1., 1., 1., 1., 1., 1., 1., 1., 1., 1., 1.,\n",
       "       1., 1., 1., 1., 1., 1., 1., 1., 1., 1., 1., 1., 1., 1., 1., 1., 1.,\n",
       "       1., 1., 1., 1., 1., 1., 1., 1., 1., 1., 1., 1., 1., 1., 1., 1., 1.,\n",
       "       1., 1., 1., 1., 1., 1., 1., 1., 1., 1., 1., 1., 1., 1., 1., 1., 1.,\n",
       "       1., 1., 1., 1., 1., 1., 1., 1., 1., 1., 1., 1., 1., 1., 1., 1., 1.,\n",
       "       1., 1., 1., 1., 1., 1., 1., 1., 1., 1., 1., 1., 1., 1., 1., 1., 1.,\n",
       "       1., 1., 1., 1., 1., 1., 1., 1., 1., 1., 1., 1., 1., 1., 1., 1., 1.,\n",
       "       1., 1., 1., 1., 1., 1., 1., 1., 1., 1., 1., 1., 1., 1., 1., 1., 1.,\n",
       "       1., 1., 1., 1., 1., 1., 1., 1., 1., 1., 1., 1., 1., 1., 1., 1., 1.,\n",
       "       1., 1., 1., 1., 1., 1., 1., 1., 1., 1., 1., 1., 1., 1., 1., 1., 1.,\n",
       "       1., 1., 1., 1., 1., 1., 1., 1., 1., 1., 1., 1., 1., 1., 1., 1., 1.,\n",
       "       1., 1., 1., 1., 1., 1., 1., 1., 1., 1., 1., 1., 1., 1., 1., 1., 1.,\n",
       "       1., 1., 1., 1., 1., 1., 1., 1., 1., 1., 1., 1., 1., 1., 1., 1., 1.,\n",
       "       1., 1., 1., 1., 1., 1., 1., 1., 1., 1., 1., 1., 1., 1., 1., 1., 1.,\n",
       "       1., 1., 1., 1., 1., 1., 1., 1., 1., 1., 1., 1., 1., 1., 1., 1., 1.,\n",
       "       1., 1., 1., 1., 1., 1., 1., 1., 1., 1., 1., 1., 1., 1., 1., 1., 1.,\n",
       "       1., 1., 1., 1., 1., 1., 1., 1., 1., 1., 1., 1., 1., 1., 1., 1., 1.,\n",
       "       1., 1., 1., 1., 1., 1., 1., 1., 1., 1., 1., 1., 1., 1., 1., 1., 1.,\n",
       "       1., 1., 1., 1., 1., 1., 1., 1., 1., 1., 1., 1., 1., 1., 1., 1., 1.,\n",
       "       1., 1., 1., 1., 1., 1., 1., 1., 1., 1., 1., 1., 1., 1., 1., 1., 1.,\n",
       "       1., 1., 1., 1., 1., 1., 1., 1., 1., 1., 1., 1., 1., 1., 1., 1., 1.,\n",
       "       1., 1., 1., 1., 1., 1., 1., 1., 1., 1., 1., 1., 1., 1., 1., 1., 1.,\n",
       "       1., 1., 1., 1., 1., 1., 1., 1., 1., 1., 1., 1., 1., 1., 1., 1., 1.,\n",
       "       1., 1., 1., 1., 1., 1., 1., 1., 1., 1., 1., 1., 1., 1., 1., 1., 1.,\n",
       "       1., 1., 1., 1., 1., 1., 1., 1., 1., 1., 1., 1., 1., 1., 1., 1., 1.,\n",
       "       1., 1., 1., 1., 1., 1., 1., 1., 1., 1., 1., 1., 1., 1., 1., 1., 1.,\n",
       "       1., 1., 1., 1., 1., 1., 1., 1., 1., 1., 1., 1., 1., 1., 1., 1., 1.,\n",
       "       1., 1., 1., 1., 1., 1., 1., 1., 1., 1., 1., 1., 1., 1., 1., 1., 1.,\n",
       "       1., 1., 1., 1., 1., 1., 1., 1., 1., 1., 1., 1., 1., 1., 1., 1., 1.,\n",
       "       1., 1., 1., 1., 1., 1., 1., 1., 1., 1., 1., 1., 1., 1., 1., 1., 1.,\n",
       "       1., 1., 1., 1., 1., 1., 1., 1., 1., 1., 1., 1., 1., 1., 1., 1., 1.,\n",
       "       1., 1., 1., 1., 1., 1., 1., 1., 1., 1., 1., 1., 1., 1., 1., 1., 1.,\n",
       "       1., 1., 1., 1., 1., 1., 1., 1., 1., 1., 1., 1., 1., 1., 1., 1., 1.,\n",
       "       1., 1., 1., 1., 1., 1., 1., 1., 1., 1., 1., 1., 1., 1., 1., 1., 1.,\n",
       "       1., 1., 1., 1., 1., 1., 1., 1., 1., 1., 1., 1., 1., 1., 1., 1., 1.,\n",
       "       1., 1., 1., 1., 1., 1., 1., 1., 1., 1., 1., 1., 1., 1., 1., 1., 1.,\n",
       "       1., 1., 1., 1., 1., 1., 1., 1., 1., 1., 1., 1., 1., 1., 1., 1., 1.,\n",
       "       1., 1., 1., 1., 1., 1., 1., 1., 1., 1., 1., 1., 1., 1., 1., 1., 1.,\n",
       "       1., 1., 1., 1., 1., 1., 1., 1., 1., 1., 1., 1., 1., 1., 1., 1., 1.,\n",
       "       1., 1., 1., 1., 1., 1., 1., 1., 1., 1., 1., 1., 1., 1., 1., 1., 1.,\n",
       "       1., 1., 1., 1., 1., 1., 1., 1., 1., 1., 1., 1., 1., 1.],      dtype=float32)"
      ]
     },
     "execution_count": 162,
     "metadata": {},
     "output_type": "execute_result"
    }
   ],
   "source": [
    "jnp.ones(1000).at[random.normal(key, (1000,)) == 0].set(-9999.)"
   ]
  },
  {
   "cell_type": "code",
   "execution_count": 150,
   "id": "1f6342a5",
   "metadata": {},
   "outputs": [],
   "source": [
    "from time import time\n",
    "time_total = 0\n",
    "#keys = random.split(key, 10000)\n",
    "my_keys = [i^2 for i in range(10000)]\n",
    "for i in range(10000):\n",
    "    start = time()\n",
    "    #key, subkey = random.split(keys[i])\n",
    "    random.normal(key + my_keys[i], (200000,))\n",
    "    end = time()\n",
    "    time_total += (end - start) / 10000"
   ]
  },
  {
   "cell_type": "code",
   "execution_count": 148,
   "id": "76cf728e",
   "metadata": {},
   "outputs": [
    {
     "data": {
      "text/plain": [
       "9997"
      ]
     },
     "execution_count": 148,
     "metadata": {},
     "output_type": "execute_result"
    }
   ],
   "source": [
    "i^2"
   ]
  },
  {
   "cell_type": "code",
   "execution_count": 139,
   "id": "29b731a3",
   "metadata": {},
   "outputs": [
    {
     "ename": "TypeError",
     "evalue": "JAX encountered invalid PRNG key data: expected key_data to have ndim, shape, and dtype attributes. Got 100",
     "output_type": "error",
     "traceback": [
      "\u001b[0;31m---------------------------------------------------------------------------\u001b[0m",
      "\u001b[0;31mTypeError\u001b[0m                                 Traceback (most recent call last)",
      "Cell \u001b[0;32mIn[139], line 1\u001b[0m\n\u001b[0;32m----> 1\u001b[0m random\u001b[39m.\u001b[39;49msplit(\u001b[39m100\u001b[39;49m, \u001b[39m1000\u001b[39;49m)\n",
      "File \u001b[0;32m~/data/software/miniconda3/envs/hssm_gpu/lib/python3.10/site-packages/jax/_src/random.py:270\u001b[0m, in \u001b[0;36msplit\u001b[0;34m(key, num)\u001b[0m\n\u001b[1;32m    259\u001b[0m \u001b[39mdef\u001b[39;00m \u001b[39msplit\u001b[39m(key: KeyArray, num: Union[\u001b[39mint\u001b[39m, \u001b[39mtuple\u001b[39m[\u001b[39mint\u001b[39m, \u001b[39m.\u001b[39m\u001b[39m.\u001b[39m\u001b[39m.\u001b[39m]] \u001b[39m=\u001b[39m \u001b[39m2\u001b[39m) \u001b[39m-\u001b[39m\u001b[39m>\u001b[39m KeyArray:\n\u001b[1;32m    260\u001b[0m \u001b[39m  \u001b[39m\u001b[39m\"\"\"Splits a PRNG key into `num` new keys by adding a leading axis.\u001b[39;00m\n\u001b[1;32m    261\u001b[0m \n\u001b[1;32m    262\u001b[0m \u001b[39m  Args:\u001b[39;00m\n\u001b[0;32m   (...)\u001b[0m\n\u001b[1;32m    268\u001b[0m \u001b[39m    An array-like object of `num` new PRNG keys.\u001b[39;00m\n\u001b[1;32m    269\u001b[0m \u001b[39m  \"\"\"\u001b[39;00m\n\u001b[0;32m--> 270\u001b[0m   key, wrapped \u001b[39m=\u001b[39m _check_prng_key(key)\n\u001b[1;32m    271\u001b[0m   \u001b[39mreturn\u001b[39;00m _return_prng_keys(wrapped, _split(key, num))\n",
      "File \u001b[0;32m~/data/software/miniconda3/envs/hssm_gpu/lib/python3.10/site-packages/jax/_src/random.py:76\u001b[0m, in \u001b[0;36m_check_prng_key\u001b[0;34m(key)\u001b[0m\n\u001b[1;32m     73\u001b[0m   \u001b[39mreturn\u001b[39;00m key, \u001b[39mFalse\u001b[39;00m\n\u001b[1;32m     74\u001b[0m \u001b[39melif\u001b[39;00m _arraylike(key):\n\u001b[1;32m     75\u001b[0m   \u001b[39m# Call random_wrap here to surface errors for invalid keys.\u001b[39;00m\n\u001b[0;32m---> 76\u001b[0m   wrapped_key \u001b[39m=\u001b[39m prng\u001b[39m.\u001b[39;49mrandom_wrap(key, impl\u001b[39m=\u001b[39;49mdefault_prng_impl())\n\u001b[1;32m     77\u001b[0m   \u001b[39mif\u001b[39;00m config\u001b[39m.\u001b[39mjax_legacy_prng_key \u001b[39m==\u001b[39m \u001b[39m'\u001b[39m\u001b[39merror\u001b[39m\u001b[39m'\u001b[39m:\n\u001b[1;32m     78\u001b[0m     \u001b[39mraise\u001b[39;00m \u001b[39mValueError\u001b[39;00m(\n\u001b[1;32m     79\u001b[0m       \u001b[39m'\u001b[39m\u001b[39mLegacy uint32 key array passed as key to jax.random function. \u001b[39m\u001b[39m'\u001b[39m\n\u001b[1;32m     80\u001b[0m       \u001b[39m'\u001b[39m\u001b[39mPlease create keys using jax.random.key(). If use of a raw key array \u001b[39m\u001b[39m'\u001b[39m\n\u001b[1;32m     81\u001b[0m       \u001b[39m'\u001b[39m\u001b[39mwas intended, set jax_legacy_prng_key=\u001b[39m\u001b[39m\"\u001b[39m\u001b[39mallow\u001b[39m\u001b[39m\"\u001b[39m\u001b[39m.\u001b[39m\u001b[39m'\u001b[39m)\n",
      "File \u001b[0;32m~/data/software/miniconda3/envs/hssm_gpu/lib/python3.10/site-packages/jax/_src/prng.py:868\u001b[0m, in \u001b[0;36mrandom_wrap\u001b[0;34m(base_arr, impl)\u001b[0m\n\u001b[1;32m    867\u001b[0m \u001b[39mdef\u001b[39;00m \u001b[39mrandom_wrap\u001b[39m(base_arr, \u001b[39m*\u001b[39m, impl):\n\u001b[0;32m--> 868\u001b[0m   _check_prng_key_data(impl, base_arr)\n\u001b[1;32m    869\u001b[0m   \u001b[39mreturn\u001b[39;00m random_wrap_p\u001b[39m.\u001b[39mbind(base_arr, impl\u001b[39m=\u001b[39mimpl)\n",
      "File \u001b[0;32m~/data/software/miniconda3/envs/hssm_gpu/lib/python3.10/site-packages/jax/_src/prng.py:118\u001b[0m, in \u001b[0;36m_check_prng_key_data\u001b[0;34m(impl, key_data)\u001b[0m\n\u001b[1;32m    116\u001b[0m ndim \u001b[39m=\u001b[39m \u001b[39mlen\u001b[39m(impl\u001b[39m.\u001b[39mkey_shape)\n\u001b[1;32m    117\u001b[0m \u001b[39mif\u001b[39;00m \u001b[39mnot\u001b[39;00m \u001b[39mall\u001b[39m(\u001b[39mhasattr\u001b[39m(key_data, attr) \u001b[39mfor\u001b[39;00m attr \u001b[39min\u001b[39;00m [\u001b[39m'\u001b[39m\u001b[39mndim\u001b[39m\u001b[39m'\u001b[39m, \u001b[39m'\u001b[39m\u001b[39mshape\u001b[39m\u001b[39m'\u001b[39m, \u001b[39m'\u001b[39m\u001b[39mdtype\u001b[39m\u001b[39m'\u001b[39m]):\n\u001b[0;32m--> 118\u001b[0m   \u001b[39mraise\u001b[39;00m \u001b[39mTypeError\u001b[39;00m(\u001b[39m\"\u001b[39m\u001b[39mJAX encountered invalid PRNG key data: expected key_data \u001b[39m\u001b[39m\"\u001b[39m\n\u001b[1;32m    119\u001b[0m                   \u001b[39mf\u001b[39m\u001b[39m\"\u001b[39m\u001b[39mto have ndim, shape, and dtype attributes. Got \u001b[39m\u001b[39m{\u001b[39;00mkey_data\u001b[39m}\u001b[39;00m\u001b[39m\"\u001b[39m)\n\u001b[1;32m    120\u001b[0m \u001b[39mif\u001b[39;00m key_data\u001b[39m.\u001b[39mndim \u001b[39m<\u001b[39m \u001b[39m1\u001b[39m:\n\u001b[1;32m    121\u001b[0m   \u001b[39mraise\u001b[39;00m \u001b[39mTypeError\u001b[39;00m(\u001b[39m\"\u001b[39m\u001b[39mJAX encountered invalid PRNG key data: expected \u001b[39m\u001b[39m\"\u001b[39m\n\u001b[1;32m    122\u001b[0m                   \u001b[39mf\u001b[39m\u001b[39m\"\u001b[39m\u001b[39mkey_data.ndim >= 1; got ndim=\u001b[39m\u001b[39m{\u001b[39;00mkey_data\u001b[39m.\u001b[39mndim\u001b[39m}\u001b[39;00m\u001b[39m\"\u001b[39m)\n",
      "\u001b[0;31mTypeError\u001b[0m: JAX encountered invalid PRNG key data: expected key_data to have ndim, shape, and dtype attributes. Got 100"
     ]
    }
   ],
   "source": [
    "random.split(key, 1000)"
   ]
  },
  {
   "cell_type": "code",
   "execution_count": 138,
   "id": "bf0ffb36",
   "metadata": {},
   "outputs": [
    {
     "data": {
      "text/plain": [
       "Array([ 158503457, 2420088358], dtype=uint32)"
      ]
     },
     "execution_count": 138,
     "metadata": {},
     "output_type": "execute_result"
    }
   ],
   "source": [
    "subkey"
   ]
  },
  {
   "cell_type": "code",
   "execution_count": 19,
   "id": "d2146ce9",
   "metadata": {},
   "outputs": [],
   "source": [
    "# jnp.array([True]*100)"
   ]
  },
  {
   "cell_type": "code",
   "execution_count": 67,
   "id": "43828547",
   "metadata": {},
   "outputs": [
    {
     "data": {
      "text/plain": [
       "Array([20000., 20000., 20000., ..., 20000., 20000., 20000.], dtype=float32)"
      ]
     },
     "execution_count": 67,
     "metadata": {},
     "output_type": "execute_result"
    }
   ],
   "source": [
    "jnp.array([20000.]*2000)"
   ]
  },
  {
   "cell_type": "code",
   "execution_count": 68,
   "id": "1f49f65c",
   "metadata": {},
   "outputs": [
    {
     "data": {
      "text/plain": [
       "Array([0., 0., 0., ..., 0., 0., 0.], dtype=float32)"
      ]
     },
     "execution_count": 68,
     "metadata": {},
     "output_type": "execute_result"
    }
   ],
   "source": [
    "jnp.array([0.]*2000)"
   ]
  },
  {
   "cell_type": "code",
   "execution_count": 70,
   "id": "55c34aee",
   "metadata": {},
   "outputs": [
    {
     "data": {
      "text/plain": [
       "Array([0., 0., 0., ..., 0., 0., 0.], dtype=float32)"
      ]
     },
     "execution_count": 70,
     "metadata": {},
     "output_type": "execute_result"
    }
   ],
   "source": [
    "jnp.minimum(jnp.array([0.]*2000), jnp.array([20000.]*2000))"
   ]
  },
  {
   "cell_type": "code",
   "execution_count": 20,
   "id": "300fd23d",
   "metadata": {},
   "outputs": [
    {
     "data": {
      "text/plain": [
       "Array(30., dtype=float32)"
      ]
     },
     "execution_count": 20,
     "metadata": {},
     "output_type": "execute_result"
    }
   ],
   "source": [
    "jnp.float32(30)"
   ]
  },
  {
   "cell_type": "code",
   "execution_count": 10,
   "id": "4c882a61",
   "metadata": {},
   "outputs": [],
   "source": [
    "out = test_func(0, 20000, key, jnp.zeros(200000), 1)"
   ]
  },
  {
   "cell_type": "code",
   "execution_count": null,
   "id": "d7605223",
   "metadata": {},
   "outputs": [],
   "source": []
  },
  {
   "cell_type": "code",
   "execution_count": 176,
   "id": "78a40bbf",
   "metadata": {},
   "outputs": [
    {
     "data": {
      "text/plain": [
       "(array([1.0000e+00, 0.0000e+00, 0.0000e+00, 0.0000e+00, 1.0000e+00,\n",
       "        3.0000e+00, 1.0000e+00, 1.0000e+00, 2.0000e+00, 8.0000e+00,\n",
       "        2.0000e+00, 5.0000e+00, 3.0000e+00, 6.0000e+00, 8.0000e+00,\n",
       "        1.5000e+01, 1.0000e+01, 1.7000e+01, 2.1000e+01, 3.7000e+01,\n",
       "        2.9000e+01, 4.0000e+01, 7.2000e+01, 8.0000e+01, 9.1000e+01,\n",
       "        1.0900e+02, 1.5900e+02, 2.1100e+02, 2.5100e+02, 3.0500e+02,\n",
       "        3.8800e+02, 4.7300e+02, 5.7800e+02, 7.6900e+02, 9.1500e+02,\n",
       "        1.2520e+03, 1.5440e+03, 1.9170e+03, 2.4470e+03, 3.0200e+03,\n",
       "        3.8150e+03, 4.9640e+03, 6.1380e+03, 7.6730e+03, 9.7660e+03,\n",
       "        1.2334e+04, 1.5326e+04, 1.7157e+04, 8.0480e+03, 1.6560e+03,\n",
       "        1.4849e+04, 1.6593e+04, 1.3674e+04, 1.1033e+04, 8.7680e+03,\n",
       "        6.9200e+03, 5.5210e+03, 4.3130e+03, 3.3890e+03, 2.7440e+03,\n",
       "        2.1860e+03, 1.7550e+03, 1.2930e+03, 1.0890e+03, 8.8800e+02,\n",
       "        7.1000e+02, 5.1700e+02, 4.3400e+02, 3.4500e+02, 2.6100e+02,\n",
       "        2.1300e+02, 1.5500e+02, 1.4100e+02, 1.1300e+02, 1.0100e+02,\n",
       "        6.8000e+01, 5.0000e+01, 4.6000e+01, 3.1000e+01, 2.2000e+01,\n",
       "        2.0000e+01, 1.5000e+01, 1.0000e+01, 1.4000e+01, 7.0000e+00,\n",
       "        8.0000e+00, 9.0000e+00, 7.0000e+00, 6.0000e+00, 5.0000e+00,\n",
       "        2.0000e+00, 2.0000e+00, 1.0000e+00, 0.0000e+00, 1.0000e+00,\n",
       "        1.0000e+00, 1.0000e+00, 0.0000e+00, 0.0000e+00, 1.0000e+00]),\n",
       " array([-9612.        , -9416.83984375, -9221.6796875 , -9026.51953125,\n",
       "        -8831.36035156, -8636.20019531, -8441.04003906, -8245.87988281,\n",
       "        -8050.72021484, -7855.56005859, -7660.39990234, -7465.24023438,\n",
       "        -7270.08007812, -7074.91992188, -6879.75976562, -6684.60009766,\n",
       "        -6489.43994141, -6294.27978516, -6099.12011719, -5903.95996094,\n",
       "        -5708.79980469, -5513.64013672, -5318.47998047, -5123.31982422,\n",
       "        -4928.16015625, -4733.        , -4537.83984375, -4342.68017578,\n",
       "        -4147.52001953, -3952.36010742, -3757.19995117, -3562.04003906,\n",
       "        -3366.87988281, -3171.7199707 , -2976.56005859, -2781.39990234,\n",
       "        -2586.23999023, -2391.08007812, -2195.91992188, -2000.76000977,\n",
       "        -1805.59997559, -1610.43994141, -1415.2800293 , -1220.11999512,\n",
       "        -1024.95996094,  -829.79998779,  -634.64001465,  -439.48001099,\n",
       "         -244.32000732,   -49.15999985,   146.        ,   341.16000366,\n",
       "          536.32000732,   731.47998047,   926.64001465,  1121.80004883,\n",
       "         1316.95996094,  1512.11999512,  1707.2800293 ,  1902.43994141,\n",
       "         2097.60009766,  2292.76000977,  2487.91992188,  2683.08007812,\n",
       "         2878.23999023,  3073.39990234,  3268.56005859,  3463.7199707 ,\n",
       "         3658.87988281,  3854.04003906,  4049.19995117,  4244.35986328,\n",
       "         4439.52001953,  4634.68017578,  4829.83984375,  5025.        ,\n",
       "         5220.16015625,  5415.31982422,  5610.47998047,  5805.64013672,\n",
       "         6000.79980469,  6195.95996094,  6391.12011719,  6586.27978516,\n",
       "         6781.43994141,  6976.60009766,  7171.75976562,  7366.91992188,\n",
       "         7562.08007812,  7757.24023438,  7952.39990234,  8147.56005859,\n",
       "         8342.71972656,  8537.87988281,  8733.04003906,  8928.20019531,\n",
       "         9123.36035156,  9318.51953125,  9513.6796875 ,  9708.83984375,\n",
       "         9904.        ]),\n",
       " <BarContainer object of 100 artists>)"
      ]
     },
     "execution_count": 176,
     "metadata": {},
     "output_type": "execute_result"
    },
    {
     "data": {
      "image/png": "[encoded data removed]",
      "text/plain": [
       "<Figure size 640x480 with 1 Axes>"
      ]
     },
     "metadata": {},
     "output_type": "display_data"
    }
   ],
   "source": [
    "plt.hist(np.squeeze(np.array(out[-1])) * np.squeeze(np.array(out[-2])), bins = 100)"
   ]
  },
  {
   "cell_type": "code",
   "execution_count": null,
   "id": "1d2e89b3",
   "metadata": {},
   "outputs": [],
   "source": []
  },
  {
   "cell_type": "code",
   "execution_count": 105,
   "id": "a94f766a",
   "metadata": {},
   "outputs": [],
   "source": [
    "import ssms"
   ]
  },
  {
   "cell_type": "code",
   "execution_count": 113,
   "id": "984ef075",
   "metadata": {},
   "outputs": [
    {
     "name": "stdout",
     "output_type": "stream",
     "text": [
      "passing through\n",
      "v:  [0.]\n",
      "a:  [1.]\n",
      "z:  [0.5]\n",
      "t:  [0.]\n"
     ]
    },
    {
     "data": {
      "text/plain": [
       "{'rts': array([[1.2020001 ],\n",
       "        [0.15800014],\n",
       "        [0.37999865],\n",
       "        ...,\n",
       "        [0.2360003 ],\n",
       "        [0.4149982 ],\n",
       "        [0.18100019]], dtype=float32),\n",
       " 'choices': array([[-1],\n",
       "        [-1],\n",
       "        [ 1],\n",
       "        ...,\n",
       "        [ 1],\n",
       "        [ 1],\n",
       "        [ 1]], dtype=int32),\n",
       " 'metadata': {'v': array([0.], dtype=float32),\n",
       "  'a': array([1.], dtype=float32),\n",
       "  'z': array([0.5], dtype=float32),\n",
       "  't': array([0.], dtype=float32),\n",
       "  's': 1.0,\n",
       "  'theta': array([0.3], dtype=float32),\n",
       "  'delta_t': 0.0010000000474974513,\n",
       "  'max_t': 20.0,\n",
       "  'n_samples': 200000,\n",
       "  'simulator': 'ddm_flexbound',\n",
       "  'boundary_fun_type': 'angle',\n",
       "  'possible_choices': [-1, 1],\n",
       "  'trajectory': array([[ 0.0000000e+00],\n",
       "         [-3.1195150e-03],\n",
       "         [ 1.2386636e-02],\n",
       "         ...,\n",
       "         [-9.9900000e+02],\n",
       "         [-9.9900000e+02],\n",
       "         [-9.9900000e+02]], dtype=float32),\n",
       "  'boundary': array([ 1.        ,  0.99969065,  0.9993813 , ..., -5.1861067 ,\n",
       "         -5.1864157 , -5.1867247 ], dtype=float32),\n",
       "  'model': 'angle'}}"
      ]
     },
     "execution_count": 113,
     "metadata": {},
     "output_type": "execute_result"
    }
   ],
   "source": [
    "from ssms import basic_simulators as bs \n",
    "\n",
    "bs.simulator.simulator({'v': 0,\n",
    "                        'a': 1,\n",
    "                        'z': 0.5,\n",
    "                        't': 0.0}, model = 'ddm', n_samples = 200000)\n",
    "\n",
    "\n",
    "\n",
    "bs.simulator.simulator({'v': 0,\n",
    "                        'a': 1,\n",
    "                        'z': 0.5,\n",
    "                        't': 0.0,\n",
    "                        'theta': 0.3}, model = 'angle', n_samples = 200000)"
   ]
  },
  {
   "cell_type": "code",
   "execution_count": 109,
   "id": "3925da9e",
   "metadata": {},
   "outputs": [
    {
     "name": "stdout",
     "output_type": "stream",
     "text": [
      "Help on function simulator in module ssms.basic_simulators.simulator:\n",
      "\n",
      "simulator(theta, model='angle', n_samples=1000, delta_t=0.001, max_t=20, no_noise=False, bin_dim=None, bin_pointwise=False, random_state=None)\n",
      "    Basic data simulator for the models included in HDDM.\n",
      "    \n",
      "    Arguments\n",
      "    ---------\n",
      "        theta : list, numpy.array, dict or pd.DataFrame\n",
      "            Parameters of the simulator. If 2d array, each row is treated as a 'trial'\n",
      "            and the function runs n_sample * n_trials simulations.\n",
      "        model: str <default='angle'>\n",
      "            Determines the model that will be simulated.\n",
      "        n_samples: int <default=1000>\n",
      "            Number of simulation runs for each row in the theta argument.\n",
      "        delta_t: float\n",
      "            Size fo timesteps in simulator (conceptually measured in seconds)\n",
      "        max_t: float\n",
      "            Maximum reaction the simulator can reach\n",
      "        no_noise: bool <default=False>\n",
      "            Turn noise of (useful for plotting purposes mostly)\n",
      "        bin_dim: int <default=None>\n",
      "            Number of bins to use (in case the simulator output is\n",
      "            supposed to come out as a count histogram)\n",
      "        bin_pointwise: bool <default=False>\n",
      "            Wheter or not to bin the output data pointwise.\n",
      "            If true the 'RT' part of the data is now specifies the\n",
      "            'bin-number' of a given trial instead of the 'RT' directly.\n",
      "            You need to specify bin_dim as some number for this to work.\n",
      "        random_state: int <default=None>\n",
      "            Integer passed to random_seed function in the simulator.\n",
      "            Can be used for reproducibility.\n",
      "    \n",
      "    Return\n",
      "    ------\n",
      "    dictionary where keys\n",
      "        can be (rts, responses, metadata)\n",
      "        or     (rt-response histogram, metadata)\n",
      "        or     (rts binned pointwise, responses, metadata)\n",
      "\n"
     ]
    }
   ],
   "source": [
    "help(bs.simulator.simulator)"
   ]
  },
  {
   "cell_type": "code",
   "execution_count": 104,
   "id": "71608245",
   "metadata": {},
   "outputs": [
    {
     "data": {
      "text/plain": [
       "(array([2.3824e+04, 4.2425e+04, 3.3891e+04, 2.5450e+04, 1.8726e+04,\n",
       "        1.4210e+04, 1.0400e+04, 7.9530e+03, 5.8300e+03, 4.4030e+03,\n",
       "        3.2110e+03, 2.4540e+03, 1.8630e+03, 1.3350e+03, 9.9100e+02,\n",
       "        7.7700e+02, 5.7600e+02, 4.2200e+02, 3.2300e+02, 2.4600e+02,\n",
       "        1.8700e+02, 1.3000e+02, 9.0000e+01, 7.2000e+01, 4.6000e+01,\n",
       "        3.8000e+01, 3.2000e+01, 1.9000e+01, 1.6000e+01, 1.6000e+01,\n",
       "        1.3000e+01, 1.4000e+01, 4.0000e+00, 4.0000e+00, 3.0000e+00,\n",
       "        2.0000e+00, 1.0000e+00, 1.0000e+00, 1.0000e+00, 1.0000e+00]),\n",
       " array([  43.        ,  289.5249939 ,  536.04998779,  782.57501221,\n",
       "        1029.09997559, 1275.625     , 1522.15002441, 1768.67504883,\n",
       "        2015.19995117, 2261.72509766, 2508.25      , 2754.77490234,\n",
       "        3001.30004883, 3247.82495117, 3494.35009766, 3740.875     ,\n",
       "        3987.39990234, 4233.92480469, 4480.45019531, 4726.97509766,\n",
       "        4973.5       , 5220.02490234, 5466.54980469, 5713.07519531,\n",
       "        5959.60009766, 6206.125     , 6452.64990234, 6699.17480469,\n",
       "        6945.70019531, 7192.22509766, 7438.75      , 7685.27490234,\n",
       "        7931.79980469, 8178.32519531, 8424.84960938, 8671.375     ,\n",
       "        8917.90039062, 9164.42480469, 9410.95019531, 9657.47460938,\n",
       "        9904.        ]),\n",
       " <BarContainer object of 40 artists>)"
      ]
     },
     "execution_count": 104,
     "metadata": {},
     "output_type": "execute_result"
    },
    {
     "data": {
      "image/png": "[encoded data removed]",
      "text/plain": [
       "<Figure size 640x480 with 1 Axes>"
      ]
     },
     "metadata": {},
     "output_type": "display_data"
    }
   ],
   "source": [
    "plt.hist(np.squeeze(np.array(out[-1])), bins = 40)"
   ]
  },
  {
   "cell_type": "code",
   "execution_count": 95,
   "id": "1f2a677f",
   "metadata": {},
   "outputs": [
    {
     "data": {
      "text/plain": [
       "Array([20000., 20000., 20000., ..., 20000., 20000., 20000.], dtype=float32)"
      ]
     },
     "execution_count": 95,
     "metadata": {},
     "output_type": "execute_result"
    }
   ],
   "source": [
    "out[-1][(out[0] > 1) | (out[0] < -1)]"
   ]
  },
  {
   "cell_type": "code",
   "execution_count": 92,
   "id": "3ae296e9",
   "metadata": {},
   "outputs": [
    {
     "data": {
      "text/plain": [
       "(array([116., 111., 109., 107., 133., 125.,  93., 107.,  94., 115.]),\n",
       " array([-0.9961378 , -0.79662728, -0.59711683, -0.39760634, -0.19809586,\n",
       "         0.00141463,  0.20092511,  0.4004356 ,  0.59994608,  0.7994566 ,\n",
       "         0.99896705]),\n",
       " <BarContainer object of 10 artists>)"
      ]
     },
     "execution_count": 92,
     "metadata": {},
     "output_type": "execute_result"
    },
    {
     "data": {
      "image/png": "[encoded data removed]",
      "text/plain": [
       "<Figure size 640x480 with 1 Axes>"
      ]
     },
     "metadata": {},
     "output_type": "display_data"
    }
   ],
   "source": [
    "plt.hist(np.array(out[0][(out[0] < 1) & (out[0] > -1)]))"
   ]
  },
  {
   "cell_type": "code",
   "execution_count": 86,
   "id": "2db59ab0",
   "metadata": {},
   "outputs": [
    {
     "data": {
      "text/plain": [
       "(array([     0.,      0.,      0.,      0.,      0., 200000.,      0.,\n",
       "             0.,      0.,      0.]),\n",
       " array([19999.5       , 19999.59960938, 19999.69921875, 19999.80078125,\n",
       "        19999.90039062, 20000.        , 20000.09960938, 20000.19921875,\n",
       "        20000.30078125, 20000.40039062, 20000.5       ]),\n",
       " <BarContainer object of 10 artists>)"
      ]
     },
     "execution_count": 86,
     "metadata": {},
     "output_type": "execute_result"
    },
    {
     "data": {
      "image/png": "[encoded data removed]",
      "text/plain": [
       "<Figure size 640x480 with 1 Axes>"
      ]
     },
     "metadata": {},
     "output_type": "display_data"
    }
   ],
   "source": [
    "from matplotlib import pyplot as plt\n",
    "import numpy as np\n",
    "plt.hist(np.squeeze(np.array(out[-1])))"
   ]
  },
  {
   "cell_type": "code",
   "execution_count": 74,
   "id": "fc61edbd",
   "metadata": {},
   "outputs": [
    {
     "data": {
      "text/plain": [
       "Array([-1.57218266e+00, -5.87747276e-01, -1.54195279e-01, -6.89078331e-01,\n",
       "        6.59210980e-01,  2.98236817e-01,  7.42171943e-01,  1.01931739e+00,\n",
       "        1.74980617e+00,  1.04546618e+00,  1.15095198e+00,  9.73630548e-02,\n",
       "       -2.42641587e-02, -1.37085021e+00,  2.01606393e-01, -4.30584222e-01,\n",
       "       -1.48145169e-01,  6.33104563e-01, -9.30495083e-01, -4.83479768e-01,\n",
       "        2.06030443e-01,  7.20419586e-01, -8.82625997e-01, -5.12911558e-01,\n",
       "        7.93567061e-01, -5.04700005e-01,  1.14157486e+00, -6.53433800e-01,\n",
       "        4.33537811e-01,  7.46298730e-01,  3.00492525e-01,  2.67056346e-01,\n",
       "       -1.15867160e-01, -2.41305470e-01,  5.91683924e-01, -1.22448909e+00,\n",
       "       -1.25146890e+00,  3.76878306e-04,  1.28927028e+00, -5.97998798e-01,\n",
       "        1.77729353e-02, -1.60173106e+00, -1.79757130e+00,  4.27672714e-01,\n",
       "       -9.32130396e-01, -1.22382665e+00, -6.77089334e-01, -3.03168368e+00,\n",
       "        3.77068073e-01,  7.39320815e-01, -1.09874082e+00,  1.03309345e+00,\n",
       "        1.62717533e+00, -2.02852941e+00,  2.62724996e+00, -3.49942535e-01,\n",
       "        1.52983701e+00,  7.55335510e-01, -2.39466503e-01,  1.05706322e+00,\n",
       "       -3.06878328e-01,  7.49426603e-01, -1.72647655e+00,  1.34076342e-01,\n",
       "        7.79093742e-01, -1.30987477e+00, -2.87471205e-01,  1.20607615e+00,\n",
       "       -5.85146368e-01, -5.25191128e-01, -5.06028421e-02,  2.67099082e-01,\n",
       "       -9.51662481e-01,  4.01182234e-01, -5.05299091e-01,  3.03344488e-01,\n",
       "        1.07670212e+00,  5.62413514e-01,  1.27822265e-01,  1.40472069e-01,\n",
       "       -3.38231772e-01,  2.13023007e-01,  5.72873712e-01,  7.44452894e-01,\n",
       "       -2.80490294e-02, -7.06600428e-01,  1.39022499e-01, -8.05392265e-01,\n",
       "       -5.02901971e-01,  7.51375198e-01, -1.28666043e+00, -6.44612014e-01,\n",
       "        5.11754334e-01,  7.14856803e-01, -1.40858233e+00, -2.90405393e-01,\n",
       "        1.24006160e-01, -7.31626570e-01, -2.98965901e-01,  8.47090364e-01,\n",
       "        2.34417081e-01,  1.23953712e+00, -1.03223252e+00, -9.73378360e-01,\n",
       "        1.43548489e+00,  4.46025938e-01, -7.37864017e-01,  7.49552429e-01,\n",
       "        8.93950045e-01, -1.17775214e+00,  3.95077884e-01, -5.89929640e-01,\n",
       "       -6.01028025e-01,  4.48441327e-01, -2.30066076e-01,  9.90641356e-01,\n",
       "        7.69938529e-01, -2.91695982e-01, -9.14453745e-01,  1.69809461e+00,\n",
       "       -7.83104181e-01,  8.55245113e-01, -1.18590981e-01, -8.67059946e-01,\n",
       "       -3.37021470e-01,  1.39236212e+00,  1.05995274e+00, -6.52697235e-02,\n",
       "        1.77056968e-01,  6.24532461e-01,  6.40607774e-01,  2.59978175e+00,\n",
       "       -6.58019245e-01, -2.24813581e-01, -5.47241159e-02, -5.53677380e-01,\n",
       "        1.69900751e+00,  1.23996162e+00, -8.63996565e-01,  1.63457465e+00,\n",
       "       -2.48905420e-01, -1.37496352e+00,  1.05882198e-01, -2.74598412e-02,\n",
       "       -6.06900096e-01,  4.94094670e-01,  6.26678705e-01,  2.65210748e+00,\n",
       "       -2.26100281e-01,  2.14502379e-01,  1.55020440e+00,  7.92454705e-02,\n",
       "        1.19824782e-02,  1.19973648e+00,  5.80458343e-01,  4.51647729e-01,\n",
       "       -1.37629271e+00,  2.98934191e-01, -2.39639327e-01, -1.90258002e+00,\n",
       "        4.40233141e-01, -8.91903400e-01,  9.75455225e-01,  2.72341466e+00,\n",
       "        4.00410563e-01, -1.39737884e-02,  9.71759379e-01,  4.86081451e-01,\n",
       "       -4.24987197e-01,  2.26092473e-01,  8.67710054e-01, -6.07955515e-01,\n",
       "        2.35656559e-01, -1.33197948e-01, -1.52991641e+00, -1.05934834e+00,\n",
       "       -2.34083486e+00,  1.45727181e+00,  6.71329677e-01, -1.10751629e+00,\n",
       "        2.84121186e-01,  3.29157680e-01, -1.71526685e-01,  3.54347557e-01,\n",
       "       -2.30839655e-01, -2.83043161e-02,  1.50585914e+00, -5.30572176e-01,\n",
       "        1.66838467e+00, -3.34912091e-02,  1.37537849e+00, -7.17225552e-01,\n",
       "       -1.91269405e-02, -1.69943988e-01, -5.02730429e-01, -1.33604646e-01,\n",
       "       -7.81965733e-01,  7.17763007e-01, -7.70078957e-01, -7.86269903e-01,\n",
       "       -3.95014077e-01,  1.13133311e+00,  7.74109066e-01, -2.12475228e+00,\n",
       "       -9.26071942e-01, -9.01112437e-01,  7.37109601e-01, -1.05051219e-01,\n",
       "        6.88083887e-01, -1.64980578e+00,  8.17928135e-01,  1.61401606e+00,\n",
       "        1.36521116e-01,  1.89402960e-02,  3.42403501e-01, -7.54787743e-01,\n",
       "        5.74011803e-01,  4.86359268e-01, -3.45626920e-01,  1.33940268e+00,\n",
       "       -8.78350660e-02, -1.48277804e-01,  1.00900137e+00,  3.95656556e-01,\n",
       "       -6.06235981e-01, -7.84578145e-01,  3.14186662e-01,  6.49126291e-01,\n",
       "        3.86321962e-01, -4.76402521e-01,  1.48557973e+00, -4.21455026e-01,\n",
       "       -1.04115582e+00,  1.29436362e+00, -4.21451449e-01,  3.30327898e-01,\n",
       "        6.49328113e-01, -8.69603977e-02, -1.15103626e+00, -6.18677557e-01,\n",
       "       -9.67861712e-02, -4.05486554e-01,  5.13806939e-01, -1.65653312e+00,\n",
       "       -5.63431904e-02, -2.06792176e-01,  4.33244973e-01, -4.84243304e-01,\n",
       "       -4.84325923e-02,  6.50682330e-01, -1.72019708e+00, -4.35110837e-01,\n",
       "       -4.22171623e-01, -2.94787318e-01,  1.24632072e+00, -8.37790549e-01,\n",
       "        4.62180644e-01, -3.02374184e-01, -1.71485412e+00, -1.55766034e+00,\n",
       "       -1.26680434e+00,  2.02244088e-01, -7.79528737e-01, -3.24626029e-01,\n",
       "       -3.87792647e-01, -5.51200747e-01,  1.83769420e-01,  1.06642461e+00,\n",
       "        4.67285812e-01, -8.46401691e-01, -1.10397768e+00, -2.51736730e-01,\n",
       "        1.58639240e+00,  5.08127391e-01,  2.56001115e-01,  4.30562407e-01,\n",
       "       -1.07120025e+00, -1.28359723e+00, -6.98778093e-01,  4.57092136e-01,\n",
       "       -1.87024796e+00,  2.12415054e-01, -2.80317724e-01,  6.82873487e-01,\n",
       "       -2.72152066e-01,  1.89200366e+00,  6.73481107e-01,  6.25961363e-01,\n",
       "        1.94344431e-01,  6.06497586e-01, -1.18837380e+00,  3.67842242e-02,\n",
       "       -8.36066008e-01,  5.81867099e-01,  5.02193928e-01,  7.90424347e-01,\n",
       "        1.12756424e-01, -1.15943766e+00,  1.50626493e+00,  3.34485888e-01,\n",
       "       -1.12009859e+00, -2.76917487e-01, -1.09771013e+00, -8.08229029e-01,\n",
       "       -2.18710884e-01, -1.19020772e+00, -1.12738442e+00,  1.04633522e+00,\n",
       "        3.68176311e-01, -1.28983128e+00,  2.41373017e-01, -1.25671375e+00,\n",
       "       -5.24248362e-01,  1.01435912e+00, -1.71553418e-02,  1.94018948e+00,\n",
       "        2.13870704e-01,  1.41734779e+00, -1.21159434e-01,  1.55709937e-01,\n",
       "        1.87776640e-01, -2.10714072e-01,  4.35476333e-01,  3.76504846e-02,\n",
       "        1.53249061e+00,  9.14242744e-01,  1.47451186e+00,  8.78011644e-01,\n",
       "        3.72192353e-01,  6.71751320e-01,  2.56135724e-02,  8.15336406e-01,\n",
       "        2.07225871e+00,  1.63152385e+00, -7.47801483e-01,  6.19438827e-01,\n",
       "       -3.79902387e+00,  1.04728198e+00, -1.26123905e+00, -1.44389093e+00,\n",
       "       -1.31608391e+00,  6.68094397e-01,  7.19407856e-01, -9.14092779e-01,\n",
       "       -2.76621878e-01,  2.32801628e+00,  2.34275490e-01,  1.08175600e+00,\n",
       "        1.60508439e-01,  1.89314675e+00,  1.05270767e+00,  5.23854733e-01,\n",
       "        1.14328194e+00, -1.36625838e+00,  1.67362821e+00, -1.62187830e-01,\n",
       "       -9.78754163e-01, -5.74863017e-01,  1.12109089e+00, -1.28546703e+00,\n",
       "       -7.06275225e-01,  4.97785091e-01,  6.67587996e-01, -2.79515386e-01,\n",
       "        4.02329266e-01,  2.24083811e-01,  1.28256238e+00, -5.03123105e-01,\n",
       "        9.44806114e-02,  3.86936963e-01, -7.88895190e-01,  1.83726877e-01,\n",
       "       -9.36557889e-01, -2.59083092e-01, -5.61163127e-01, -1.85375357e+00,\n",
       "       -6.91739440e-01, -1.60654187e-02, -1.01688278e+00,  1.01479506e-02,\n",
       "       -3.35463911e-01, -4.72963035e-01, -7.38542497e-01,  1.74713278e+00,\n",
       "       -6.96880162e-01,  1.27922189e+00,  1.30597973e+00,  1.67802584e+00,\n",
       "       -4.46269698e-02, -2.08497286e+00, -6.14055872e-01, -6.78829253e-01,\n",
       "        1.94284952e+00, -2.37398744e-01, -1.18902922e+00, -6.74155414e-01,\n",
       "        2.23779917e+00, -7.93996811e-01,  7.19113708e-01, -5.78299105e-01,\n",
       "        5.35757355e-02,  3.36347729e-01, -1.31413269e+00,  5.98469675e-01,\n",
       "       -9.00952592e-02, -2.28381604e-01, -9.42349434e-02,  1.64667511e+00,\n",
       "       -1.78751206e+00, -1.25734317e+00,  2.62557578e+00, -2.54253417e-01,\n",
       "       -6.78354084e-01,  2.15244651e+00,  4.20100003e-01,  3.07302380e+00,\n",
       "       -1.07344352e-01,  1.34055400e+00,  7.77791664e-02, -1.23301125e+00,\n",
       "       -6.32326484e-01,  5.35960138e-01, -4.68656540e-01,  4.49749857e-01,\n",
       "        1.07303107e+00, -7.34321833e-01, -8.68039846e-01,  2.49409541e-01,\n",
       "       -1.30438530e+00,  1.27942443e+00,  3.46946329e-01, -1.03576934e+00,\n",
       "       -4.04280663e-01, -1.78172922e+00,  2.81850696e-01, -2.98095137e-01,\n",
       "       -5.22341132e-01,  6.74768984e-01, -2.26795897e-01,  2.80886352e-01,\n",
       "       -6.09866798e-01, -9.12911832e-01,  1.63775701e-02,  1.18645167e+00,\n",
       "       -2.55100399e-01,  5.25437534e-01, -8.99620578e-02, -5.86370945e-01,\n",
       "       -3.56228769e-01,  1.60459626e+00, -7.35896409e-01, -1.06207177e-01,\n",
       "        3.35839927e-01,  1.11184227e+00, -1.07866895e+00, -1.44065356e+00,\n",
       "        4.19327587e-01,  1.68049204e+00, -5.92527270e-01,  1.38694644e+00,\n",
       "       -2.65744328e-02,  1.17907941e+00, -1.28203034e+00,  5.95592022e-01,\n",
       "       -6.84192121e-01, -2.30798230e-01, -2.83025414e-01, -4.53263313e-01,\n",
       "       -1.07203436e+00,  1.13958679e-02, -7.60509610e-01, -1.32617056e+00,\n",
       "        8.15978587e-01, -5.89106321e-01, -2.10706741e-01,  2.50463903e-01,\n",
       "        4.87295151e-01, -1.85848057e-01, -1.07911706e+00,  2.15339944e-01,\n",
       "       -1.52209803e-01, -3.86502966e-02, -1.82668027e-02,  1.21750605e+00,\n",
       "       -5.31144917e-01, -1.12955165e+00,  8.87027979e-01, -1.67174542e+00,\n",
       "       -5.34280613e-02,  1.36445105e+00,  3.51249337e-01,  8.31038833e-01,\n",
       "        7.70683885e-01, -7.27830946e-01,  1.12705076e+00,  4.25770462e-01,\n",
       "        1.45458972e+00,  2.07791269e-01,  8.99950027e-01,  2.27213979e-01,\n",
       "        1.12352598e+00, -4.77994353e-01, -1.07545757e+00, -8.77030373e-01,\n",
       "        7.34594241e-02, -8.66244316e-01, -2.09662572e-01,  1.41597426e+00,\n",
       "        2.44352102e-01,  9.88195539e-01,  8.83004725e-01,  1.49365053e-01,\n",
       "        1.13246024e+00, -4.63730425e-01,  1.75828326e+00, -9.73984241e-01,\n",
       "       -2.70163387e-01,  1.33676791e+00, -1.40250182e+00, -8.05921376e-01,\n",
       "        2.65464097e-01, -1.55599296e+00, -7.80122042e-01, -2.38886285e+00,\n",
       "       -3.32035907e-02, -1.16827756e-01, -2.12301821e-01,  1.22615182e+00,\n",
       "        4.78816889e-02, -5.64780295e-01,  3.26383784e-02, -8.78710687e-01,\n",
       "        3.38293970e-01, -1.77576497e-01, -1.05061555e+00, -1.51509106e-01,\n",
       "       -9.01703909e-03, -2.04594040e+00,  2.28521004e-01, -1.53070182e-01,\n",
       "        9.53271270e-01, -5.48213303e-01, -9.06221271e-02, -1.39370829e-01,\n",
       "       -5.50133646e-01,  3.89942706e-01,  5.55050075e-01, -1.69543159e+00,\n",
       "        5.98576367e-02, -8.56910467e-01,  1.89593375e+00,  2.02419758e-01,\n",
       "        1.25016642e+00, -2.51336837e+00,  4.86139327e-01,  4.18080240e-01,\n",
       "        5.06526679e-02,  2.64683545e-01, -8.40258598e-01,  8.34928811e-01,\n",
       "       -3.94824743e-01,  4.64218795e-01,  3.16523835e-02, -9.80074048e-01,\n",
       "        1.63330317e+00, -7.73108900e-01, -4.24544722e-01, -1.00943828e+00,\n",
       "       -4.44292933e-01,  8.70141208e-01, -9.85347778e-02, -1.58214056e+00,\n",
       "        1.69180477e+00,  3.29798050e-02, -6.11764193e-01, -1.22853719e-01,\n",
       "        2.68313169e-01, -2.28416538e+00, -4.47386354e-01,  4.17118758e-01,\n",
       "       -1.71951234e-01,  3.32826423e-03,  2.54002064e-01,  1.27573049e+00,\n",
       "       -8.38738263e-01,  9.51624215e-01,  4.19368058e-01,  1.72323525e+00,\n",
       "        1.69690573e+00,  8.02026629e-01, -1.80639195e+00,  1.10640931e+00,\n",
       "       -1.90667844e+00,  7.39219487e-01, -9.42016184e-01,  6.11535192e-01,\n",
       "        1.27106380e+00, -1.34990323e+00, -3.05984527e-01, -1.05526125e+00,\n",
       "        7.14264333e-01,  1.84965897e+00,  7.78879598e-02, -1.09656787e+00,\n",
       "       -1.10387158e+00, -1.04237586e-01, -9.50517476e-01,  1.09906065e+00,\n",
       "       -4.60371792e-01,  6.07887089e-01,  7.19824433e-01, -7.76733041e-01,\n",
       "        2.25540269e-02,  2.18570590e+00, -8.29349235e-02,  2.71574762e-02,\n",
       "       -2.89113373e-01, -4.47581559e-01,  6.31976008e-01,  7.12653637e-01,\n",
       "       -3.85255367e-01, -2.73876762e+00,  5.95230997e-01, -3.83128256e-01,\n",
       "       -1.57696056e+00,  9.57954109e-01, -1.02527475e+00, -4.68153030e-01,\n",
       "       -3.21826003e-02, -1.44882286e+00, -1.44606575e-01,  4.87497717e-01,\n",
       "        7.42032528e-01,  2.57221252e-01,  2.66910791e-01,  2.87547976e-01,\n",
       "       -6.74257874e-01,  1.05146503e+00, -1.92094707e+00, -3.92238259e-01,\n",
       "        5.14607430e-01, -8.46277237e-01,  7.33779371e-02,  1.51324585e-01,\n",
       "        1.03197825e+00, -1.12480330e+00,  5.61042964e-01, -4.82606024e-01,\n",
       "       -3.29051554e-01,  1.13646770e+00,  6.50731444e-01, -1.20456398e+00,\n",
       "        2.90532708e-01, -8.06374550e-02, -4.73064274e-01, -1.63441107e-01,\n",
       "        3.02784443e-01, -1.87743023e-01, -1.81840748e-01, -9.30643976e-01,\n",
       "        1.34709254e-01,  1.98835933e+00, -6.26477718e-01,  2.25387156e-01,\n",
       "       -2.11655641e+00,  7.49136508e-01,  2.70273864e-01, -8.83338928e-01,\n",
       "       -1.90455186e+00,  3.69732112e-01,  6.83541059e-01, -1.13873208e+00,\n",
       "        1.48306680e+00,  2.27201605e+00,  6.58136368e-01,  5.36548734e-01,\n",
       "        3.86486501e-02,  2.94773459e-01,  1.22275150e+00, -9.52126443e-01,\n",
       "        3.08754593e-01, -9.58253264e-01, -1.61122471e-01, -1.79412752e-01,\n",
       "       -1.54008555e+00,  2.80956000e-01, -1.21677794e-01, -1.35497048e-01,\n",
       "       -7.15690553e-01,  7.50190973e-01, -8.13813567e-01, -8.31380963e-01,\n",
       "        5.85194468e-01,  3.91369462e-01,  1.69875824e+00,  1.32891804e-01,\n",
       "        5.60929000e-01,  3.52446496e-01,  2.72340029e-02, -5.14297843e-01,\n",
       "        1.31794214e+00,  5.18653870e-01, -5.21838725e-01, -2.54809856e+00,\n",
       "        5.11398865e-03,  1.26760495e+00,  3.89332175e-01, -1.28174222e+00,\n",
       "       -7.00836301e-01, -3.16781908e-01,  4.46622401e-01, -2.28674829e-01,\n",
       "        1.18820643e+00, -2.21549734e-01, -3.76395851e-01,  1.14934778e+00,\n",
       "        6.77238405e-01,  4.32174623e-01, -4.96382743e-01,  1.22147655e+00,\n",
       "        8.19316685e-01, -5.65898046e-02, -4.54477251e-01, -7.41902947e-01,\n",
       "       -5.81223905e-01,  6.57708585e-01, -5.17579913e-01,  1.80201101e+00,\n",
       "        1.12102020e+00, -4.29918468e-01, -1.50280869e+00, -7.57817030e-01,\n",
       "       -1.15196705e+00, -9.42199305e-02,  5.46401739e-02,  7.36133635e-01,\n",
       "        8.49705338e-01, -5.92565656e-01, -8.69079530e-01, -7.36984730e-01,\n",
       "        1.24441504e+00,  3.26666057e-01,  3.70696276e-01, -6.86296582e-01,\n",
       "        4.72386509e-01,  1.40805125e+00,  3.14925432e-01,  9.09111440e-01,\n",
       "       -1.26851797e+00, -7.47429252e-01, -4.96584922e-01,  5.48577070e-01,\n",
       "       -2.19386625e+00, -7.50544667e-01, -2.61147827e-01, -8.43823969e-01,\n",
       "        8.58030140e-01,  7.07016960e-02, -4.44337785e-01,  1.63937099e-02,\n",
       "        1.26772118e+00, -1.50792396e+00,  2.40363747e-01, -1.17118679e-01,\n",
       "        1.00463068e+00,  1.58908322e-01,  1.07769930e+00,  1.29359889e+00,\n",
       "        6.35528266e-01,  1.89449155e+00,  6.98526919e-01, -4.01785821e-01,\n",
       "       -1.43315244e+00,  7.73754239e-01,  4.55518991e-01, -1.19417381e+00,\n",
       "        9.55008715e-02,  4.58631158e-01, -1.39146495e+00, -6.70105219e-01,\n",
       "       -8.37835073e-01,  1.22039795e+00, -8.61138642e-01, -9.03054237e-01,\n",
       "       -5.98268270e-01, -4.36148733e-01, -2.43956726e-02, -2.67578006e-01,\n",
       "        7.87533402e-01,  9.52916443e-01, -2.84662098e-01,  2.33967751e-01,\n",
       "        1.35191429e+00,  9.24487233e-01, -7.24415243e-01,  1.68820426e-01,\n",
       "       -1.58353984e+00, -1.02090895e+00, -3.40368301e-01,  1.49286711e+00,\n",
       "       -4.75211561e-01,  9.98286963e-01,  4.34626848e-01, -4.02136952e-01,\n",
       "        1.06296957e+00,  6.79147720e-01, -1.17974706e-01, -3.65534139e+00,\n",
       "       -9.38552916e-01,  1.70124519e+00,  3.05803716e-01, -6.30626738e-01,\n",
       "        2.97024339e-01, -5.01361072e-01, -1.34324908e+00, -1.27206075e+00,\n",
       "        6.81252122e-01, -8.31369936e-01,  7.31077373e-01,  6.76571071e-01,\n",
       "       -9.21512365e-01,  9.65839326e-01,  6.43810153e-01,  6.47076964e-01,\n",
       "        3.54092747e-01, -3.82620603e-01, -5.22224069e-01,  2.31705761e+00,\n",
       "       -4.02657956e-01,  5.79164661e-02, -3.93555552e-01,  6.79358840e-01,\n",
       "       -1.30054843e+00,  6.19068265e-01, -9.06260312e-02,  7.06331372e-01,\n",
       "        7.67012358e-01, -1.60967782e-01,  1.91099674e-01, -1.80050761e-01,\n",
       "       -1.77028561e+00, -2.74598539e-01,  3.15580815e-01, -1.28478050e+00,\n",
       "       -5.49737036e-01,  9.60994512e-02, -4.25963014e-01,  1.91286236e-01,\n",
       "        2.62870479e+00, -3.40230227e-01,  7.58079648e-01,  3.13705564e+00,\n",
       "       -1.48155951e+00, -8.00669551e-01,  1.05250287e+00, -1.61545277e+00,\n",
       "       -1.15365064e+00, -5.30452073e-01, -8.25684488e-01,  5.14729559e-01,\n",
       "        2.99501359e-01, -1.04220593e+00, -1.50797343e+00,  3.31690818e-01,\n",
       "       -1.48969328e+00, -2.33117771e+00,  5.58322668e-01,  1.52905846e+00,\n",
       "       -2.59817362e-01, -5.31392992e-02, -3.05892795e-01, -1.68203521e+00,\n",
       "        4.08957511e-01,  6.30627340e-03, -1.71613348e+00, -8.75934839e-01,\n",
       "        4.05186653e-01, -7.72753537e-01,  1.07531035e+00,  7.70467162e-01,\n",
       "        9.43464339e-01, -4.62546259e-01, -1.17843926e+00, -6.00162754e-03,\n",
       "       -1.13762808e+00, -1.95510209e+00, -4.45702314e-01,  1.45822197e-01,\n",
       "       -9.30749811e-03,  1.14517903e+00,  7.93438911e-01,  4.21230525e-01,\n",
       "       -1.73812788e-02, -3.42045337e-01,  1.11093521e+00,  1.13384521e+00,\n",
       "       -9.61376429e-01,  9.51610565e-01, -1.31826019e+00,  2.16349274e-01,\n",
       "        1.45185661e+00,  5.48378348e-01, -2.79430866e-01, -3.13278735e-01,\n",
       "        1.51651680e+00, -8.25975716e-01,  6.72717273e-01,  2.72566509e+00,\n",
       "       -1.62034512e+00, -2.38381475e-01,  5.26406527e-01,  2.70926327e-01,\n",
       "       -1.10137570e+00, -9.55244064e-01,  5.64029574e-01,  5.12044549e-01,\n",
       "        6.24832094e-01,  3.89235109e-01,  2.90881217e-01,  1.32197511e+00,\n",
       "       -6.31677285e-02, -1.20620894e+00,  7.31807947e-01, -4.62538898e-01,\n",
       "        5.39824665e-01,  2.23079038e+00, -1.07759414e-02, -8.55648518e-01,\n",
       "       -2.44529724e+00, -4.44316328e-01,  8.52463484e-01, -1.81964695e-01,\n",
       "        9.48013783e-01, -2.69064522e+00,  1.28135411e-02, -2.15024203e-01,\n",
       "        3.99494916e-02,  1.78247416e+00, -1.69721156e-01,  1.06401229e-02,\n",
       "        1.44341016e+00,  1.18283592e-01, -2.10824370e-01, -7.33296990e-01,\n",
       "        2.21390337e-01,  4.01468873e-01, -1.08635950e+00,  1.04522097e+00,\n",
       "       -2.27315259e+00,  2.07625777e-01,  9.07238543e-01, -1.94857389e-01,\n",
       "       -2.85458446e-01, -1.51116776e+00, -1.46193218e+00, -1.34519443e-01,\n",
       "        4.36031282e-01,  1.44159007e+00,  2.97943503e-01,  1.97202015e+00,\n",
       "       -1.40286553e+00, -2.52586341e+00,  1.20296466e+00, -8.88004154e-02,\n",
       "        1.86582163e-01, -7.67311335e-01, -8.59973207e-02,  2.31512260e+00,\n",
       "        6.84690058e-01, -1.75118971e+00,  2.69060075e-01, -3.99233289e-02,\n",
       "       -1.84989762e+00,  2.33500063e-01, -7.38361180e-01,  6.57020569e-01,\n",
       "        4.56369370e-02, -8.44329059e-01, -7.83650398e-01, -1.48113143e+00,\n",
       "        2.40000629e+00, -3.79287988e-01,  3.02463204e-01, -8.86442363e-01,\n",
       "        1.13899171e+00, -3.36395949e-01, -8.27583969e-01, -1.81995416e+00,\n",
       "       -1.18067376e-01,  3.57694566e-01,  4.99724329e-01, -1.01991725e+00,\n",
       "        1.54905760e+00,  3.78119022e-01, -3.40498281e+00,  5.15825510e-01,\n",
       "       -2.76071787e-01, -4.29946691e-01, -6.26009941e-01, -1.83241114e-01],      dtype=float32)"
      ]
     },
     "execution_count": 74,
     "metadata": {},
     "output_type": "execute_result"
    }
   ],
   "source": [
    "random.normal(key, (1000,), dtype=jnp.float32)"
   ]
  },
  {
   "cell_type": "code",
   "execution_count": 9,
   "id": "a7f74cfa",
   "metadata": {},
   "outputs": [
    {
     "ename": "TypeError",
     "evalue": "fori_loop() missing 4 required positional arguments: 'lower', 'upper', 'body_fun', and 'init_val'",
     "output_type": "error",
     "traceback": [
      "\u001b[0;31m---------------------------------------------------------------------------\u001b[0m",
      "\u001b[0;31mTypeError\u001b[0m                                 Traceback (most recent call last)",
      "Cell \u001b[0;32mIn[9], line 1\u001b[0m\n\u001b[0;32m----> 1\u001b[0m jax\u001b[39m.\u001b[39;49mlax\u001b[39m.\u001b[39;49mfori_loop()\n",
      "File \u001b[0;32m~/data/software/miniconda3/envs/hssm_gpu/lib/python3.10/site-packages/jax/_src/traceback_util.py:177\u001b[0m, in \u001b[0;36mapi_boundary.<locals>.reraise_with_filtered_traceback\u001b[0;34m(*args, **kwargs)\u001b[0m\n\u001b[1;32m    175\u001b[0m __tracebackhide__ \u001b[39m=\u001b[39m \u001b[39mTrue\u001b[39;00m\n\u001b[1;32m    176\u001b[0m \u001b[39mtry\u001b[39;00m:\n\u001b[0;32m--> 177\u001b[0m   \u001b[39mreturn\u001b[39;00m fun(\u001b[39m*\u001b[39;49margs, \u001b[39m*\u001b[39;49m\u001b[39m*\u001b[39;49mkwargs)\n\u001b[1;32m    178\u001b[0m \u001b[39mexcept\u001b[39;00m \u001b[39mException\u001b[39;00m \u001b[39mas\u001b[39;00m e:\n\u001b[1;32m    179\u001b[0m   mode \u001b[39m=\u001b[39m _filtering_mode()\n",
      "\u001b[0;31mTypeError\u001b[0m: fori_loop() missing 4 required positional arguments: 'lower', 'upper', 'body_fun', and 'init_val'"
     ]
    }
   ],
   "source": [
    "jax.lax.fori_loop()"
   ]
  },
  {
   "cell_type": "code",
   "execution_count": 75,
   "id": "d86cc626",
   "metadata": {},
   "outputs": [
    {
     "ename": "NameError",
     "evalue": "name 'time' is not defined",
     "output_type": "error",
     "traceback": [
      "\u001b[0;31m---------------------------------------------------------------------------\u001b[0m",
      "\u001b[0;31mNameError\u001b[0m                                 Traceback (most recent call last)",
      "Cell \u001b[0;32mIn[75], line 1\u001b[0m\n\u001b[0;32m----> 1\u001b[0m start \u001b[39m=\u001b[39m time()\n\u001b[1;32m      2\u001b[0m \u001b[39mfor\u001b[39;00m i \u001b[39min\u001b[39;00m \u001b[39mrange\u001b[39m(\u001b[39m10\u001b[39m):\n\u001b[1;32m      3\u001b[0m     x \u001b[39m=\u001b[39m (random\u001b[39m.\u001b[39mnormal(key \u001b[39m+\u001b[39m  i \u001b[39m+\u001b[39m \u001b[39m100\u001b[39m, (\u001b[39m20000\u001b[39m, \u001b[39m20000\u001b[39m), dtype\u001b[39m=\u001b[39mjnp\u001b[39m.\u001b[39mfloat32))\n",
      "\u001b[0;31mNameError\u001b[0m: name 'time' is not defined"
     ]
    }
   ],
   "source": [
    "start = time()\n",
    "for i in range(10):\n",
    "    x = (random.normal(key +  i + 100, (20000, 20000), dtype=jnp.float32))\n",
    "end = time()\n",
    "\n",
    "print((end - start) / 10)"
   ]
  },
  {
   "cell_type": "code",
   "execution_count": 12,
   "id": "365bf60e",
   "metadata": {},
   "outputs": [],
   "source": [
    "key = random.PRNGKey(0)\n",
    "dt = 0.001\n",
    "dt_sqrt = jnp.sqrt(dt)\n",
    "drift = jnp.ones((20000, 1)) * 2\n",
    "drift_increment = drift * dt\n",
    "bound_base = jnp.ones((20000, 1)) * 2\n",
    "\n",
    "# for j in range(10):\n",
    "#     start_x = time()\n",
    "#     x = (random.normal(key + 100 + j, (20000, 20000), dtype=jnp.float32)) * dt_sqrt\n",
    "#     end_x = time()\n",
    "#     times_x.append(end_x - start_x)\n",
    "#     for i in range(100):\n",
    "#         print(i, j)\n",
    "#         start = time()\n",
    "#         # x = (random.normal(key + i*j + 100, (20000, 20000), dtype=jnp.float32))\n",
    "#         my_rts.append(prod_rts_from_rng(x, \n",
    "#                       bound = bound_base * bounds[i], dt = dt, drift = drift))\n",
    "#         end = time()\n",
    "#         times.append(end - start)"
   ]
  },
  {
   "cell_type": "code",
   "execution_count": 13,
   "id": "0d54bb02",
   "metadata": {},
   "outputs": [
    {
     "data": {
      "text/plain": [
       "Array([0, 0], dtype=uint32)"
      ]
     },
     "execution_count": 13,
     "metadata": {},
     "output_type": "execute_result"
    }
   ],
   "source": [
    "random.PRNKey()"
   ]
  },
  {
   "cell_type": "code",
   "execution_count": 42,
   "id": "77d0e8c5",
   "metadata": {},
   "outputs": [],
   "source": [
    "from time import time\n",
    "import numpy as np\n",
    "\n",
    "@jax.jit\n",
    "def prod_rts_from_rng(x, bound, dt, drift):\n",
    "    dt_sqrt = jnp.sqrt(dt)\n",
    "    drift_increment = drift * dt\n",
    "    y = jnp.cumsum(x + drift_increment, axis = 1)\n",
    "    rt_ids = jnp.argmax((y > bound) | (y < -bound), axis = 1)\n",
    "    rt_signs = jnp.sign(y[jnp.arange(y.shape[0]), rt_ids])\n",
    "    rts = rt_ids * rt_signs * dt\n",
    "    return rts\n",
    "    # return rts\n",
    "\n",
    "bounds = np.linspace(1, 3, 100).astype(np.float32)\n",
    "my_rts = []\n",
    "times = []\n",
    "times_x = []\n",
    "\n",
    "n_parallel_samples = 20000\n",
    "n_steps = 20000\n",
    "\n",
    "key = random.PRNGKey(0)\n",
    "dt = jnp.float32(0.001)\n",
    "dt_sqrt = jnp.sqrt(dt)\n",
    "drift = jnp.ones((1, n_steps), dtype = jnp.float32) * 2\n",
    "drift_increment = drift * dt\n",
    "bound_base = jnp.ones((1, n_steps), dtype = jnp.float32)\n",
    "x = (random.normal(subkey, (n_parallel_samples, n_steps), dtype=jnp.float32)) * dt_sqrt\n",
    "for j in range(10):\n",
    "    #start_x = time()\n",
    "    key, subkey = random.split(key)\n",
    "    x.at[:,:].set((random.normal(subkey, (n_parallel_samples, n_steps), dtype=jnp.float32)) * dt_sqrt)\n",
    "    #end_x = time()\n",
    "    #times_x.append(end_x - start_x)\n",
    "    for i in range(100):\n",
    "        # print(i, j)\n",
    "        # start = time()\n",
    "        # x = (random.normal(key + i*j + 100, (20000, 20000), dtype=jnp.float32))\n",
    "        my_rts.append(np.array(prod_rts_from_rng(x, \n",
    "                        bound = bound_base * bounds[i], dt = dt, drift = drift)))\n",
    "        # end = time()\n",
    "        # times.append(end - start)"
   ]
  },
  {
   "cell_type": "code",
   "execution_count": null,
   "id": "706c9ebd",
   "metadata": {},
   "outputs": [],
   "source": [
    "\n",
    "# try:\n",
    "#     x = (random.normal(subkey, (n_parallel_samples, n_steps), dtype=jnp.float32)) * dt_sqrt\n",
    "# except Error:\n",
    "#     print(Error. )\n",
    "\n",
    "    \n"
   ]
  },
  {
   "cell_type": "code",
   "execution_count": 35,
   "id": "1aea3aad",
   "metadata": {},
   "outputs": [
    {
     "data": {
      "text/plain": [
       "(array([3.66302691e-04, 7.32605382e-04, 0.00000000e+00, 7.32605382e-04,\n",
       "        1.46521076e-03, 2.19781615e-03, 4.39563229e-03, 5.49454037e-03,\n",
       "        9.15756728e-03, 1.24542915e-02, 1.57510157e-02, 2.38096749e-02,\n",
       "        3.04031234e-02, 1.53847130e-02, 8.79126458e-03, 1.11942102e+00,\n",
       "        1.83444388e+00, 1.42931310e+00, 1.00110525e+00, 6.21981969e-01,\n",
       "        4.23812214e-01, 2.66668359e-01, 1.81686135e-01, 1.18682072e-01,\n",
       "        6.84986032e-02, 4.87182579e-02, 2.78390045e-02, 1.68499238e-02,\n",
       "        1.09890807e-02, 8.42496189e-03, 4.02932960e-03, 5.49454037e-03,\n",
       "        2.93042153e-03, 1.46521076e-03, 1.09890807e-03, 0.00000000e+00,\n",
       "        3.66302691e-04, 7.32605382e-04, 0.00000000e+00, 3.66302691e-04]),\n",
       " array([-1.96903598, -1.83253685, -1.69603772, -1.55953858, -1.42303945,\n",
       "        -1.28654031, -1.15004118, -1.01354205, -0.87704291, -0.74054378,\n",
       "        -0.60404465, -0.46754551, -0.33104638, -0.19454724, -0.05804811,\n",
       "         0.07845102,  0.21495016,  0.35144929,  0.48794842,  0.62444756,\n",
       "         0.76094669,  0.89744582,  1.03394496,  1.17044409,  1.30694323,\n",
       "         1.44344236,  1.57994149,  1.71644063,  1.85293976,  1.98943889,\n",
       "         2.12593803,  2.26243716,  2.3989363 ,  2.53543543,  2.67193456,\n",
       "         2.8084337 ,  2.94493283,  3.08143196,  3.2179311 ,  3.35443023,\n",
       "         3.49092937]),\n",
       " <BarContainer object of 40 artists>)"
      ]
     },
     "execution_count": 35,
     "metadata": {},
     "output_type": "execute_result"
    },
    {
     "data": {
      "image/png": "[encoded data removed]",
      "text/plain": [
       "<Figure size 640x480 with 1 Axes>"
      ]
     },
     "metadata": {},
     "output_type": "display_data"
    }
   ],
   "source": [
    "from matplotlib import pyplot as plt\n",
    "\n",
    "plt.hist(my_rts[0], bins = 40, alpha = 0.3, color = 'blue', density = True)\n",
    "plt.hist(my_rts[99], bins = 40, alpha = 0.3, color = 'blue', density = True)\n",
    "plt.hist(np.squeeze(out_low_bound['rts'] * out_low_bound['choices']), bins = 40, color = 'orange', density = True)"
   ]
  },
  {
   "cell_type": "code",
   "execution_count": 40,
   "id": "74ceb5fa",
   "metadata": {},
   "outputs": [
    {
     "data": {
      "text/plain": [
       "(array([2.02063472e-02, 1.27299987e-01, 3.41150495e-01, 5.55337776e-01,\n",
       "        7.59421882e-01, 7.96130080e-01, 7.71208918e-01, 6.67819775e-01,\n",
       "        5.77227985e-01, 4.84952333e-01, 3.63714250e-01, 3.09830657e-01,\n",
       "        2.46517436e-01, 1.72090724e-01, 1.38413478e-01, 1.00358191e-01,\n",
       "        7.51002571e-02, 5.99454967e-02, 4.20965567e-02, 3.03095208e-02,\n",
       "        2.32372993e-02, 1.91960298e-02, 1.24605808e-02, 1.21238083e-02,\n",
       "        5.05158680e-03, 6.06190416e-03, 4.04126944e-03, 3.70449699e-03,\n",
       "        4.04126944e-03, 3.36772453e-04, 6.73544907e-04, 1.01031736e-03,\n",
       "        6.73544907e-04, 1.34708981e-03, 3.36772453e-04, 1.68386227e-03,\n",
       "        0.00000000e+00, 0.00000000e+00, 0.00000000e+00, 3.36772453e-04]),\n",
       " array([0.34599909, 0.49446729, 0.64293549, 0.79140369, 0.93987189,\n",
       "        1.08834009, 1.23680829, 1.38527649, 1.53374469, 1.68221289,\n",
       "        1.83068109, 1.97914929, 2.12761749, 2.27608569, 2.42455389,\n",
       "        2.57302209, 2.72149029, 2.86995849, 3.01842669, 3.16689489,\n",
       "        3.31536309, 3.46383129, 3.61229949, 3.76076769, 3.90923589,\n",
       "        4.05770409, 4.20617229, 4.3546405 , 4.5031087 , 4.6515769 ,\n",
       "        4.8000451 , 4.9485133 , 5.0969815 , 5.2454497 , 5.3939179 ,\n",
       "        5.5423861 , 5.6908543 , 5.8393225 , 5.9877907 , 6.1362589 ,\n",
       "        6.2847271 ]),\n",
       " <BarContainer object of 40 artists>)"
      ]
     },
     "execution_count": 40,
     "metadata": {},
     "output_type": "execute_result"
    },
    {
     "data": {
      "image/png": "[encoded data removed]",
      "text/plain": [
       "<Figure size 640x480 with 1 Axes>"
      ]
     },
     "metadata": {},
     "output_type": "display_data"
    }
   ],
   "source": [
    "plt.hist(my_rts[0], bins = 40, alpha = 0.3, color = 'blue', density = True)\n",
    "plt.hist(my_rts[99], bins = 40, alpha = 0.3, color = 'orange', density = True)\n",
    "plt.hist(np.squeeze(out_low_bound['rts'] * out_low_bound['choices']), bins = 40, color = 'blue', density = True)\n",
    "plt.hist(np.squeeze(out_high_bound['rts'] * out_high_bound['choices']), bins = 40, color = 'orange', density = True)\n"
   ]
  },
  {
   "cell_type": "code",
   "execution_count": 17,
   "id": "a4553bce",
   "metadata": {},
   "outputs": [
    {
     "data": {
      "text/plain": [
       "array([[1],\n",
       "       [1],\n",
       "       [1],\n",
       "       ...,\n",
       "       [1],\n",
       "       [1],\n",
       "       [1]], dtype=int32)"
      ]
     },
     "execution_count": 17,
     "metadata": {},
     "output_type": "execute_result"
    }
   ],
   "source": [
    "out_low_bound['choices']"
   ]
  },
  {
   "cell_type": "code",
   "execution_count": 25,
   "id": "d76d3006",
   "metadata": {},
   "outputs": [
    {
     "name": "stdout",
     "output_type": "stream",
     "text": [
      "passing through\n",
      "v:  [2.]\n",
      "a:  [1.]\n",
      "z:  [0.5]\n",
      "t:  [0.]\n",
      "passing through\n",
      "v:  [2.]\n",
      "a:  [3.]\n",
      "z:  [0.5]\n",
      "t:  [0.]\n"
     ]
    }
   ],
   "source": [
    "from ssms import basic_simulators as bs\n",
    "\n",
    "out_low_bound = bs.simulator.simulator(theta = [2, 1, 0.5, 0.0], model = 'ddm', n_samples = 20000)\n",
    "out_high_bound = bs.simulator.simulator(theta = [2, 3, 0.5, 0.0], model = 'ddm', n_samples = 20000)"
   ]
  },
  {
   "cell_type": "code",
   "execution_count": null,
   "id": "4ddae47f",
   "metadata": {},
   "outputs": [],
   "source": []
  },
  {
   "cell_type": "code",
   "execution_count": null,
   "id": "0d8ac14a",
   "metadata": {},
   "outputs": [
    {
     "name": "stdout",
     "output_type": "stream",
     "text": [
      "Help on function simulator in module ssms.basic_simulators.simulator:\n",
      "\n",
      "simulator(theta, model='angle', n_samples=1000, delta_t=0.001, max_t=20, no_noise=False, bin_dim=None, bin_pointwise=False, random_state=None)\n",
      "    Basic data simulator for the models included in HDDM.\n",
      "    \n",
      "    Arguments\n",
      "    ---------\n",
      "        theta : list, numpy.array, dict or pd.DataFrame\n",
      "            Parameters of the simulator. If 2d array, each row is treated as a 'trial'\n",
      "            and the function runs n_sample * n_trials simulations.\n",
      "        model: str <default='angle'>\n",
      "            Determines the model that will be simulated.\n",
      "        n_samples: int <default=1000>\n",
      "            Number of simulation runs for each row in the theta argument.\n",
      "        delta_t: float\n",
      "            Size fo timesteps in simulator (conceptually measured in seconds)\n",
      "        max_t: float\n",
      "            Maximum reaction the simulator can reach\n",
      "        no_noise: bool <default=False>\n",
      "            Turn noise of (useful for plotting purposes mostly)\n",
      "        bin_dim: int <default=None>\n",
      "            Number of bins to use (in case the simulator output is\n",
      "            supposed to come out as a count histogram)\n",
      "        bin_pointwise: bool <default=False>\n",
      "            Wheter or not to bin the output data pointwise.\n",
      "            If true the 'RT' part of the data is now specifies the\n",
      "            'bin-number' of a given trial instead of the 'RT' directly.\n",
      "            You need to specify bin_dim as some number for this to work.\n",
      "        random_state: int <default=None>\n",
      "            Integer passed to random_seed function in the simulator.\n",
      "            Can be used for reproducibility.\n",
      "    \n",
      "    Return\n",
      "    ------\n",
      "    dictionary where keys\n",
      "        can be (rts, responses, metadata)\n",
      "        or     (rt-response histogram, metadata)\n",
      "        or     (rts binned pointwise, responses, metadata)\n",
      "\n"
     ]
    }
   ],
   "source": [
    "help(bs.simulator.simulator)"
   ]
  },
  {
   "cell_type": "code",
   "execution_count": null,
   "id": "3305cd9b",
   "metadata": {},
   "outputs": [
    {
     "data": {
      "text/plain": [
       "2.4462798"
      ]
     },
     "execution_count": 57,
     "metadata": {},
     "output_type": "execute_result"
    }
   ],
   "source": [
    "out['rts'].mean()"
   ]
  },
  {
   "cell_type": "code",
   "execution_count": null,
   "id": "4bc98e74",
   "metadata": {},
   "outputs": [
    {
     "name": "stdout",
     "output_type": "stream",
     "text": [
      "Help on module ssms.basic_simulators.simulator in ssms.basic_simulators:\n",
      "\n",
      "NAME\n",
      "    ssms.basic_simulators.simulator\n",
      "\n",
      "FUNCTIONS\n",
      "    bin_arbitrary_fptd(out=None, bin_dt=0.04, nbins=256, nchoices=2, choice_codes=[-1.0, 1.0], max_t=10.0)\n",
      "        Takes in simulator output and returns a histogram of bin counts\n",
      "        Arguments\n",
      "        ---------\n",
      "            out: tuple\n",
      "                Output of the 'simulator' function\n",
      "            bin_dt : float\n",
      "                If nbins is 0, this determines the desired bin size\n",
      "                which in turn automatically determines the resulting number of bins.\n",
      "            nbins : int\n",
      "                Number of bins to bin reaction time data into.\n",
      "                If supplied as 0, bin_dt instead determines the number of\n",
      "                bins automatically.\n",
      "            nchoices: int <default=2>\n",
      "                Number of choices allowed by the simulator.\n",
      "            choice_codes = list <default=[-1.0, 1.0]\n",
      "                Choice labels to be used.\n",
      "            max_t: float\n",
      "                Maximum RT to consider.\n",
      "        \n",
      "        Returns\n",
      "        -------\n",
      "            2d array (nbins, nchoices): A histogram of bin counts\n",
      "    \n",
      "    bin_simulator_output(out=None, bin_dt=0.04, nbins=0, max_t=-1, freq_cnt=False)\n",
      "        Turns RT part of simulator output into bin-identifier by trial\n",
      "        \n",
      "        Arguments\n",
      "        ---------\n",
      "            out : tuple\n",
      "                Output of the 'simulator' function\n",
      "            bin_dt : float\n",
      "                If nbins is 0, this determines the desired\n",
      "                bin size which in turn automatically\n",
      "                determines the resulting number of bins.\n",
      "            nbins : int\n",
      "                Number of bins to bin reaction time data into.\n",
      "                If supplied as 0, bin_dt instead determines the number of\n",
      "                bins automatically.\n",
      "            max_t : int <default=-1>\n",
      "                Override the 'max_t' metadata as part of the simulator output.\n",
      "                Sometimes useful, but usually default will do the job.\n",
      "            freq_cnt : bool <default=False>\n",
      "                Decide whether to return proportions (default) or counts in bins.\n",
      "        \n",
      "        Returns\n",
      "        -------\n",
      "            A histogram of counts or proportions.\n",
      "    \n",
      "    bin_simulator_output_pointwise(out=[0, 0], bin_dt=0.04, nbins=0)\n",
      "        Turns RT part of simulator output into bin-identifier by trial\n",
      "        \n",
      "        Arguments\n",
      "        ---------\n",
      "            out: tuple\n",
      "                Output of the 'simulator' function\n",
      "            bin_dt: float\n",
      "                If nbins is 0, this determines the desired\n",
      "                bin size which in turn automatically\n",
      "                determines the resulting number of bins.\n",
      "            nbins: int\n",
      "                Number of bins to bin reaction time data into.\n",
      "                If supplied as 0, bin_dt instead determines the\n",
      "                number of bins automatically.\n",
      "        \n",
      "        Returns\n",
      "        -------\n",
      "            2d array. The first columns collects bin-identifiers\n",
      "            by trial, the second column lists the corresponding choices.\n",
      "    \n",
      "    simulator(theta, model='angle', n_samples=1000, delta_t=0.001, max_t=20, no_noise=False, bin_dim=None, bin_pointwise=False, random_state=None)\n",
      "        Basic data simulator for the models included in HDDM.\n",
      "        \n",
      "        Arguments\n",
      "        ---------\n",
      "            theta : list, numpy.array, dict or pd.DataFrame\n",
      "                Parameters of the simulator. If 2d array, each row is treated as a 'trial'\n",
      "                and the function runs n_sample * n_trials simulations.\n",
      "            model: str <default='angle'>\n",
      "                Determines the model that will be simulated.\n",
      "            n_samples: int <default=1000>\n",
      "                Number of simulation runs for each row in the theta argument.\n",
      "            delta_t: float\n",
      "                Size fo timesteps in simulator (conceptually measured in seconds)\n",
      "            max_t: float\n",
      "                Maximum reaction the simulator can reach\n",
      "            no_noise: bool <default=False>\n",
      "                Turn noise of (useful for plotting purposes mostly)\n",
      "            bin_dim: int <default=None>\n",
      "                Number of bins to use (in case the simulator output is\n",
      "                supposed to come out as a count histogram)\n",
      "            bin_pointwise: bool <default=False>\n",
      "                Wheter or not to bin the output data pointwise.\n",
      "                If true the 'RT' part of the data is now specifies the\n",
      "                'bin-number' of a given trial instead of the 'RT' directly.\n",
      "                You need to specify bin_dim as some number for this to work.\n",
      "            random_state: int <default=None>\n",
      "                Integer passed to random_seed function in the simulator.\n",
      "                Can be used for reproducibility.\n",
      "        \n",
      "        Return\n",
      "        ------\n",
      "        dictionary where keys\n",
      "            can be (rts, responses, metadata)\n",
      "            or     (rt-response histogram, metadata)\n",
      "            or     (rts binned pointwise, responses, metadata)\n",
      "\n",
      "DATA\n",
      "    model_config = {'angle': {'boundary': <function angle>, 'default_param...\n",
      "\n",
      "FILE\n",
      "    /users/afengler/data/software/miniconda3/envs/hssm_gpu/lib/python3.10/site-packages/ssms/basic_simulators/simulator.py\n",
      "\n",
      "\n"
     ]
    }
   ],
   "source": [
    "help(ssms.basic_simulators.simulator)"
   ]
  },
  {
   "cell_type": "code",
   "execution_count": null,
   "id": "e5eb6a17",
   "metadata": {},
   "outputs": [
    {
     "data": {
      "text/plain": [
       "[<matplotlib.lines.Line2D at 0x7f572d61e5f0>]"
      ]
     },
     "execution_count": 7,
     "metadata": {},
     "output_type": "execute_result"
    },
    {
     "data": {
      "image/png": "[encoded data removed]",
      "text/plain": [
       "<Figure size 640x480 with 1 Axes>"
      ]
     },
     "metadata": {},
     "output_type": "display_data"
    }
   ],
   "source": [
    "from matplotlib import pyplot as plt\n",
    "plt.plot(my_rts[0][0, :200])"
   ]
  },
  {
   "cell_type": "code",
   "execution_count": null,
   "id": "28c9f1f7",
   "metadata": {},
   "outputs": [
    {
     "data": {
      "text/plain": [
       "Array([0.29900002, 0.48700002, 0.312     , ..., 0.316     , 0.20400001,\n",
       "       0.395     ], dtype=float32)"
      ]
     },
     "execution_count": 22,
     "metadata": {},
     "output_type": "execute_result"
    }
   ],
   "source": []
  },
  {
   "cell_type": "code",
   "execution_count": null,
   "id": "5e570345",
   "metadata": {},
   "outputs": [
    {
     "data": {
      "text/plain": [
       "(array([3.100e+01, 1.200e+02, 3.410e+02, 6.790e+02, 8.420e+02, 9.940e+02,\n",
       "        1.015e+03, 9.570e+02, 8.530e+02, 7.380e+02, 6.870e+02, 5.560e+02,\n",
       "        4.690e+02, 3.640e+02, 2.920e+02, 2.300e+02, 1.720e+02, 1.630e+02,\n",
       "        1.100e+02, 9.600e+01, 6.700e+01, 6.200e+01, 2.700e+01, 3.500e+01,\n",
       "        1.700e+01, 2.500e+01, 1.600e+01, 1.000e+01, 8.000e+00, 7.000e+00,\n",
       "        5.000e+00, 2.000e+00, 3.000e+00, 2.000e+00, 2.000e+00, 1.000e+00,\n",
       "        0.000e+00, 0.000e+00, 0.000e+00, 2.000e+00]),\n",
       " array([0.35800001, 0.48717502, 0.61635   , 0.745525  , 0.87470001,\n",
       "        1.00387502, 1.13304996, 1.26222503, 1.39139998, 1.52057505,\n",
       "        1.64974999, 1.77892506, 1.90810001, 2.03727508, 2.16645002,\n",
       "        2.29562497, 2.42480016, 2.55397511, 2.68315005, 2.812325  ,\n",
       "        2.94149995, 3.07067513, 3.19985008, 3.32902503, 3.45819998,\n",
       "        3.58737516, 3.71655011, 3.84572506, 3.97490001, 4.10407495,\n",
       "        4.23325014, 4.36242485, 4.49160004, 4.62077522, 4.74994993,\n",
       "        4.87912512, 5.0083003 , 5.13747501, 5.2666502 , 5.39582491,\n",
       "        5.5250001 ]),\n",
       " <BarContainer object of 40 artists>)"
      ]
     },
     "execution_count": 15,
     "metadata": {},
     "output_type": "execute_result"
    },
    {
     "data": {
      "image/png": "[encoded data removed]",
      "text/plain": [
       "<Figure size 640x480 with 1 Axes>"
      ]
     },
     "metadata": {},
     "output_type": "display_data"
    }
   ],
   "source": [
    "plt.hist(my_rts[0], bins = 40)\n",
    "plt.hist(my_rts[99], bins = 40)"
   ]
  },
  {
   "cell_type": "code",
   "execution_count": null,
   "id": "8dfafd2a",
   "metadata": {},
   "outputs": [],
   "source": [
    "y = random.permutation(key + 1, x, axis = 1)"
   ]
  },
  {
   "cell_type": "code",
   "execution_count": null,
   "id": "88d129b8",
   "metadata": {},
   "outputs": [
    {
     "data": {
      "text/plain": [
       "Array([1, 1], dtype=uint32)"
      ]
     },
     "execution_count": 108,
     "metadata": {},
     "output_type": "execute_result"
    }
   ],
   "source": [
    "key + 1"
   ]
  },
  {
   "cell_type": "code",
   "execution_count": null,
   "id": "3cff756d",
   "metadata": {},
   "outputs": [],
   "source": [
    "pos_rt = jnp.sum((x > 1), axis = 1)\n",
    "neg_rt = jnp.sum((x < -1), axis = 1)"
   ]
  },
  {
   "cell_type": "code",
   "execution_count": null,
   "id": "1d61e555",
   "metadata": {},
   "outputs": [],
   "source": [
    "rt_ids = jnp.argmax((x > 1) | (x < -1), axis = 1)"
   ]
  },
  {
   "cell_type": "code",
   "execution_count": null,
   "id": "62eef783",
   "metadata": {},
   "outputs": [],
   "source": [
    "rt_signs = jnp.sign(x[jnp.arange(x.shape[0]), rt_ids])\n",
    "#rts = "
   ]
  },
  {
   "cell_type": "code",
   "execution_count": null,
   "id": "297a6eac",
   "metadata": {},
   "outputs": [],
   "source": [
    "rts = rt_ids * rt_signs * 0.001"
   ]
  },
  {
   "cell_type": "code",
   "execution_count": null,
   "id": "0fe546a1",
   "metadata": {},
   "outputs": [
    {
     "data": {
      "text/plain": [
       "Array([0.29900002, 0.48700002, 0.312     , ..., 0.316     , 0.20400001,\n",
       "       0.395     ], dtype=float32)"
      ]
     },
     "execution_count": 96,
     "metadata": {},
     "output_type": "execute_result"
    }
   ],
   "source": [
    "#jnp.sum(rt_signs)\n",
    "\n",
    "rts"
   ]
  },
  {
   "cell_type": "code",
   "execution_count": null,
   "id": "39eb6302",
   "metadata": {},
   "outputs": [
    {
     "data": {
      "text/plain": [
       "(10000,)"
      ]
     },
     "execution_count": 69,
     "metadata": {},
     "output_type": "execute_result"
    }
   ],
   "source": [
    "jnp.where(pos_rt > neg_rt)"
   ]
  },
  {
   "cell_type": "code",
   "execution_count": null,
   "id": "2a0264fa",
   "metadata": {},
   "outputs": [
    {
     "data": {
      "text/plain": [
       "(193703590,)"
      ]
     },
     "execution_count": 58,
     "metadata": {},
     "output_type": "execute_result"
    }
   ],
   "source": [
    "my_ids[0]"
   ]
  },
  {
   "cell_type": "code",
   "execution_count": null,
   "id": "a2fa0f68",
   "metadata": {},
   "outputs": [
    {
     "data": {
      "text/plain": [
       "Array([ 1.0185593,  1.0281496,  1.0374309, ..., 44.80053  , 44.770485 ,\n",
       "       44.791817 ], dtype=float32)"
      ]
     },
     "execution_count": 57,
     "metadata": {},
     "output_type": "execute_result"
    }
   ],
   "source": [
    "x[my_ids] * x"
   ]
  },
  {
   "cell_type": "code",
   "execution_count": null,
   "id": "349808a4",
   "metadata": {},
   "outputs": [],
   "source": [
    "#y = jnp.cumsum(z, axis = 1)\n",
    "rts = jnp.sum((x < 1) & (x > -1), axis = 1) / 1000"
   ]
  },
  {
   "cell_type": "code",
   "execution_count": null,
   "id": "79a41435",
   "metadata": {},
   "outputs": [
    {
     "data": {
      "text/plain": [
       "(2, 2, 20000)"
      ]
     },
     "execution_count": 48,
     "metadata": {},
     "output_type": "execute_result"
    }
   ],
   "source": [
    "x[jnp.array([[0,1], [1, 3]])].shape"
   ]
  },
  {
   "cell_type": "code",
   "execution_count": null,
   "id": "cd3eccd9",
   "metadata": {},
   "outputs": [
    {
     "data": {
      "text/plain": [
       "(10000,)"
      ]
     },
     "execution_count": 41,
     "metadata": {},
     "output_type": "execute_result"
    }
   ],
   "source": [
    "#rts.shape"
   ]
  },
  {
   "cell_type": "code",
   "execution_count": null,
   "id": "12f36b3a",
   "metadata": {},
   "outputs": [
    {
     "data": {
      "text/plain": [
       "[<matplotlib.lines.Line2D at 0x7feff4bf1780>]"
      ]
     },
     "execution_count": 36,
     "metadata": {},
     "output_type": "execute_result"
    },
    {
     "data": {
      "image/png": "[encoded data removed]",
      "text/plain": [
       "<Figure size 640x480 with 1 Axes>"
      ]
     },
     "metadata": {},
     "output_type": "display_data"
    }
   ],
   "source": [
    "from matplotlib import pyplot as plt\n",
    "plt.plot(x[0, :1000])\n",
    "plt.plot(x[1, :1000])"
   ]
  },
  {
   "cell_type": "code",
   "execution_count": null,
   "id": "11735e11",
   "metadata": {},
   "outputs": [
    {
     "data": {
      "text/plain": [
       "(array([1.000e+00, 1.000e+00, 1.000e+00, 0.000e+00, 1.000e+00, 2.000e+00,\n",
       "        3.000e+00, 4.000e+00, 4.000e+00, 6.000e+00, 1.500e+01, 1.700e+01,\n",
       "        1.800e+01, 2.300e+01, 4.100e+01, 2.500e+01, 4.000e+00, 3.070e+02,\n",
       "        1.878e+03, 2.240e+03, 1.640e+03, 1.188e+03, 8.050e+02, 5.610e+02,\n",
       "        3.940e+02, 2.490e+02, 1.900e+02, 1.330e+02, 8.200e+01, 6.200e+01,\n",
       "        3.100e+01, 2.700e+01, 1.400e+01, 1.100e+01, 6.000e+00, 5.000e+00,\n",
       "        7.000e+00, 3.000e+00, 0.000e+00, 1.000e+00]),\n",
       " array([-2.05400014, -1.93262517, -1.81125009, -1.68987513, -1.56850016,\n",
       "        -1.44712508, -1.32575011, -1.20437515, -1.08300006, -0.9616251 ,\n",
       "        -0.84025007, -0.71887505, -0.59750009, -0.47612506, -0.35475004,\n",
       "        -0.23337504, -0.11200003,  0.00937497,  0.13074997,  0.25212499,\n",
       "         0.37349999,  0.49487498,  0.61624998,  0.737625  ,  0.85900003,\n",
       "         0.98037505,  1.10175002,  1.22312498,  1.34450006,  1.46587503,\n",
       "         1.58724999,  1.70862508,  1.83000004,  1.95137513,  2.07275009,\n",
       "         2.19412518,  2.31550002,  2.4368751 ,  2.55825019,  2.67962503,\n",
       "         2.80100012]),\n",
       " <BarContainer object of 40 artists>)"
      ]
     },
     "execution_count": 100,
     "metadata": {},
     "output_type": "execute_result"
    },
    {
     "data": {
      "image/png": "[encoded data removed]",
      "text/plain": [
       "<Figure size 640x480 with 1 Axes>"
      ]
     },
     "metadata": {},
     "output_type": "display_data"
    }
   ],
   "source": [
    "plt.hist(rts,  bins = 40)"
   ]
  },
  {
   "cell_type": "markdown",
   "id": "05b79a06-be99-41fb-8fc0-2f10af5b2339",
   "metadata": {},
   "source": [
    "#### Using `jit()`"
   ]
  },
  {
   "cell_type": "code",
   "execution_count": null,
   "id": "69765742",
   "metadata": {},
   "outputs": [],
   "source": []
  },
  {
   "cell_type": "code",
   "execution_count": null,
   "id": "1916b8e5-e357-4099-a42f-7b1a5756d87a",
   "metadata": {},
   "outputs": [
    {
     "name": "stdout",
     "output_type": "stream",
     "text": [
      "1.98 ms ± 204 µs per loop (mean ± std. dev. of 7 runs, 1000 loops each)\n"
     ]
    }
   ],
   "source": [
    "def selu(x, alpha = 1.67, lmbda=1.05):\n",
    "    return lmbda * jnp.where(x > 0, x, alpha * jnp.exp(x) - alpha)\n",
    "\n",
    "x = random.normal(key, (1000000, ))\n",
    "%timeit selu(x).block_until_ready()"
   ]
  },
  {
   "cell_type": "code",
   "execution_count": null,
   "id": "63a89ed5-13c8-4b52-97ed-36ad1fe2533c",
   "metadata": {},
   "outputs": [
    {
     "name": "stdout",
     "output_type": "stream",
     "text": [
      "403 µs ± 7.92 µs per loop (mean ± std. dev. of 7 runs, 1000 loops each)\n"
     ]
    }
   ],
   "source": [
    "selu_jit = jit(selu)\n",
    "%timeit selu_jit(x).block_until_ready()"
   ]
  },
  {
   "cell_type": "code",
   "execution_count": null,
   "id": "56c178b6-a460-4033-92ed-7b6505c06f91",
   "metadata": {},
   "outputs": [
    {
     "name": "stdout",
     "output_type": "stream",
     "text": [
      "[0.25       0.19661197 0.10499357]\n"
     ]
    }
   ],
   "source": [
    "def sum_logistic(x):\n",
    "    return jnp.sum(1.0 / (1.0 + jnp.exp(-x)))\n",
    "\n",
    "x_small = jnp.arange(3.)\n",
    "\n",
    "derivative_fn = grad(sum_logistic)\n",
    "\n",
    "print(derivative_fn(x_small))"
   ]
  },
  {
   "cell_type": "code",
   "execution_count": null,
   "id": "3cd0f415-a0c2-43df-bd69-0d94c0b2c109",
   "metadata": {},
   "outputs": [
    {
     "data": {
      "text/plain": [
       "DeviceArray([0., 1., 2.], dtype=float32)"
      ]
     },
     "execution_count": 9,
     "metadata": {},
     "output_type": "execute_result"
    }
   ],
   "source": [
    "jnp.arange(3.)"
   ]
  },
  {
   "cell_type": "markdown",
   "id": "4201f01e-00fe-4a3a-a1a6-8eea349fe78a",
   "metadata": {},
   "source": [
    "#### Using `vmap()`"
   ]
  },
  {
   "cell_type": "code",
   "execution_count": null,
   "id": "aeb4f9fe-a4de-4479-aabf-e3fd1e2dd5be",
   "metadata": {},
   "outputs": [],
   "source": [
    "mat = random.normal(key, (150, 100))\n",
    "batched_x = random.normal(key, (10, 100))\n",
    "\n",
    "def apply_matrix(v):\n",
    "    return jnp.dot(mat, v)"
   ]
  },
  {
   "cell_type": "code",
   "execution_count": null,
   "id": "ef752280-55bf-4e9c-b39d-9abae3c012b0",
   "metadata": {},
   "outputs": [],
   "source": [
    "def naively_batched_apply_matrix(v_batched):\n",
    "    return jnp.stack([apply_matrix(v) for v in v_batched])"
   ]
  },
  {
   "cell_type": "code",
   "execution_count": null,
   "id": "b444c06b-f991-4c12-ad6a-40548bdc4742",
   "metadata": {},
   "outputs": [
    {
     "name": "stdout",
     "output_type": "stream",
     "text": [
      "1.4 ms ± 3.22 µs per loop (mean ± std. dev. of 7 runs, 1000 loops each)\n"
     ]
    }
   ],
   "source": [
    "%timeit naively_batched_apply_matrix(batched_x).block_until_ready()"
   ]
  },
  {
   "cell_type": "code",
   "execution_count": null,
   "id": "07a77ae3-68b0-4df4-9cff-d92da3b978cd",
   "metadata": {},
   "outputs": [],
   "source": []
  },
  {
   "cell_type": "markdown",
   "id": "e45d2ad9-55e0-48eb-a63b-d16902122b85",
   "metadata": {},
   "source": [
    "#### A simple Training loop in JAX"
   ]
  },
  {
   "cell_type": "code",
   "execution_count": null,
   "id": "7533dc00-821a-408c-a118-c20a04708fad",
   "metadata": {},
   "outputs": [
    {
     "data": {
      "text/plain": [
       "<matplotlib.collections.PathCollection at 0x7f51583be550>"
      ]
     },
     "execution_count": 18,
     "metadata": {},
     "output_type": "execute_result"
    },
    {
     "data": {
      "image/png": "[encoded data removed]",
      "text/plain": [
       "<Figure size 432x288 with 1 Axes>"
      ]
     },
     "metadata": {
      "needs_background": "light"
     },
     "output_type": "display_data"
    }
   ],
   "source": [
    "import numpy as np\n",
    "import matplotlib.pyplot as plt\n",
    "\n",
    "xs = np.random.normal(size = (100, ))\n",
    "noise = np.random.normal(scale = 0.1, size = (100, ))\n",
    "ys = xs * 3 - 1 + noise\n",
    "\n",
    "plt.scatter(xs, ys)"
   ]
  },
  {
   "cell_type": "code",
   "execution_count": null,
   "id": "7e5ba0e4-f6a6-432c-9a45-5ed8230df3be",
   "metadata": {},
   "outputs": [],
   "source": [
    "def model(theta, x):\n",
    "    \"\"\"Computes wx + b on a batch of input x.\"\"\"\n",
    "    w, b = theta\n",
    "    return w * x + b"
   ]
  },
  {
   "cell_type": "code",
   "execution_count": null,
   "id": "fa11c6fd-3837-49bd-a0da-3970b50a9b1d",
   "metadata": {},
   "outputs": [],
   "source": [
    "def loss_fn(theta, x, y):\n",
    "    prediction = model(theta, x)\n",
    "    return jnp.mean((prediction - y) ** 2)"
   ]
  },
  {
   "cell_type": "code",
   "execution_count": null,
   "id": "dcdec31c-f330-4cf0-bbd0-ad15e05f5172",
   "metadata": {},
   "outputs": [],
   "source": [
    "def update(theta, x, y, lr=0.1):\n",
    "    return theta - lr * jax.grad(loss_fn)(theta, x, y)"
   ]
  },
  {
   "cell_type": "code",
   "execution_count": null,
   "id": "f8fc8c22-7f5b-447d-a5b7-93acc7124cf5",
   "metadata": {},
   "outputs": [
    {
     "name": "stdout",
     "output_type": "stream",
     "text": [
      "w: 3.00, b: -1.02\n"
     ]
    },
    {
     "data": {
      "image/png": "[encoded data removed]",
      "text/plain": [
       "<Figure size 432x288 with 1 Axes>"
      ]
     },
     "metadata": {
      "needs_background": "light"
     },
     "output_type": "display_data"
    }
   ],
   "source": [
    "theta = jnp.array([0., 0.])\n",
    "for _ in range(50):\n",
    "  theta = update(theta, xs, ys)\n",
    "  plt.plot(xs, model(theta, xs), alpha = 0.10, color = 'black')\n",
    "\n",
    "plt.scatter(xs, ys, color = 'yellow', alpha = 0.5)\n",
    "\n",
    "w, b = theta\n",
    "print(f\"w: {w:<.2f}, b: {b:<.2f}\")"
   ]
  },
  {
   "cell_type": "markdown",
   "id": "0c00da9e-e8b6-4077-a701-4b5be1bb1827",
   "metadata": {},
   "source": [
    "#### Higher Order Derivatives\n",
    "\n",
    "##### Scalar case"
   ]
  },
  {
   "cell_type": "code",
   "execution_count": null,
   "id": "0deff26d-1e14-4bd3-bccd-8be27c66fa01",
   "metadata": {},
   "outputs": [],
   "source": [
    "f = lambda x: x**3 + 2*x**2 - 3*x + 1\n",
    "dfdx = jax.grad(f)\n",
    "d2fdx = jax.grad(dfdx)"
   ]
  },
  {
   "cell_type": "code",
   "execution_count": null,
   "id": "d759a3eb-c788-4b46-b113-0cdd26cf2c3e",
   "metadata": {},
   "outputs": [
    {
     "name": "stdout",
     "output_type": "stream",
     "text": [
      "4.0\n",
      "10.0\n"
     ]
    }
   ],
   "source": [
    "print(dfdx(1.0))\n",
    "print(d2fdx(1.0))"
   ]
  },
  {
   "cell_type": "markdown",
   "id": "5112e66d-be1a-475d-86d1-b330ae050c35",
   "metadata": {},
   "source": [
    "##### Multivariate case"
   ]
  },
  {
   "cell_type": "code",
   "execution_count": null,
   "id": "3d0c8d6e-aeee-4040-9657-b1b933356c89",
   "metadata": {},
   "outputs": [],
   "source": [
    "def hessian(f):\n",
    "    return jax.jacfwd(jax.grad(f))\n",
    "\n",
    "def hessian_naive(f):\n",
    "    return jax.jacrev(jax.grad(f))"
   ]
  },
  {
   "cell_type": "code",
   "execution_count": null,
   "id": "1ed0341b-5249-4758-9686-e299cab52b92",
   "metadata": {},
   "outputs": [],
   "source": [
    "def f(x):\n",
    "    return jnp.dot(x, x)"
   ]
  },
  {
   "cell_type": "code",
   "execution_count": null,
   "id": "be1f70b9-68f4-43d4-943a-b96e4c1924a0",
   "metadata": {},
   "outputs": [
    {
     "name": "stdout",
     "output_type": "stream",
     "text": [
      "2.97 ms ± 30.8 µs per loop (mean ± std. dev. of 7 runs, 100 loops each)\n"
     ]
    }
   ],
   "source": [
    "%timeit hessian(f)(jnp.array([1., 2., 3.]))"
   ]
  },
  {
   "cell_type": "code",
   "execution_count": null,
   "id": "4fcc76e2-8d33-4ace-b9af-7f405422b74c",
   "metadata": {},
   "outputs": [
    {
     "name": "stdout",
     "output_type": "stream",
     "text": [
      "3.77 ms ± 56.5 µs per loop (mean ± std. dev. of 7 runs, 100 loops each)\n"
     ]
    }
   ],
   "source": [
    "%timeit hessian_naive(f)(jnp.array([1., 2., 3.]))"
   ]
  },
  {
   "cell_type": "markdown",
   "id": "a5b863b3-3a6d-481e-b1a9-57ba8e39a22c",
   "metadata": {},
   "source": [
    "#### Random Numbers"
   ]
  },
  {
   "cell_type": "code",
   "execution_count": null,
   "id": "a00f4494-ec19-4751-bde2-4373d9ab5abd",
   "metadata": {},
   "outputs": [
    {
     "name": "stdout",
     "output_type": "stream",
     "text": [
      "[ 0 42]\n"
     ]
    }
   ],
   "source": [
    "from jax import random\n",
    "\n",
    "key = random.PRNGKey(42)\n",
    "print(key)"
   ]
  },
  {
   "cell_type": "code",
   "execution_count": null,
   "id": "b76071b5-b59c-4f9a-b15d-7be246e27d41",
   "metadata": {},
   "outputs": [
    {
     "name": "stdout",
     "output_type": "stream",
     "text": [
      "-0.18471177\n",
      "-0.18471177\n"
     ]
    }
   ],
   "source": [
    "print(random.normal(key))\n",
    "print(random.normal(key))"
   ]
  },
  {
   "cell_type": "markdown",
   "id": "731ad69b-4159-4568-887a-72b7c0f9a3ab",
   "metadata": {},
   "source": [
    "Instead of reusing keys, we want to generate new keys all the time."
   ]
  },
  {
   "cell_type": "code",
   "execution_count": null,
   "id": "a88c882f-40f8-45e0-b37e-1de67165aa0b",
   "metadata": {},
   "outputs": [
    {
     "name": "stdout",
     "output_type": "stream",
     "text": [
      "old key [ 0 42]\n",
      "    \\---SPLIT --> new key    [2465931498 3679230171]\n",
      "             \\--> new subkey [255383827 267815257] --> normal 1.3694694\n"
     ]
    }
   ],
   "source": [
    "print(\"old key\", key)\n",
    "new_key, subkey = random.split(key)\n",
    "del key  # The old key is discarded -- we must never use it again.\n",
    "normal_sample = random.normal(subkey)\n",
    "print(r\"    \\---SPLIT --> new key   \", new_key)\n",
    "print(r\"             \\--> new subkey\", subkey, \"--> normal\", normal_sample)\n",
    "del subkey  # The subkey is also discarded after use.\n",
    "\n",
    "# Note: you don't actually need to `del` keys -- that's just for emphasis.\n",
    "# Not reusing the same values is enough.\n",
    "\n",
    "key = new_key  # If we wanted to do this again, we would use new_key as the key."
   ]
  },
  {
   "cell_type": "markdown",
   "id": "166a6397-7328-499e-abfb-f81d658eae8e",
   "metadata": {},
   "source": [
    "One more example illustrating key behavior."
   ]
  },
  {
   "cell_type": "code",
   "execution_count": null,
   "id": "4cf5e532-fe0e-41c8-bbc3-34710353011c",
   "metadata": {},
   "outputs": [
    {
     "name": "stdout",
     "output_type": "stream",
     "text": [
      "individually: [-0.04838832  0.10796154 -1.2226542 ]\n",
      "all at once:  [ 0.18693547 -1.2806505  -1.5593132 ]\n"
     ]
    }
   ],
   "source": [
    "key = random.PRNGKey(42)\n",
    "subkeys = random.split(key, 3)\n",
    "sequence = np.stack([random.normal(subkey) for subkey in subkeys])\n",
    "print(\"individually:\", sequence)\n",
    "\n",
    "key = random.PRNGKey(42)\n",
    "print(\"all at once: \", random.normal(key, shape=(3,)))"
   ]
  },
  {
   "cell_type": "markdown",
   "id": "15574162-6edb-432b-a758-0a7978e44049",
   "metadata": {},
   "source": [
    "#### pytree s"
   ]
  },
  {
   "cell_type": "code",
   "execution_count": null,
   "id": "88cdf852-17ab-4593-9d29-09d506c74208",
   "metadata": {},
   "outputs": [
    {
     "name": "stdout",
     "output_type": "stream",
     "text": [
      "[1, 'a', <object object at 0x7f508dec4850>]   has 3 leaves: [1, 'a', <object object at 0x7f508dec4850>]\n",
      "(1, (2, 3), ())                               has 3 leaves: [1, 2, 3]\n",
      "[1, {'k1': 2, 'k2': (3, 4)}, 5]               has 5 leaves: [1, 2, 3, 4, 5]\n",
      "{'a': 2, 'b': (2, 3)}                         has 3 leaves: [2, 2, 3]\n",
      "DeviceArray([1, 2, 3], dtype=int32)           has 1 leaves: [DeviceArray([1, 2, 3], dtype=int32)]\n"
     ]
    }
   ],
   "source": [
    "import jax\n",
    "import jax.numpy as jnp\n",
    "\n",
    "example_trees = [\n",
    "                    [1, 'a', object()],\n",
    "                    (1, (2, 3), ()),\n",
    "                    [1, {'k1': 2, 'k2': (3, 4)}, 5],\n",
    "                    {'a': 2, 'b': (2, 3)},\n",
    "                    jnp.array([1, 2, 3]),\n",
    "                 ]\n",
    "\n",
    "# Let's see how many leaves they have:\n",
    "for pytree in example_trees:\n",
    "  leaves = jax.tree_leaves(pytree)\n",
    "  print(f\"{repr(pytree):<45} has {len(leaves)} leaves: {leaves}\")"
   ]
  },
  {
   "cell_type": "markdown",
   "id": "1dd3f0ac-14c3-42b9-9c4c-c33383e164bd",
   "metadata": {},
   "source": [
    "#### pytrees for MLP training"
   ]
  },
  {
   "cell_type": "code",
   "execution_count": null,
   "id": "c8661012-587a-4434-b16b-74d22516f451",
   "metadata": {},
   "outputs": [],
   "source": [
    "import numpy as np\n",
    "\n",
    "def init_mlp_params(layer_widths):\n",
    "    params = []\n",
    "    for n_in, n_out in zip(layer_widths[:-1], layer_widths[1:]):\n",
    "        params.append(\n",
    "            dict(weights=np.random.normal(size=(n_in, n_out)) * np.sqrt(2/n_in),\n",
    "                 biases=np.ones(shape=(n_out,))\n",
    "                )\n",
    "        )\n",
    "    return params\n",
    "\n",
    "params = init_mlp_params([1, 128, 128, 1])"
   ]
  },
  {
   "cell_type": "code",
   "execution_count": null,
   "id": "617735bb-5897-4dd7-a1b7-b5f358b13d95",
   "metadata": {},
   "outputs": [
    {
     "data": {
      "text/plain": [
       "[{'biases': (128,), 'weights': (1, 128)},\n",
       " {'biases': (128,), 'weights': (128, 128)},\n",
       " {'biases': (1,), 'weights': (128, 1)}]"
      ]
     },
     "execution_count": 82,
     "metadata": {},
     "output_type": "execute_result"
    }
   ],
   "source": [
    "jax.tree_map(lambda x: x.shape, params)"
   ]
  },
  {
   "cell_type": "code",
   "execution_count": null,
   "id": "9f31281a-24a6-403d-ac76-098152f87900",
   "metadata": {},
   "outputs": [],
   "source": [
    "def forward(params, x):\n",
    "    *hidden, last = params\n",
    "    for layer in hidden:\n",
    "        x = jax.nn.relu(x @ layer['weights'] + layer['biases'])\n",
    "    return x @ last['weights'] + last['biases']\n",
    "\n",
    "def loss_fn(params, x, y):\n",
    "    return jnp.mean((forward(params, x) - y) ** 2)\n",
    "\n",
    "LEARNING_RATE = 0.0001\n",
    "\n",
    "@jax.jit\n",
    "def update(params, x, y):\n",
    "    grads = jax.grad(loss_fn)(params, x, y)\n",
    "    # Note that `grads` is a pytree with the same structure as `params`.\n",
    "    # `jax.grad` is one of the many JAX functions that has\n",
    "    # built-in support for pytrees.\n",
    "\n",
    "    # This is handy, because we can apply the SGD update using tree utils:\n",
    "    return jax.tree_map(lambda p, \n",
    "                        g: p - LEARNING_RATE * g, \n",
    "                        params, \n",
    "                        grads)"
   ]
  },
  {
   "cell_type": "code",
   "execution_count": null,
   "id": "7d353e23-3424-45ce-8d97-a077b53f1dce",
   "metadata": {},
   "outputs": [
    {
     "name": "stderr",
     "output_type": "stream",
     "text": [
      "WARNING:matplotlib.legend:No handles with labels found to put in legend.\n"
     ]
    },
    {
     "data": {
      "image/png": "[encoded data removed]",
      "text/plain": [
       "<Figure size 432x288 with 1 Axes>"
      ]
     },
     "metadata": {
      "needs_background": "light"
     },
     "output_type": "display_data"
    }
   ],
   "source": [
    "import matplotlib.pyplot as plt\n",
    "\n",
    "params = init_mlp_params([1, 128, 128, 1])\n",
    "\n",
    "xs = np.random.normal(size=(128, 1))\n",
    "ys = xs ** 2\n",
    "\n",
    "for _ in range(100):\n",
    "  params = update(params, xs, ys)\n",
    "  plt.scatter(xs, forward(params, xs), alpha = (10 + i) / 110, marker = '.',\n",
    "             color = 'black')\n",
    "\n",
    "plt.scatter(xs, ys, marker = '+', color = 'red')\n",
    "#plt.scatter(xs, forward(params, xs), label='Model prediction')\n",
    "plt.legend();"
   ]
  },
  {
   "cell_type": "markdown",
   "id": "cd68fdab-9bb5-4e36-bb74-389f5d103391",
   "metadata": {},
   "source": [
    "#### transposing pytrees"
   ]
  },
  {
   "cell_type": "code",
   "execution_count": null,
   "id": "def8de80-d2f2-42d3-85f3-21e5b402923f",
   "metadata": {},
   "outputs": [
    {
     "data": {
      "text/plain": [
       "{'obs': [3, 4], 't': [1, 2]}"
      ]
     },
     "execution_count": 109,
     "metadata": {},
     "output_type": "execute_result"
    }
   ],
   "source": [
    "def tree_transpose(list_of_trees):\n",
    "  \"\"\"Convert a list of trees of identical structure into a single tree of lists.\"\"\"\n",
    "  return jax.tree_map(lambda *xs: list(xs), *list_of_trees)\n",
    "\n",
    "# Convert a dataset from row-major to column-major:\n",
    "episode_steps = [dict(t=1, obs=3), dict(t=2, obs=4)]\n",
    "tree_transpose(episode_steps)"
   ]
  },
  {
   "cell_type": "code",
   "execution_count": null,
   "id": "7fd8a12e-7cae-4e69-8af3-0c380d33277d",
   "metadata": {},
   "outputs": [
    {
     "ename": "SyntaxError",
     "evalue": "starred assignment target must be in a list or tuple (<ipython-input-106-b302c791ec12>, line 4)",
     "output_type": "error",
     "traceback": [
      "\u001b[0;36m  File \u001b[0;32m\"<ipython-input-106-b302c791ec12>\"\u001b[0;36m, line \u001b[0;32m4\u001b[0m\n\u001b[0;31mSyntaxError\u001b[0m\u001b[0;31m:\u001b[0m starred assignment target must be in a list or tuple\n"
     ]
    }
   ],
   "source": [
    "*lot = episode_steps"
   ]
  },
  {
   "cell_type": "markdown",
   "id": "196c7624-8f2b-4256-b074-4b26ac0b7b55",
   "metadata": {},
   "source": []
  }
 ],
 "metadata": {
  "kernelspec": {
   "display_name": "hssm_gpu",
   "language": "python",
   "name": "hssm_gpu"
  },
  "language_info": {
   "codemirror_mode": {
    "name": "ipython",
    "version": 3
   },
   "file_extension": ".py",
   "mimetype": "text/x-python",
   "name": "python",
   "nbconvert_exporter": "python",
   "pygments_lexer": "ipython3",
   "version": "3.10.13"
  }
 },
 "nbformat": 4,
 "nbformat_minor": 5
}
